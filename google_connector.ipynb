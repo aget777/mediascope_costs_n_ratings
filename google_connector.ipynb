{
 "cells": [
  {
   "cell_type": "code",
   "execution_count": 1,
   "id": "ccf48e16-1232-4d3a-bb65-138a9d79eac1",
   "metadata": {},
   "outputs": [],
   "source": [
    "import gspread\n",
    "from oauth2client.service_account import ServiceAccountCredentials\n",
    "\n",
    "import config\n",
    "from db_funcs import get_mssql_table\n",
    "\n"
   ]
  },
  {
   "cell_type": "code",
   "execution_count": 2,
   "id": "45e80fc7-aebd-446f-aba1-f273844243b0",
   "metadata": {},
   "outputs": [],
   "source": [
    "# функция для того, чтобы создать подключение к Гугл докс\n",
    "def create_connection(service_file):\n",
    "    client = None\n",
    "    scope = [\n",
    "        \"https://www.googleapis.com/auth/drive\",\n",
    "        \"https://www.googleapis.com/auth/drive.file\",\n",
    "    ]\n",
    "    try:\n",
    "        credentials = ServiceAccountCredentials.from_json_keyfile_name(\n",
    "            service_file, scope\n",
    "        )\n",
    "        client = gspread.authorize(credentials)\n",
    "        print(\"Connection established successfully...\")\n",
    "    except Exception as e:\n",
    "        print(e)\n",
    "    return client"
   ]
  },
  {
   "cell_type": "code",
   "execution_count": 3,
   "id": "18aa6f23-233b-47a9-8cbb-7f7fe97f7bb4",
   "metadata": {},
   "outputs": [],
   "source": [
    "# функция для загрузки данных в гугл таблицу\n",
    "def export_dataframe_to_google_sheet(worksheet, df):\n",
    "    try:\n",
    "        worksheet.update(\n",
    "            [df.columns.values.tolist()] + df.values.tolist(),\n",
    "            \n",
    "        )\n",
    "        print(\"DataFrame exported successfully...\")\n",
    "    except Exception as e:\n",
    "        print(e)"
   ]
  },
  {
   "cell_type": "code",
   "execution_count": 4,
   "id": "05c5314f-ef1f-43dc-a1fc-942484a297f1",
   "metadata": {},
   "outputs": [],
   "source": [
    "# с помощью этой функции делаем выгрузку новых объявлений на отдельный лист \n",
    "# эту функцию запускаем в самом конце после обновлений всех таблиц\n",
    "# она затирает все данные, которые были на листе и записывает заново только новые объявления\n",
    "\n",
    "def append_ads_to_google():\n",
    "    # делаем запрос к БД, чтобы получить новые объявления\n",
    "    query = f\"select *  from {config.nat_tv_ad_dict} where cleaning_flag=2\"\n",
    "    nat_tv_new_ad_dict_df = get_mssql_table(config.db_name, query=query)\n",
    "    # создаем подключение к гуглу\n",
    "    client = create_connection(config.service)\n",
    "    # прописываем доступы к документу, в который будем вносить запись\n",
    "    sh = client.open_by_url(config.google_docs_link)\n",
    "    sh.share(config.gmail, perm_type='user', role='writer')\n",
    "    google_sheet = sh.worksheet(config.new_ads_sheet)\n",
    "    # очищаем лист\n",
    "    google_sheet.clear()\n",
    "    # записываем новые данные\n",
    "    export_dataframe_to_google_sheet(google_sheet, nat_tv_new_ad_dict_df)"
   ]
  },
  {
   "cell_type": "code",
   "execution_count": 5,
   "id": "fe4f77de-b11c-49e6-9799-3fd164981744",
   "metadata": {},
   "outputs": [
    {
     "name": "stdout",
     "output_type": "stream",
     "text": [
      "Все ок. Подключились!\n",
      "Загрузка завершена успешно\n",
      "Connection established successfully...\n",
      "DataFrame exported successfully...\n"
     ]
    }
   ],
   "source": [
    "# append_ads_to_google()"
   ]
  },
  {
   "cell_type": "code",
   "execution_count": null,
   "id": "6eb84676-3899-4a1c-bb48-2eea2723d2f8",
   "metadata": {},
   "outputs": [],
   "source": []
  },
  {
   "cell_type": "code",
   "execution_count": null,
   "id": "101f3117-0dcd-41d7-af0b-efc654a93ded",
   "metadata": {},
   "outputs": [],
   "source": []
  },
  {
   "cell_type": "code",
   "execution_count": null,
   "id": "dc2a5316-743b-4148-916b-7f27c00e9d2f",
   "metadata": {},
   "outputs": [],
   "source": []
  }
 ],
 "metadata": {
  "kernelspec": {
   "display_name": "Python 3 (ipykernel)",
   "language": "python",
   "name": "python3"
  },
  "language_info": {
   "codemirror_mode": {
    "name": "ipython",
    "version": 3
   },
   "file_extension": ".py",
   "mimetype": "text/x-python",
   "name": "python",
   "nbconvert_exporter": "python",
   "pygments_lexer": "ipython3",
   "version": "3.11.7"
  }
 },
 "nbformat": 4,
 "nbformat_minor": 5
}
