{
 "cells": [
  {
   "cell_type": "code",
   "execution_count": 1,
   "id": "3e22073d-d5e2-453d-b1a8-8c54c8c029bd",
   "metadata": {},
   "outputs": [],
   "source": [
    "import warnings\n",
    "\n",
    "import pandas as pd\n",
    "import numpy as np\n",
    "from sqlalchemy import create_engine\n",
    "import pyodbc\n",
    "import turbodbc\n",
    "from turbodbc import connect\n",
    "\n",
    "\n",
    "import config\n",
    "import config_media_costs\n",
    "from normalize_funcs import normalize_columns_types\n",
    "from create_dicts import get_cleaning_dict\n",
    "from db_funcs import createDBTable, downloadTableToDB, get_mssql_table\n",
    "\n",
    "\n",
    "db_name = config.db_name"
   ]
  },
  {
   "cell_type": "code",
   "execution_count": 22,
   "id": "9e6f969f-0199-4c80-87c5-9525df8a2b14",
   "metadata": {},
   "outputs": [],
   "source": [
    "# Включаем отображение всех колонок\n",
    "pd.set_option('display.max_columns', None)\n",
    "# Задаем ширину столбцов по контенту\n",
    "pd.set_option('display.max_colwidth', None)\n",
    "pd.set_option('display.max_rows', None)\n",
    "\n",
    "warnings.simplefilter(action='ignore', category=FutureWarning)\n",
    "# убираем лишние предупреждения\n",
    "pd.set_option('mode.chained_assignment', None)\n",
    "\n",
    "sep_str = '*' * 50"
   ]
  },
  {
   "cell_type": "code",
   "execution_count": null,
   "id": "ea4a4c4e-9a05-4e11-b47b-916f0ba712ef",
   "metadata": {},
   "outputs": [],
   "source": []
  },
  {
   "cell_type": "code",
   "execution_count": 3,
   "id": "652bc1df-2ea4-4e04-bf4b-7ed96e172d4e",
   "metadata": {},
   "outputs": [],
   "source": [
    "def get_adex_dicts(dict_name, search_lst=None):\n",
    "    search_lst_str = ''\n",
    "    # если передан список уникальных ИД объявлений, то преобразуем список в строку\n",
    "    if search_lst:\n",
    "        # достаем из настроек словарей навзание колонк,по которой нужно выполнить фильтрацию в исходной БД Медиаскоп\n",
    "        search_col_name = config_media_costs.adex_ad_dicts[dict_name][3]\n",
    "        \n",
    "        search_lst_str = config.get_lst_to_str(search_lst)\n",
    "        # формируем условие для фильтрации запроса к БД\n",
    "        search_lst_str = f'where {search_col_name} in ({search_lst_str})'\n",
    "    # для каждого справочника формируем строку с указанием полей для загрузки\n",
    "    if 'tv_Ad'==dict_name:\n",
    "        cols = 'vid, name as adName, notes, atid, stdur, alid, blid, sblid, mlid, slid2, slid3, slid4, fiss, slaid, slvid'\n",
    "        \n",
    "\n",
    "    # отправляем запрос в БД Медиа инвестиции\n",
    "    query = f'select {cols} from {dict_name} {search_lst_str}' \n",
    "    df = get_mssql_table(config.investments_db_name, query=query, conn_lst=config.conn_lst)\n",
    "    \n",
    "    # переименовываем поля - приводим их в соответсвии с названиями из ТВ Индекс\n",
    "    # перебираем справочник config_tv_investments.rename_cols_dict\n",
    "    # если название поля из Медиа инвестиции есть в ключах, то забираем пару ключ-значение\n",
    "    # чтобы передать для присвоения нового названия\n",
    "    new_cols_name = {key: value for (key, value) in config_media_costs.rename_cols_dict.items() if key in list(df.columns)}\n",
    "    df = df.rename(columns=new_cols_name)\n",
    "    \n",
    "    return df"
   ]
  },
  {
   "cell_type": "code",
   "execution_count": 24,
   "id": "c5bcc81e-3f89-40d7-b7b2-1b09a398923b",
   "metadata": {},
   "outputs": [],
   "source": [
    "# создаем, которая забирает из справочников объявлений Медиаскоп adId и их характеристики\n",
    "# только только для ИД, которые есть в нашей Базе\n",
    "# на вход принимаем тип  медиа\n",
    "# название таблицы-справочника в Медиаскоп, по которому нужно получить данные\n",
    "def get_ads_adex_dict(media_type):\n",
    "    adex_dict_name = media_type + '_Ad'\n",
    "    # формируем запрос к таблице Фактов\n",
    "    query = f\"select distinct adId  from media_{media_type}_costs\"\n",
    "    ad_id_dict = get_mssql_table(config.db_name, query=query)\n",
    "    # приводим датаФрейм с adId к списку\n",
    "    search_lst = list(ad_id_dict['adId'])\n",
    "    # отправляем запрос в Медиаскоп, чтобы получить данные из справочника\n",
    "    df = get_adex_dicts(adex_dict_nam, search_lst)\n",
    "    \n",
    "    return df"
   ]
  },
  {
   "cell_type": "code",
   "execution_count": null,
   "id": "3004e8db-be14-4d43-8427-f1b0f4567eea",
   "metadata": {},
   "outputs": [],
   "source": []
  },
  {
   "cell_type": "code",
   "execution_count": null,
   "id": "ef674fbd-1492-49cb-8bc3-a6a5455ed308",
   "metadata": {},
   "outputs": [],
   "source": []
  },
  {
   "cell_type": "code",
   "execution_count": 20,
   "id": "83ec8434-d7dc-4ade-9cb3-68ccacb57f91",
   "metadata": {},
   "outputs": [
    {
     "name": "stdout",
     "output_type": "stream",
     "text": [
      "tv_Ad\n",
      "Все ок. Подключились!\n",
      "Загрузка завершена успешно\n"
     ]
    }
   ],
   "source": []
  },
  {
   "cell_type": "code",
   "execution_count": null,
   "id": "a66c2719-69da-4ac6-a717-ff2bb3b63311",
   "metadata": {},
   "outputs": [],
   "source": []
  },
  {
   "cell_type": "code",
   "execution_count": 23,
   "id": "5c7dbd90-440d-42b2-9462-52553c2c912b",
   "metadata": {},
   "outputs": [
    {
     "name": "stderr",
     "output_type": "stream",
     "text": [
      "C:\\Users\\o.bogomolov\\Desktop\\Jupyter_notebook\\42_02_mediascope_costs_n_ratings\\create_dicts.py:68: DtypeWarning: Columns (2) have mixed types. Specify dtype option on import or set low_memory=False.\n",
      "  df = pd.read_csv(full_cleaning_link, header=None, usecols=cols_count)\n"
     ]
    },
    {
     "name": "stdout",
     "output_type": "stream",
     "text": [
      "\n",
      "**************************************************\n",
      "Перезаписываем справочник: adex_ad_dict_list_tv  в БД: mediascope_x5\n",
      "\n",
      "Все ок. Подключились!\n",
      "Таблица: adex_ad_dict_list_tv успешно удалена в БД: mediascope_x5\n",
      "##########\n",
      "Все ок. Подключились!\n",
      "Пустая таблица adex_ad_dict_list_tv успешно создана в БД mediascope_x5\n",
      "Все ок. Подключились!\n",
      "Скрипт запущен 2025-04-10 10:57:42.203903\n",
      "Данные добавлены в БД: mediascope_x5, таблица: adex_ad_dict_list_tv\n",
      "Скрипт отработал 2025-04-10 10:57:42.381558\n",
      "Время выполнения задачи: 0:00:00.177655\n",
      "Загрузка завершена. Данные успешно добавлены в БД: mediascope_x5\n",
      "##################################################\n",
      "\n"
     ]
    }
   ],
   "source": [
    "media_type = 'tv'\n",
    "merge_cleaning_adex_ad_dict(df, media_type)"
   ]
  },
  {
   "cell_type": "code",
   "execution_count": 17,
   "id": "e9eacb39-1147-4fe9-ada3-60becac9ee5c",
   "metadata": {},
   "outputs": [
    {
     "data": {
      "text/plain": [
       "'TV'"
      ]
     },
     "execution_count": 17,
     "metadata": {},
     "output_type": "execute_result"
    }
   ],
   "source": [
    "media_type"
   ]
  },
  {
   "cell_type": "code",
   "execution_count": null,
   "id": "d07afa6f-bb05-4947-82ae-a2aa7349a192",
   "metadata": {},
   "outputs": [],
   "source": []
  },
  {
   "cell_type": "code",
   "execution_count": null,
   "id": "8feee626-3f9d-4da4-a47c-fbb12a70794f",
   "metadata": {},
   "outputs": [],
   "source": []
  },
  {
   "cell_type": "code",
   "execution_count": 10,
   "id": "5d759828-14e0-47fe-aa99-ea6e33b7d489",
   "metadata": {},
   "outputs": [
    {
     "data": {
      "text/plain": [
       "(4735, 15)"
      ]
     },
     "execution_count": 10,
     "metadata": {},
     "output_type": "execute_result"
    }
   ],
   "source": [
    "df.shape"
   ]
  },
  {
   "cell_type": "code",
   "execution_count": 11,
   "id": "bb9e2b0e-44e6-43fa-b9d2-f42f93ea430d",
   "metadata": {},
   "outputs": [
    {
     "data": {
      "text/html": [
       "<div>\n",
       "<style scoped>\n",
       "    .dataframe tbody tr th:only-of-type {\n",
       "        vertical-align: middle;\n",
       "    }\n",
       "\n",
       "    .dataframe tbody tr th {\n",
       "        vertical-align: top;\n",
       "    }\n",
       "\n",
       "    .dataframe thead th {\n",
       "        text-align: right;\n",
       "    }\n",
       "</style>\n",
       "<table border=\"1\" class=\"dataframe\">\n",
       "  <thead>\n",
       "    <tr style=\"text-align: right;\">\n",
       "      <th></th>\n",
       "      <th>adId</th>\n",
       "      <th>adName</th>\n",
       "      <th>adNotes</th>\n",
       "      <th>ad_type_id</th>\n",
       "      <th>adStandardDuration</th>\n",
       "      <th>advertiserListId</th>\n",
       "      <th>brandListId</th>\n",
       "      <th>subbrandListId</th>\n",
       "      <th>modelListId</th>\n",
       "      <th>articleList2Id</th>\n",
       "      <th>articleList3Id</th>\n",
       "      <th>articleList4Id</th>\n",
       "      <th>fiss</th>\n",
       "      <th>adSloganAudioId</th>\n",
       "      <th>adSloganVideoId</th>\n",
       "    </tr>\n",
       "  </thead>\n",
       "  <tbody>\n",
       "    <tr>\n",
       "      <th>0</th>\n",
       "      <td>2089789</td>\n",
       "      <td></td>\n",
       "      <td></td>\n",
       "      <td>5</td>\n",
       "      <td>0</td>\n",
       "      <td>1231528</td>\n",
       "      <td>2855444</td>\n",
       "      <td>2566612</td>\n",
       "      <td>3740869</td>\n",
       "      <td>50079</td>\n",
       "      <td>144958</td>\n",
       "      <td>267476</td>\n",
       "      <td>20131020</td>\n",
       "      <td>1</td>\n",
       "      <td>1</td>\n",
       "    </tr>\n",
       "    <tr>\n",
       "      <th>1</th>\n",
       "      <td>2493941</td>\n",
       "      <td></td>\n",
       "      <td></td>\n",
       "      <td>5</td>\n",
       "      <td>0</td>\n",
       "      <td>314040</td>\n",
       "      <td>578484</td>\n",
       "      <td>519062</td>\n",
       "      <td>2193612</td>\n",
       "      <td>50079</td>\n",
       "      <td>144958</td>\n",
       "      <td>267476</td>\n",
       "      <td>20150316</td>\n",
       "      <td>1</td>\n",
       "      <td>1</td>\n",
       "    </tr>\n",
       "  </tbody>\n",
       "</table>\n",
       "</div>"
      ],
      "text/plain": [
       "      adId adName adNotes  ad_type_id  adStandardDuration  advertiserListId  \\\n",
       "0  2089789                          5                   0           1231528   \n",
       "1  2493941                          5                   0            314040   \n",
       "\n",
       "   brandListId  subbrandListId  modelListId  articleList2Id  articleList3Id  \\\n",
       "0      2855444         2566612      3740869           50079          144958   \n",
       "1       578484          519062      2193612           50079          144958   \n",
       "\n",
       "   articleList4Id      fiss  adSloganAudioId  adSloganVideoId  \n",
       "0          267476  20131020                1                1  \n",
       "1          267476  20150316                1                1  "
      ]
     },
     "execution_count": 11,
     "metadata": {},
     "output_type": "execute_result"
    }
   ],
   "source": [
    "df.head(2)"
   ]
  },
  {
   "cell_type": "code",
   "execution_count": null,
   "id": "ac0ad410-6ed2-4c42-87bb-d27a232c0174",
   "metadata": {},
   "outputs": [],
   "source": [
    "# for key, value in config_media_costs.adex_dicts.items():\n",
    "#     print(key)"
   ]
  },
  {
   "cell_type": "code",
   "execution_count": 18,
   "id": "a2444139-0c1c-45a4-b7e0-6a0a93e20d99",
   "metadata": {},
   "outputs": [],
   "source": [
    "# функция для обонвления основного справочнка объявлений ad_dict по каждому типу медиа в отдельности\n",
    "#  справочники ad_dict содержат ИД с List\n",
    "# ее запускаем в самую последнюю очередь заливки данных по расходам за 1 месяц\n",
    "# НО ПЕРЕД заливкой новых объявлений в гугл докс\n",
    "\n",
    "def merge_cleaning_adex_ad_dict(df, media_type):\n",
    "    # забираем гугл докс с чисткой\n",
    "    df_cleaning_dict = get_cleaning_dict(media_type=media_type)\n",
    "    # нормализуем типы данных\n",
    "    df_cleaning_dict = normalize_columns_types(df_cleaning_dict, config.custom_ad_dict_int_lst) \n",
    "    \n",
    "    # создаем список из названий полей, которые нам нужны дальше для метчинга\n",
    "    custom_cols_list = [col[:col.find(' ')] for col in config.custom_ad_dict_vars_list]\n",
    "    custom_cols_list = list(set(custom_cols_list) - set(['ad_id', 'media_type']))\n",
    "    # оставляем только нужные поля из справочника чистки\n",
    "    df_cleaning_dict = df_cleaning_dict[custom_cols_list]\n",
    "\n",
    "    \n",
    "# обрабатываем ответ из справочника Медиаскоп List\n",
    "    media_type = media_type.upper()\n",
    "# добавляем тип медиа и создаем ключ для объединения с таблице чистки\n",
    "    df['media_type'] = media_type\n",
    "    df['media_key_id'] = df['media_type'] + '_' + df['adId'].astype('str')\n",
    "    # Привдим первую дату выхода к формату yyyy-mm-dd\n",
    "    df['fiss'] = df['fiss'].astype('str')\n",
    "    df['adFirstIssueDate'] = df['fiss'].apply(lambda x: x[:4] + '-' + x[4:6] + '-' + x[6:] if x!='' else x)\n",
    "    # объединяем справочник Медиаскоп List с таблицей Чистки гугл докс\n",
    "    df = df.merge(df_cleaning_dict, how='left', left_on=['media_key_id'], right_on=['media_key_id'])\n",
    "    # если в справочнике Медиаскоп List НЕ нашлось сопоставления с гугл докс чисткой\n",
    "    # значит - это новое объвление и ставим ему флаг 2\n",
    "    df['cleaning_flag'] = df['cleaning_flag'].fillna(2)\n",
    "\n",
    "    # у нас есть словарь config_media_costs.adex_ad_lst_dicts, в котором находятся все необходимые параметры \n",
    "    # забираем из файла create_dicts - словарь, где \n",
    "    # ключ - это название таблицы в Медиаскоп (для дальнейшего удобства так сделано)\n",
    "    # значение - это список, который содержит:\n",
    "    # [0] - название таблицы в БД\n",
    "    # [1] - список полей с типами данных для БД\n",
    "    # [2] - список полей с целочисленными значениями для нормализации\n",
    "    # [3] - поле, по которому выполняется фильтрация в исходной БД Медиаскоп при ОБНОВЛЕНИИ справочника\n",
    "    \n",
    "    # здесь формируем ключ, чтобы достать из словаря нужные значения\n",
    "    table_name = f'{media_type.lower()}_Ad'\n",
    "    \n",
    "    # [0] - название таблицы в БД\n",
    "    dict_table_name = config_media_costs.adex_ad_lst_dicts[table_name][0]\n",
    "    # [1] - список полей с типами данных для БД\n",
    "    vars_cols_lst = config_media_costs.adex_ad_lst_dicts[table_name][1]\n",
    "    # [2] - список полей с целочисленными значениями для нормализации\n",
    "    int_cols_lst = config_media_costs.adex_ad_lst_dicts[table_name][2]\n",
    "    \n",
    "    # убираем не нужный текст после пробела, например brand_main nvarchar(150) -> brand_main\n",
    "    cols_lst = [i[:i.find(' ')] for i in vars_cols_lst]\n",
    "    # оставляем в датаФрейме только нужные поля\n",
    "    df = df[cols_lst]\n",
    "    # приводим типы данных в порядок\n",
    "    df = normalize_columns_types(df, int_cols_lst)\n",
    "    \n",
    "\n",
    "    print()\n",
    "    print(sep_str)\n",
    "    print(f'Перезаписываем справочник: {dict_table_name}  в БД: {config.db_name}')\n",
    "    print()\n",
    "    # чистим справочник перед сохранением новых данных\n",
    "    createDBTable(config.db_name, dict_table_name, vars_cols_lst, flag='drop')\n",
    "    # записываем справочник с обновленными ИД и данными из гугл чистки\n",
    "    downloadTableToDB(config.db_name, dict_table_name, df)"
   ]
  }
 ],
 "metadata": {
  "kernelspec": {
   "display_name": "Python 3 (ipykernel)",
   "language": "python",
   "name": "python3"
  },
  "language_info": {
   "codemirror_mode": {
    "name": "ipython",
    "version": 3
   },
   "file_extension": ".py",
   "mimetype": "text/x-python",
   "name": "python",
   "nbconvert_exporter": "python",
   "pygments_lexer": "ipython3",
   "version": "3.11.7"
  }
 },
 "nbformat": 4,
 "nbformat_minor": 5
}
