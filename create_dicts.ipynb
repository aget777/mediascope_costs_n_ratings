{
 "cells": [
  {
   "cell_type": "code",
   "execution_count": 6,
   "id": "2bd29f34-72b6-4c91-8f02-4c6f9b5b6acd",
   "metadata": {},
   "outputs": [
    {
     "name": "stdout",
     "output_type": "stream",
     "text": [
      "Запрошены записи: 0 - 314\n",
      "Всего найдено записей: 314\n",
      "\n",
      "Запрошены записи: 0 - 314\n",
      "Всего найдено записей: 314\n",
      "\n"
     ]
    }
   ],
   "source": [
    "%reload_ext autoreload\n",
    "%autoreload 2\n",
    "\n",
    "import os\n",
    "import re\n",
    "import sys\n",
    "import json\n",
    "import gc\n",
    "import warnings\n",
    "from datetime import datetime, date, timedelta\n",
    "\n",
    "import pandas as pd\n",
    "import numpy as np\n",
    "from sqlalchemy import create_engine\n",
    "import pyodbc\n",
    "import turbodbc\n",
    "from turbodbc import connect\n",
    "\n",
    "from IPython.display import JSON\n",
    "from mediascope_api.core import net as mscore\n",
    "from mediascope_api.mediavortex import tasks as cwt\n",
    "from mediascope_api.mediavortex import catalogs as cwc\n",
    "\n",
    "\n",
    "\n",
    "import config\n",
    "import config_tv_index\n",
    "import normalize_funcs \n",
    "from db_funcs import createDBTable, downloadTableToDB, get_mssql_table\n",
    " \n",
    "\n",
    "db_name = config.db_name\n",
    "# ссылка на гугл csv Словарь чистки объявлений\n",
    "full_cleaning_link = config.full_cleaning_link"
   ]
  },
  {
   "cell_type": "code",
   "execution_count": 7,
   "id": "e383595b-5032-4833-94b7-37964c683411",
   "metadata": {},
   "outputs": [],
   "source": [
    "# Включаем отображение всех колонок\n",
    "pd.set_option('display.max_columns', None)\n",
    "# Задаем ширину столбцов по контенту\n",
    "pd.set_option('display.max_colwidth', None)\n",
    "pd.set_option('display.max_rows', None)\n",
    "\n",
    "warnings.simplefilter(action='ignore', category=FutureWarning)\n",
    "# убираем лишние предупреждения\n",
    "pd.set_option('mode.chained_assignment', None)"
   ]
  },
  {
   "cell_type": "code",
   "execution_count": null,
   "id": "18359542-6b3a-45ae-ad5c-36c5994daa7f",
   "metadata": {},
   "outputs": [],
   "source": [
    "# функция забирает гугл докс с чисткой Объявлений\n",
    "# можем передать в нее список с названиями типов медиа, по которым отфильтровать датаФрейм\n",
    "# по умолчанию забираем все\n",
    "def get_cleaning_dict(media_type='tv'):\n",
    "    # т.к. забираем csv по ссылке, чтобы исключить ошибки при добавлении новых столбцов\n",
    "    # формируем список из номеров колонок от 0 до 23\n",
    "    cols_count = [i for i in range(23)]\n",
    "    # опускаем заголовки на 1-ую строку датаФрейма и передаем номера столбцов, которые нам нужны\n",
    "    df = pd.read_csv(full_cleaning_link, header=None, usecols=cols_count)\n",
    "    # поднимаем из 1-ой строки названия в заголовки\n",
    "    df = df.rename(columns=df.iloc[0]).drop(df.index[0])\n",
    "    df['media_type'] = df['media_type'].str.upper()\n",
    "\n",
    "    media_type = media_type.upper()\n",
    "    df = df[df['media_type']==media_type]\n",
    "# удаляем дубликаты\n",
    "    df = df.drop_duplicates('media_key_id')\n",
    "# приводим формат даты к нормальному виду\n",
    "    df['first_issue_date'] = pd.to_datetime(df['first_issue_date'])\n",
    "# создаем флаг для очищенных / удаленных объявлений\n",
    "    df['cleaning_flag'] = df['include_exclude'].apply(lambda x: 1 if x=='include' else 0)\n",
    "    df = df.drop(['ad_transcribtion'], axis=1)\n",
    "# приводим строки в верхний регистр, нормализуем цифры и тд.\n",
    "    custom_ad_dict_int_lst = config.custom_ad_dict_int_lst\n",
    "    df = normalize_funcs.normalize_columns_types(df, custom_ad_dict_int_lst)\n",
    "\n",
    "    return df"
   ]
  },
  {
   "cell_type": "code",
   "execution_count": null,
   "id": "6116ab12-47a5-4e89-9787-02aecb832c0e",
   "metadata": {},
   "outputs": [],
   "source": [
    "# создаем функцию для получения Дисконтов по типам медиа\n",
    "# можем передать в нее список с названиями типов медиа, по которым отфильтровать датаФрейм\n",
    "# по умолчанию забираем все\n",
    "\n",
    "def get_media_discounts(media_type='TV'):\n",
    "    cols_count = [i for i in range(3)]\n",
    "    # опускаем заголовки на 1-ую строку датаФрейма и передаем номера столбцов, которые нам нужны\n",
    "    df = pd.read_csv(config.discounts_link, header=None, usecols=cols_count)\n",
    "    df = df.rename(columns=df.iloc[0]).drop(df.index[0])\n",
    "    df = df[df['media_type']==media_type]\n",
    "    df['media_type'] = df['media_type'].str.upper()\n",
    "    df = normalize_funcs.normalize_columns_types(df, ['year'], ['disc'])\n",
    "    \n",
    "    return df"
   ]
  },
  {
   "cell_type": "code",
   "execution_count": null,
   "id": "f0c691db-7731-4cd0-9627-4db3cd2a8174",
   "metadata": {},
   "outputs": [],
   "source": []
  },
  {
   "cell_type": "code",
   "execution_count": null,
   "id": "b933470a-9f60-4124-8704-e44a7255db35",
   "metadata": {},
   "outputs": [],
   "source": []
  },
  {
   "cell_type": "code",
   "execution_count": null,
   "id": "7febe71f-70e6-435f-abe2-73b3bd214eda",
   "metadata": {},
   "outputs": [],
   "source": []
  },
  {
   "cell_type": "code",
   "execution_count": null,
   "id": "a643c89c-ed30-469f-9da1-bce71c8a6523",
   "metadata": {},
   "outputs": [],
   "source": []
  },
  {
   "cell_type": "code",
   "execution_count": null,
   "id": "49b8ff9a-73ab-49d4-ae4d-12c5b22465b7",
   "metadata": {},
   "outputs": [],
   "source": []
  },
  {
   "cell_type": "code",
   "execution_count": null,
   "id": "a432d69f-0200-4920-8ff5-3679bb5b3c1f",
   "metadata": {},
   "outputs": [],
   "source": []
  },
  {
   "cell_type": "code",
   "execution_count": null,
   "id": "9d68c661-13dc-4122-9700-8edbde7191fe",
   "metadata": {},
   "outputs": [],
   "source": []
  }
 ],
 "metadata": {
  "kernelspec": {
   "display_name": "Python 3 (ipykernel)",
   "language": "python",
   "name": "python3"
  },
  "language_info": {
   "codemirror_mode": {
    "name": "ipython",
    "version": 3
   },
   "file_extension": ".py",
   "mimetype": "text/x-python",
   "name": "python",
   "nbconvert_exporter": "python",
   "pygments_lexer": "ipython3",
   "version": "3.11.7"
  }
 },
 "nbformat": 4,
 "nbformat_minor": 5
}
