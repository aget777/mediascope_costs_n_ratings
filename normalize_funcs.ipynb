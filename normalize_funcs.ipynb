{
 "cells": [
  {
   "cell_type": "code",
   "execution_count": 1,
   "id": "d56e51e9-9d4a-4544-9315-6b9ca428512a",
   "metadata": {},
   "outputs": [],
   "source": [
    "import pandas as pd\n",
    "import numpy as np\n",
    "\n",
    "import config\n",
    "from create_dicts import get_media_discounts\n",
    "\n",
    "np.object = np.object_"
   ]
  },
  {
   "cell_type": "code",
   "execution_count": 2,
   "id": "725a791f-50d6-4774-9b4a-7aed34f12c56",
   "metadata": {},
   "outputs": [],
   "source": [
    "# функция для нормализации данных - приводим в нижний регистр, заполняем пропуски и округляем до 2-х знаков после запятой\n",
    "# принимает на вход:\n",
    "# - датаФрейм\n",
    "# - список из названий полей с типом данных Int (по умолчанию пустой список)\n",
    "# - список из названий полей с типом данных Float (по умолчанию пустой список)\n",
    "\n",
    "def normalize_columns_types(df, int_lst=list(), float_lst=list()):\n",
    "    varchar_lst = list(df.columns) #df.loc[:,df.dtypes==np.object].columns # Через всторенный метод находим поля с текстовыми данными\n",
    "    varchar_lst = list(set(varchar_lst) - set(int_lst) - set(float_lst)) # исключаем из списка с текстовыми данными поля Int и Float\n",
    "    df[varchar_lst] = df[varchar_lst].apply(lambda x: x.astype('str').str.upper().str.strip())\n",
    "\n",
    "    \n",
    "    \n",
    "    # Обрабатываем поля с типом данных Int\n",
    "    df[int_lst] = df[int_lst].fillna('0')\n",
    "    df[int_lst] = df[int_lst].apply(lambda x: x.astype('str').str.replace('\\xa0', '').str.replace(',', '.').str.replace(' ', ''))\n",
    "    df[int_lst] = df[int_lst].apply(lambda x: x.astype('float64').astype('int64'))\n",
    "    # Обрабатываем поля с типом данных Float\n",
    "    df[float_lst] = df[float_lst].fillna('0.0')\n",
    "    df[float_lst] = df[float_lst].apply(lambda x: x.astype('str').str.replace('\\xa0', '').str.replace(',', '.').str.replace(' ', '').str.replace('р.', ''))\n",
    "    df[float_lst] = df[float_lst].apply(lambda x: x.astype('float64').round(2))\n",
    "    \n",
    "# возвращаем нормализованный датаФрейм\n",
    "    return df"
   ]
  },
  {
   "cell_type": "code",
   "execution_count": null,
   "id": "d9f34475-7203-4afc-80b7-5075d0c79f86",
   "metadata": {},
   "outputs": [],
   "source": []
  },
  {
   "cell_type": "code",
   "execution_count": 3,
   "id": "efdec685-9a72-41b9-97b7-c228a591ae89",
   "metadata": {},
   "outputs": [],
   "source": [
    "# функция для добавления флага чистки\n",
    "# на вход принимает основной датаФрейм\n",
    "# и сокращенный датаФрейм из гугл диска, в котором оставили только ИД объявления и флаг чистки\n",
    "# если объявления нет в гуглдоксе, то ставим флаг 2\n",
    "# report simple/buying - в зависимости от типа отчета используем разную логику\n",
    "# для отчета simple - добавляем флаг чистки из БД\n",
    "# для отчета buying добавляем дисконт к расходам по году и типу медиа\n",
    "def append_custom_columns(df, report, nat_tv_ad_dict=None, media_type='TV'):\n",
    "    media_type = media_type.upper()\n",
    "    # добавляем поле с типом мелиа - TV\n",
    "    # создаем спец ключ для объединения со справочником чистка объявлений\n",
    "    df['media_type'] = media_type.upper()\n",
    "    df['media_key_id'] = df['media_type'] + '_' + df['adId'].astype('str')\n",
    "    \n",
    "    if report.lower()!='simple':\n",
    "        # забираем таблицу Медиа дисконтов\n",
    "        media_discounts = get_media_discounts(media_type)\n",
    "        \n",
    "    # забираем Год из даты отчета, чтобы добавить дисконт\n",
    "        df['year'] = df['researchDate'].str.slice(0, 4)\n",
    "        df['year'] = df['year'].astype('int64')\n",
    "        \n",
    "        df = df.merge(media_discounts, how='left', left_on=['media_type', 'year'], right_on=['media_type', 'year'])\n",
    "        df['ConsolidatedCostRUB_disc'] = df['ConsolidatedCostRUB'] * df['disc']\n",
    "        \n",
    "        \n",
    "    if report.lower()=='simple':\n",
    "        # чтобы соеденить со словарем приводим adId к типу int64\n",
    "        # df['adId'] = df['adId'].astype('int64')\n",
    "        # добавляем флаг чистки в датаФрейм\n",
    "        df = df.merge(nat_tv_ad_dict, how='left', left_on=['media_key_id'], right_on=['media_key_id'])\n",
    "        # удаляем лишнее поле\n",
    "        # df = df.drop(columns=['ad_id'])\n",
    "        # ставим флаг чистки = 2 для ИД новый неочищенных объявлений\n",
    "        df['cleaning_flag'] = df['cleaning_flag'].fillna(2)\n",
    "        df = df.fillna('')\n",
    "        # Добавляем размер дисконта по Типу медиа и Году\n",
    "    \n",
    "    \n",
    "    return df"
   ]
  }
 ],
 "metadata": {
  "kernelspec": {
   "display_name": "Python 3 (ipykernel)",
   "language": "python",
   "name": "python3"
  },
  "language_info": {
   "codemirror_mode": {
    "name": "ipython",
    "version": 3
   },
   "file_extension": ".py",
   "mimetype": "text/x-python",
   "name": "python",
   "nbconvert_exporter": "python",
   "pygments_lexer": "ipython3",
   "version": "3.11.7"
  }
 },
 "nbformat": 4,
 "nbformat_minor": 5
}
