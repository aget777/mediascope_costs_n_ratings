{
 "cells": [
  {
   "cell_type": "code",
   "execution_count": 5,
   "id": "74ed78de-c9ee-4516-864f-ac02ed45fbd0",
   "metadata": {},
   "outputs": [
    {
     "name": "stdout",
     "output_type": "stream",
     "text": [
      "start_date: 2025-02-01 / end_date: 2025-04-02\n"
     ]
    }
   ],
   "source": [
    "import requests\n",
    "import pandas as pd\n",
    "import numpy as np\n",
    "import os\n",
    "from datetime import datetime, date, timedelta\n",
    "from dateutil.relativedelta import relativedelta\n",
    "import time\n",
    "import pyarrow as pa\n",
    "from urllib.parse import quote_plus\n",
    "from pandas.api.types import is_string_dtype\n",
    "import gc\n",
    "import warnings\n",
    "\n",
    "import config\n",
    "import config_media_costs\n",
    "from normalize_funcs import normalize_columns_types, append_custom_columns\n",
    "from db_funcs import createDBTable, downloadTableToDB, get_mssql_table, removeRowsFromDB\n",
    "from create_dicts import get_cleaning_dict, get_media_discounts\n",
    "from create_dicts_adex import get_adex_dicts\n",
    "\n",
    "# start_of_the_time = config_tv_invest.start_of_the_time # указываем дату начала сбора данных, для преобразования номера месяца\n",
    "\n",
    "start_date = '2025-02-01'#'2023-01-01'\n",
    "start_date = datetime.strptime(start_date, '%Y-%m-%d').date()\n",
    "\n",
    "end_date = '2025-04-02'\n",
    "end_date = datetime.strptime(end_date, '%Y-%m-%d').date()\n",
    "\n",
    "print(f'start_date: {start_date} / end_date: {end_date}')\n",
    "\n",
    "# filters_lst = [config.article_lev_4_id_str, config.subbrand_id_str]\n"
   ]
  },
  {
   "cell_type": "code",
   "execution_count": 4,
   "id": "ae6df814-c973-449f-bfdd-b47633c74b0a",
   "metadata": {},
   "outputs": [
    {
     "name": "stdout",
     "output_type": "stream",
     "text": [
      "\n"
     ]
    }
   ],
   "source": []
  },
  {
   "cell_type": "code",
   "execution_count": 6,
   "id": "a0d4207c-439c-4d7b-93b6-da1cdb62f8d9",
   "metadata": {},
   "outputs": [],
   "source": [
    "# Включаем отображение всех колонок\n",
    "pd.set_option('display.max_columns', None)\n",
    "# Задаем ширину столбцов по контенту\n",
    "pd.set_option('display.max_colwidth', None)\n",
    "pd.set_option('display.max_rows', None)\n",
    "\n",
    "warnings.simplefilter(action='ignore', category=FutureWarning)\n",
    "# убираем лишние предупреждения\n",
    "pd.set_option('mode.chained_assignment', None)\n",
    "\n",
    "sep_str = '*' * 50"
   ]
  },
  {
   "cell_type": "code",
   "execution_count": 26,
   "id": "4419e920-3fd3-43e9-9425-25c9156ff19f",
   "metadata": {},
   "outputs": [],
   "source": [
    "# создаем функцию, которая вернет номер месяца от начальной даты отсчета\n",
    "def get_mon_num_from_date(curr_date):\n",
    "    curr_date = datetime.strptime(str(curr_date), '%Y-%m-%d')\n",
    "    # с помощью метода relativedelta получаем кол-во лет и месяцев от даты начала до текущей даты\n",
    "    relative_date = relativedelta(curr_date, config_media_costs.start_of_the_time)\n",
    "    # теперь нужно получить номер текущего месяца от даты начала\n",
    "    months_count = relative_date.years * 12 + relative_date.months\n",
    "    \n",
    "    return months_count"
   ]
  },
  {
   "cell_type": "code",
   "execution_count": null,
   "id": "5f128135-62e7-4fbc-aec0-8d6bd7dd08a6",
   "metadata": {},
   "outputs": [],
   "source": []
  },
  {
   "cell_type": "code",
   "execution_count": 18,
   "id": "e8f973a0-a6e4-4f96-b97d-2195ee5aae6a",
   "metadata": {},
   "outputs": [],
   "source": [
    "def get_media_costs_report(start_date='', end_date='', media_type='tv', flag='regular'):\n",
    "    start_time = datetime.now()\n",
    "    print(f'Скрипт запущен {start_time}')\n",
    "    \n",
    "    if flag.lower()=='first':\n",
    "        table_name = config_media_costs.media_dicts_costs[media_type][0]\n",
    "        vars_lst = config_media_costs.media_dicts_costs[media_type][1]\n",
    "        \n",
    "        createDBTable(config.db_name, table_name, vars_lst, flag='create')\n",
    "        # создаем пустые словари справочников через цикл\n",
    "        # забираем из файла create_dicts - словарь, где \n",
    "        # ключ - это название таблицы в Медиаскоп (для дальнейшего удобства так сделано)\n",
    "        # значение - это список, который содержит:\n",
    "        # [0] - название таблицы в БД\n",
    "        # [1] - список полей с типами данных для БД\n",
    "        # [2] - список полей с целочисленными значениями для нормализации\n",
    "        # [3] - поле, по которому выполняется фильтрация в исходной БД Медиаскоп при ОБНОВЛЕНИИ справочника\n",
    "        for value in config_media_costs.adex_ad_lst_dicts.values():\n",
    "            createDBTable(config.db_name, value[0] , value[1], flag='create')\n",
    "\n",
    "\n",
    "\n",
    "    cur_date = datetime.now().date()\n",
    "    cur_year_month = cur_date.strftime('%Y-%m')\n",
    "    \n",
    "# если дата начала задана, то приводим ее к формату Даты\n",
    "    start_date = datetime.strptime(str(start_date), '%Y-%m-%d').date() if start_date else ''\n",
    "# забираем год-месяц для проверки относительно текущего месяца\n",
    "    start_year_month = start_date.strftime('%Y-%m') if start_date else ''\n",
    "    \n",
    "# если дата окончания задана, то приводим ее к формату Даты\n",
    "    end_date = datetime.strptime(str(end_date), '%Y-%m-%d').date() if end_date else ''\n",
    "# забираем год-месяц для проверки относительно текущего месяца\n",
    "    end_year_month = end_date.strftime('%Y-%m') if end_date else ''\n",
    "    \n",
    "# если дата начала НЕ задана, значит - это ежемесячное обновление\n",
    "# от текущей даты берем 2 месяца назад\n",
    "# удаляем из БД эти месяцы\n",
    "# далее загрузим новые данные - до Текущий месяц минус один (в Медиаское запоздание на 1 месяц)\n",
    "    \n",
    "    if not start_date or start_year_month==cur_year_month:\n",
    "        start_date = (cur_date  - relativedelta(months=2))\n",
    "        \n",
    "# если даты окончания нет или она равна текущему месяцу, то задаем прошлый месяц\n",
    "    if not end_date or end_year_month==cur_year_month:\n",
    "        end_date = (cur_date  - relativedelta(months=1))\n",
    "        \n",
    "# получаем номер месяца начала загрузки данных по летоисчислению Медиаскоп\n",
    "    start_mon = get_mon_num_from_date(start_date)\n",
    "    \n",
    "    # если это НЕ первая загрузка, то удаляем строки из БД начиная с даты начала текущей загрузки\n",
    "    # для отчетов Buying - расходы приходят с запозданием на неделю, а так же страхуемся от возможных дублей в БД при новой загрузке\n",
    "    if flag=='regular':\n",
    "        cond = f'mon_num >= {start_mon}'\n",
    "            \n",
    "        print()\n",
    "        print(sep_str)\n",
    "        print(f'Удалем строки из таблицы: media_{media_type}_costs по условию: {cond}')\n",
    "        print()\n",
    "    \n",
    "        removeRowsFromDB(config.db_name, f'media_{media_type}_costs', cond)\n",
    "        print()\n",
    "\n",
    "    # считаем кол-во месяцев в периоде\n",
    "    # каждый месяц мы будем забирать по отдельности и записывать его в БД\n",
    "    count_months = relativedelta(end_date, start_date).months + 1\n",
    "    \n",
    "    print()\n",
    "    print(f'Загружаем отчет за период {start_date} - {end_date}. Общее количество месяцев: {count_months}')\n",
    "    print(sep_str)\n",
    "    print()\n",
    "    \n",
    "    # проходимся по общему количеству дней\n",
    "    for i in range(count_months):\n",
    "        # формируем отдельную дату для загрузки\n",
    "        cur_date = start_date + relativedelta(months=i)\n",
    "        cur_mon = get_mon_num_from_date(cur_date)\n",
    "        print()\n",
    "        print(f'{\"=\"*10}Загружаем {cur_date}. Статистика по {media_type}')\n",
    "        print()\n",
    "        \n",
    "        table_name = config_media_costs.media_dicts_costs[media_type][0]\n",
    "        int_lst = config_media_costs.media_dicts_costs[media_type][2]\n",
    "        float_lst = config_media_costs.media_dicts_costs[media_type][3]\n",
    "        \n",
    "        df = get_table_costs(int_lst, \n",
    "                           float_lst, \n",
    "                           start_date=str(cur_date), \n",
    "                           mon_num=int(cur_mon), \n",
    "                           media_type=media_type)\n",
    "\n",
    "        downloadTableToDB(config.db_name, table_name, df)\n",
    "                      "
   ]
  },
  {
   "cell_type": "code",
   "execution_count": null,
   "id": "1e5798e9-401b-459a-9553-998261488944",
   "metadata": {},
   "outputs": [],
   "source": [
    "# start_date='2023-01-01'\n",
    "# end_date='2023-02-01'\n",
    "# for media_type in config_media_costs.media_type_lst:\n",
    "#     get_media_costs_report(start_date=start_date, end_date=end_date, media_type=media_type, flag='first')"
   ]
  },
  {
   "cell_type": "code",
   "execution_count": 28,
   "id": "e8f80ff5-badb-49be-8540-127fa67bf6f2",
   "metadata": {},
   "outputs": [
    {
     "name": "stdout",
     "output_type": "stream",
     "text": [
      "0\n"
     ]
    }
   ],
   "source": []
  },
  {
   "cell_type": "code",
   "execution_count": null,
   "id": "f0ed2a73-0c38-43d2-8147-ee6912d27517",
   "metadata": {},
   "outputs": [],
   "source": []
  },
  {
   "cell_type": "code",
   "execution_count": null,
   "id": "99937ba1-c5d9-40db-a813-409fa861b9cd",
   "metadata": {},
   "outputs": [],
   "source": [
    "int_lst = config_media_costs.media_tv_costs_int_lst\n",
    "float_lst = config_media_costs.media_tv_costs_float_lst\n",
    "df = get_table_costs(int_lst, float_lst, start_date='2025-03-01', mon_num=422, media_type='tv')"
   ]
  },
  {
   "cell_type": "code",
   "execution_count": null,
   "id": "ff6bf74b-3ba1-422d-a660-42f8817f08ff",
   "metadata": {},
   "outputs": [],
   "source": [
    "df.shape"
   ]
  },
  {
   "cell_type": "code",
   "execution_count": null,
   "id": "8f1b5713-a367-4cea-b479-98ca02a4ac1e",
   "metadata": {},
   "outputs": [],
   "source": [
    "df['adId'].drop_duplicates().shape"
   ]
  },
  {
   "cell_type": "code",
   "execution_count": null,
   "id": "b4d32aa6-4a51-46da-a619-3d7a2345e389",
   "metadata": {},
   "outputs": [],
   "source": [
    "df_ad_dict = df[['adId']].drop_duplicates()"
   ]
  },
  {
   "cell_type": "code",
   "execution_count": null,
   "id": "89daa68f-5a4e-4267-8bf9-6c29c50a7a3a",
   "metadata": {},
   "outputs": [],
   "source": [
    "# забираем из БД из справочника объявлений уникальные ИД\n",
    "query = f\"select distinct adId  from media_tv_costs\"\n",
    "ad_id_dict = get_mssql_table(config.db_name, query=query)\n",
    "# создаем список Уникальных ИД Объявлений, которые уже есть в справочнике в БД\n",
    "ad_id_lst = list(set(list(df_ad_dict['adId'])) - set(list(ad_id_dict['adId'])))\n",
    "# оставляем только те объявления, которых нет в справочнике\n",
    "df_ad_dict = df_ad_dict.query('adId in @ad_id_lst')"
   ]
  },
  {
   "cell_type": "code",
   "execution_count": null,
   "id": "482940ab-6c45-4be4-8dd5-e951410935b0",
   "metadata": {},
   "outputs": [],
   "source": [
    "df_ad_dict.shape"
   ]
  },
  {
   "cell_type": "code",
   "execution_count": null,
   "id": "ad0ed9a5-7838-4dbf-80f5-26fe448f8e62",
   "metadata": {},
   "outputs": [],
   "source": [
    "ad_id_dict.shape"
   ]
  },
  {
   "cell_type": "code",
   "execution_count": null,
   "id": "0cae146d-e765-41ed-aa2e-283eac014476",
   "metadata": {},
   "outputs": [],
   "source": [
    "len(ad_id_lst)"
   ]
  },
  {
   "cell_type": "code",
   "execution_count": 19,
   "id": "e345f387-d067-47e5-90d5-1d1573f96a00",
   "metadata": {},
   "outputs": [
    {
     "name": "stdout",
     "output_type": "stream",
     "text": [
      "Скрипт запущен 2025-04-10 09:30:21.608509\n",
      "Все ок. Подключились!\n",
      "Пустая таблица media_tv_costs успешно создана в БД mediascope_x5\n",
      "Все ок. Подключились!\n",
      "Пустая таблица adex_ad_dict_list_tv успешно создана в БД mediascope_x5\n",
      "\n",
      "Загружаем отчет за период 2025-02-01 - 2025-03-10. Общее количество месяцев: 2\n",
      "**************************************************\n",
      "\n",
      "\n",
      "==========Загружаем 2025-02-01. Статистика по tv\n",
      "\n",
      "Все ок. Подключились!\n",
      "Загрузка завершена успешно\n",
      "Все ок. Подключились!\n",
      "Скрипт запущен 2025-04-10 09:30:35.243808\n",
      "Данные добавлены в БД: mediascope_x5, таблица: media_tv_costs\n",
      "Скрипт отработал 2025-04-10 09:30:43.187749\n",
      "Время выполнения задачи: 0:00:07.943941\n",
      "Загрузка завершена. Данные успешно добавлены в БД: mediascope_x5\n",
      "##################################################\n",
      "\n",
      "Все ок. Подключились!\n",
      "Загрузка завершена успешно\n",
      "Все ок. Подключились!\n",
      "Загрузка завершена успешно\n",
      "\n",
      "==========Загружаем 2025-03-01. Статистика по tv\n",
      "\n",
      "Все ок. Подключились!\n",
      "Загрузка завершена успешно\n",
      "Все ок. Подключились!\n",
      "Скрипт запущен 2025-04-10 09:30:45.266917\n",
      "Данные добавлены в БД: mediascope_x5, таблица: media_tv_costs\n",
      "Скрипт отработал 2025-04-10 09:30:45.289917\n",
      "Время выполнения задачи: 0:00:00.023000\n",
      "Загрузка завершена. Данные успешно добавлены в БД: mediascope_x5\n",
      "##################################################\n",
      "\n",
      "Все ок. Подключились!\n",
      "Загрузка завершена успешно\n",
      "Все ок. Подключились!\n",
      "Загрузка завершена успешно\n"
     ]
    }
   ],
   "source": [
    "get_media_costs_report(start_date='2025-02-01', end_date='2025-04-01', media_type='tv', flag='first')"
   ]
  },
  {
   "cell_type": "code",
   "execution_count": null,
   "id": "77b06675-f724-45fc-bf80-c1718c0091bf",
   "metadata": {},
   "outputs": [],
   "source": [
    "df_ad_dict.head(1)"
   ]
  },
  {
   "cell_type": "code",
   "execution_count": null,
   "id": "56272547-a57e-415f-af60-579308d74865",
   "metadata": {},
   "outputs": [],
   "source": [
    "ad_id_str = config.get_lst_to_str(df_ad_dict)"
   ]
  },
  {
   "cell_type": "code",
   "execution_count": 12,
   "id": "73d9639e-cd51-475c-abb4-6c8e3da3a867",
   "metadata": {},
   "outputs": [],
   "source": [
    "# ТВ расходы - создаем функцию, которая \n",
    "# - забирает расходы по месяцам\n",
    "# - переименовывает поля (приводит к стандарту ТВ Индекс\n",
    "# Функция принимает на вход\n",
    "# *normalize_lst - передаем, как отдельные параметры - Список полей с типом int / Список полей с типом float\n",
    "# start_mon - дата начала месяца, за который забираем статистику\n",
    "# mon_num - номер месяца по летоисчислению Медиаскоп\n",
    "# media_type - тип медиа, по которому забираем расходы\n",
    "\n",
    "def get_table_costs(*normalize_lst, start_date='2023-01-01', mon_num=396, media_type='tv'):\n",
    "    # для запроса к БД приводим тип медиа к нижнему регистру\n",
    "    media_type = media_type.lower()\n",
    "    # Формируем запрос к БД\n",
    "    # В зависимости от типа медиа меняется первая строка в запросе - поля, которые нам нужны для таблицы Фактов\n",
    "    # названия полей находятся в справочнике config_tv_investments.first_row_query_dict\n",
    "    # Фильтрация строк для ВСЕХ одинаковая производится по условиям config_tv_investments.main_filter_str\n",
    "    query = f\"\"\"select \n",
    "    {config_media_costs.first_row_query_dict[media_type]}\n",
    "    from {media_type}_Ad_month t1 left join {media_type}_Appendix t10 \n",
    "    on t1.vid=t10.vid\n",
    "    left join {media_type}_Ad t3\n",
    "    on t1.vid=t3.vid\n",
    "    where t1.mon={str(mon_num)}  and \n",
    "    ({config_media_costs.main_filter_str})\"\"\"\n",
    "    # отправляем запрос в БД Медиа инвестиции\n",
    "\n",
    "    df = get_mssql_table(config.investments_db_name, query=query, conn_lst=config.conn_lst)\n",
    "    \n",
    "    # переименовываем поля - приводим их в соответсвии с названиями из ТВ Индекс\n",
    "    # перебираем справочник config_tv_investments.rename_cols_dict\n",
    "    # если название поля из Медиа инвестиции есть в ключах, то забираем пару ключ-значение\n",
    "    # чтобы передать для присвоения нового названия\n",
    "    new_cols_name = {key: value for (key, value) in config_media_costs.rename_cols_dict.items() if key in list(df.columns)}\n",
    "    df = df.rename(columns=new_cols_name)\n",
    "    df['researchDate'] = start_date\n",
    "    df['ConsolidatedCostRUB'] = df['ConsolidatedCostRUB'].astype('int64')\n",
    "    # вызываем функцию, чтобы добавить новые поля, дисконт и расходы с дисконтом\n",
    "    # Добавляем в датаФрейм - год, тип медиа, тип медиа+ИД объявления, расходы с дисконтом\n",
    "    df = append_custom_columns(df, report='investments', media_type=media_type)\n",
    "    # нормализуем типы данных\n",
    "    df = normalize_columns_types(df, normalize_lst[0], normalize_lst[1])\n",
    "    return df"
   ]
  },
  {
   "cell_type": "code",
   "execution_count": null,
   "id": "165c1614-e745-49a8-a8d6-1942d9f0ad4f",
   "metadata": {},
   "outputs": [],
   "source": []
  },
  {
   "cell_type": "code",
   "execution_count": null,
   "id": "b635207e-b087-460b-b6fd-299ba52c8600",
   "metadata": {},
   "outputs": [],
   "source": []
  },
  {
   "cell_type": "code",
   "execution_count": null,
   "id": "274c07e9-1739-4cc1-9d9c-a942f02d61a7",
   "metadata": {},
   "outputs": [],
   "source": [
    "df.shape"
   ]
  },
  {
   "cell_type": "code",
   "execution_count": null,
   "id": "90d745ed-7e2a-4ae2-880f-ba3301faebe6",
   "metadata": {},
   "outputs": [],
   "source": [
    "df.head(1)"
   ]
  },
  {
   "cell_type": "code",
   "execution_count": null,
   "id": "6dc679c9-4dba-47cc-8bea-21319dbd6b46",
   "metadata": {},
   "outputs": [],
   "source": [
    "createDBTable(config.db_name, config_tv_investments.investments_tv_costs , config_tv_investments.investments_tv_costs_vars_list, flag='create')"
   ]
  },
  {
   "cell_type": "code",
   "execution_count": null,
   "id": "d9e7f9eb-f40d-4f7a-a9b5-e7857e679f0f",
   "metadata": {},
   "outputs": [],
   "source": [
    "downloadTableToDB(config.db_name, config_tv_investments.investments_tv_costs, df)"
   ]
  },
  {
   "cell_type": "code",
   "execution_count": null,
   "id": "4e6e510a-5988-4783-998c-a4c823f27ea3",
   "metadata": {},
   "outputs": [],
   "source": []
  },
  {
   "cell_type": "code",
   "execution_count": null,
   "id": "3f14ef50-13a9-4ef7-8624-f45ef82fb441",
   "metadata": {},
   "outputs": [],
   "source": [
    "config.investments_db_name"
   ]
  },
  {
   "cell_type": "code",
   "execution_count": null,
   "id": "67351d58-c9f6-43c4-9f3c-a0e31d3fb92e",
   "metadata": {},
   "outputs": [],
   "source": []
  },
  {
   "cell_type": "code",
   "execution_count": null,
   "id": "040f0d7f-deaa-4b75-a78b-d0a9a6d91e5d",
   "metadata": {},
   "outputs": [],
   "source": []
  },
  {
   "cell_type": "code",
   "execution_count": null,
   "id": "cb5abcca-b4c3-4b36-915c-3f238b6ae94f",
   "metadata": {},
   "outputs": [],
   "source": [
    "query = f\"\"\"select \n",
    "    t1.vid, t2.bid, t3.blid\n",
    "    from tv_Ad_month t1 left join tv_Appendix t2 \n",
    "    on t1.vid=t2.vid\n",
    "    left join tv_Ad t3\n",
    "    on t1.vid=t3.vid\n",
    "    where t1.mon='396' and t1.vid='4404947'  and \n",
    "    (t2.sid2 in (2408, 4780, 4926, 5028) or t2.sbid in (137166, 489562, 494633, 556193, 872285, 966983, 1155675, 1245528))\n",
    "    \"\"\"\n",
    "    df = get_mssql_table(config.investments_db_name, query=query, conn_lst=config.conn_lst)"
   ]
  },
  {
   "cell_type": "code",
   "execution_count": null,
   "id": "b85863af-63d0-4085-8e4f-30ebe89adfd9",
   "metadata": {},
   "outputs": [],
   "source": []
  },
  {
   "cell_type": "code",
   "execution_count": null,
   "id": "bad0b7c4-9a0e-4ad2-ad21-b3d37502ba40",
   "metadata": {},
   "outputs": [],
   "source": []
  },
  {
   "cell_type": "code",
   "execution_count": null,
   "id": "c6f7dd0a-1fff-4953-8a60-4c97b8ca8756",
   "metadata": {},
   "outputs": [],
   "source": []
  },
  {
   "cell_type": "code",
   "execution_count": null,
   "id": "1a3fb9d6-1a8c-4870-9142-bfb263512d4c",
   "metadata": {},
   "outputs": [],
   "source": []
  },
  {
   "cell_type": "code",
   "execution_count": null,
   "id": "2ec34d84-fa1a-4f36-9a34-ad6aa40d1798",
   "metadata": {},
   "outputs": [],
   "source": [
    "query = f\"\"\"select \n",
    "t1.vid, t2.bid, t3.blid\n",
    "from tv_Ad_month t1 left join tv_Appendix t2 \n",
    "on t1.vid=t2.vid\n",
    "left join tv_Ad t3\n",
    "on t1.vid=t3.vid\n",
    "where t1.mon='396' and t1.vid='4404947'  and (t2.sid2 in ({config.article_lev_4_id_str}) or t2.sbid in ({config.subbrand_id_str}))\n",
    "\"\"\"\n",
    "df = get_mssql_table(config.investments_db_name, query=query, conn_lst=config.conn_lst)"
   ]
  },
  {
   "cell_type": "code",
   "execution_count": null,
   "id": "39d753bd-0456-42f2-9e9b-e468d4404350",
   "metadata": {},
   "outputs": [],
   "source": [
    "df.shape"
   ]
  },
  {
   "cell_type": "code",
   "execution_count": null,
   "id": "f0f31c3b-cfc2-4717-8ef8-fd1f2cb5420b",
   "metadata": {},
   "outputs": [],
   "source": []
  },
  {
   "cell_type": "code",
   "execution_count": null,
   "id": "ea37489d-a8fa-4d2d-9f24-b8fa23257580",
   "metadata": {},
   "outputs": [],
   "source": [
    "start_date = '2023-04-08'"
   ]
  },
  {
   "cell_type": "code",
   "execution_count": null,
   "id": "4af72037-2c28-41ad-9b4d-95c246347a51",
   "metadata": {},
   "outputs": [],
   "source": [
    "start_date = '2025-04-01'\n",
    "start_date = datetime.strptime(str(start_date), '%Y-%m-%d').date()\n",
    "start_year_month = start_date.strftime('%Y-%m')\n",
    "\n",
    "curr_date = datetime.now().date()\n",
    "cur_year_month = curr_date.strftime('%Y-%m')\n",
    "\n",
    "if start_year_month==cur_year_month:\n",
    "    start_date = curr_date - relativedelta(months=4)\n",
    "    start_mon = get_mon_num_from_date(start_date)\n",
    "\n",
    "    print(start_date)\n",
    "    print(start_mon)\n"
   ]
  },
  {
   "cell_type": "code",
   "execution_count": null,
   "id": "fd372bb1-8135-4a90-a57c-21e11d81dc45",
   "metadata": {},
   "outputs": [],
   "source": [
    "get_media_costs_report(start_date='2023-01-01', end_date='2023-02-01', media_type='tv', flag='first')"
   ]
  },
  {
   "cell_type": "code",
   "execution_count": null,
   "id": "03996f05-ebe1-44e2-9a1d-2ba28fd65844",
   "metadata": {},
   "outputs": [],
   "source": [
    "# Включаем отображение всех колонок\n",
    "pd.set_option('display.max_columns', None)\n",
    "# Задаем ширину столбцов по контенту\n",
    "pd.set_option('display.max_colwidth', None)\n",
    "pd.set_option('display.max_rows', None)\n",
    "\n",
    "warnings.simplefilter(action='ignore', category=FutureWarning)\n",
    "# убираем лишние предупреждения\n",
    "pd.set_option('mode.chained_assignment', None)\n",
    "\n",
    "sep_str = '*' * 50"
   ]
  },
  {
   "cell_type": "code",
   "execution_count": null,
   "id": "14492467-32be-412e-84e2-28bbdb759a11",
   "metadata": {},
   "outputs": [],
   "source": []
  },
  {
   "cell_type": "code",
   "execution_count": null,
   "id": "1409e730-82c2-4a3b-83b3-491331047456",
   "metadata": {},
   "outputs": [],
   "source": [
    "print(get_mon_num_from_date(start_date, start_of_the_time))"
   ]
  },
  {
   "cell_type": "code",
   "execution_count": null,
   "id": "b5086d50-e9b4-4699-8961-07a33f42df64",
   "metadata": {},
   "outputs": [],
   "source": [
    "query = f\"select * from tv_Ad where vid='4404947'\""
   ]
  },
  {
   "cell_type": "code",
   "execution_count": null,
   "id": "1ad96f41-b0d3-4c63-9bdb-0343d2a0ffb7",
   "metadata": {},
   "outputs": [],
   "source": [
    "df = get_mssql_table(config.investments_db_name, query=query, conn_lst=config.conn_lst)"
   ]
  },
  {
   "cell_type": "code",
   "execution_count": null,
   "id": "6aadf6ed-86f4-4025-a1be-a29a091a680a",
   "metadata": {},
   "outputs": [],
   "source": [
    "df"
   ]
  },
  {
   "cell_type": "code",
   "execution_count": null,
   "id": "bc7a553e-a1d6-4d49-aa03-ffbcfbd2f450",
   "metadata": {},
   "outputs": [],
   "source": [
    "query = f\"select * from BrandList where blid='2046493'\"\n",
    "df = get_mssql_table(config.investments_db_name, query=query, conn_lst=config.conn_lst)"
   ]
  },
  {
   "cell_type": "code",
   "execution_count": null,
   "id": "c302e8ac-37d0-43db-a079-abdc9b01504d",
   "metadata": {},
   "outputs": [],
   "source": [
    "df"
   ]
  },
  {
   "cell_type": "code",
   "execution_count": null,
   "id": "42875351-b70c-4099-a313-de29d0a75218",
   "metadata": {},
   "outputs": [],
   "source": [
    "query = f\"select * from tv_Appendix where vid='4404947'\"\n",
    "df = get_mssql_table(config.investments_db_name, query=query, conn_lst=config.conn_lst)"
   ]
  },
  {
   "cell_type": "code",
   "execution_count": null,
   "id": "c92277be-b5a8-426a-af9b-d534252bdd10",
   "metadata": {},
   "outputs": [],
   "source": [
    "df"
   ]
  },
  {
   "cell_type": "code",
   "execution_count": null,
   "id": "f5562f30-ed90-4858-b205-e614eaae45aa",
   "metadata": {},
   "outputs": [],
   "source": [
    "query = f\"select * from Brand where bid='568656'\"\n",
    "df = get_mssql_table(config.investments_db_name, query=query, conn_lst=config.conn_lst)"
   ]
  },
  {
   "cell_type": "code",
   "execution_count": null,
   "id": "9ee19112-f834-40a1-9da9-7b6779c3d92a",
   "metadata": {},
   "outputs": [],
   "source": [
    "df"
   ]
  },
  {
   "cell_type": "code",
   "execution_count": null,
   "id": "fe32050c-e277-488c-bcbd-441dfbdddde5",
   "metadata": {},
   "outputs": [],
   "source": [
    "query = f\"\"\"select \n",
    "* \n",
    "from tv_Ad_month t1 \n",
    "where t1.mon='396' and t1.vid='4404947'  \n",
    "\"\"\"\n",
    "df = get_mssql_table(config.investments_db_name, query=query, conn_lst=config.conn_lst)"
   ]
  },
  {
   "cell_type": "code",
   "execution_count": null,
   "id": "2224eee9-fd56-447c-ac5d-08c79fd9a067",
   "metadata": {},
   "outputs": [],
   "source": [
    "df.shape"
   ]
  },
  {
   "cell_type": "code",
   "execution_count": null,
   "id": "a4d56ef7-29fd-46d1-92a5-05a718affc54",
   "metadata": {},
   "outputs": [],
   "source": [
    "left join tv_Appendix t2 \n",
    "on t1.vid=t2.vid\n",
    "(t2.sid2 in (2408, 4780, 4926, 5028) or t2.sbid in (137166, 489562, 494633, 556193, 872285, 966983, 1155675, 1245528))\n",
    "and t2.bid='568656'"
   ]
  },
  {
   "cell_type": "code",
   "execution_count": null,
   "id": "09802bef-15dd-4d10-8422-c4d800089225",
   "metadata": {},
   "outputs": [],
   "source": [
    "query = f\"\"\"select \n",
    "t1.vid, t2.bid, t3.blid\n",
    "from tv_Ad_month t1 left join tv_Appendix t2 \n",
    "on t1.vid=t2.vid\n",
    "left join tv_Ad t3\n",
    "on t1.vid=t3.vid\n",
    "where t1.mon='396' and t1.vid='4404947'  and \n",
    "(t2.sid2 in (2408, 4780, 4926, 5028) or t2.sbid in (137166, 489562, 494633, 556193, 872285, 966983, 1155675, 1245528))\n",
    "\"\"\"\n",
    "df = get_mssql_table(config.investments_db_name, query=query, conn_lst=config.conn_lst)"
   ]
  },
  {
   "cell_type": "code",
   "execution_count": null,
   "id": "5ce4e053-4e9c-4883-b73b-19842a4407f7",
   "metadata": {},
   "outputs": [],
   "source": [
    "df.shape"
   ]
  },
  {
   "cell_type": "code",
   "execution_count": null,
   "id": "a29e988c-901d-4f54-b9fa-69ad6d01bf3e",
   "metadata": {},
   "outputs": [],
   "source": [
    "df.head(2)"
   ]
  },
  {
   "cell_type": "code",
   "execution_count": null,
   "id": "281fe84f-aac8-4ef0-b1b1-7cb9785292c5",
   "metadata": {},
   "outputs": [],
   "source": [
    "df['bid'].drop_duplicates()"
   ]
  },
  {
   "cell_type": "code",
   "execution_count": null,
   "id": "26c82354-e21e-45a0-8607-51611d5f4874",
   "metadata": {},
   "outputs": [],
   "source": []
  },
  {
   "cell_type": "code",
   "execution_count": null,
   "id": "bcb2b171-1193-44b3-8f52-2a8aaccfb30a",
   "metadata": {},
   "outputs": [],
   "source": []
  },
  {
   "cell_type": "code",
   "execution_count": null,
   "id": "074d21f5-6982-4e32-85de-2c4b76cdaa36",
   "metadata": {},
   "outputs": [],
   "source": []
  },
  {
   "cell_type": "code",
   "execution_count": null,
   "id": "bdef61cd-e5a9-462e-ac46-e278144db65a",
   "metadata": {},
   "outputs": [],
   "source": [
    "for value in config_media_costs.adex_ad_lst_dicts.values():\n",
    "    print(value[0])\n",
    "    print(value[1])"
   ]
  },
  {
   "cell_type": "code",
   "execution_count": null,
   "id": "00b0d315-1aa1-48bf-9338-abe5d6828340",
   "metadata": {},
   "outputs": [],
   "source": [
    "value[1]"
   ]
  },
  {
   "cell_type": "code",
   "execution_count": null,
   "id": "328b1eb7-893d-4b03-8cfa-872671c16b84",
   "metadata": {},
   "outputs": [],
   "source": [
    "\n",
    "segments_main_link = 'https://docs.google.com/spreadsheets/d/e/2PACX-1vR2WJjY1kEsKluiXddRiFrqKFOVGO06eJY4CVt33OhJ7KdALHHr3sYsqXyeoVxmNI08VNUP6mAlnQKt/pub?gid=0&single=true&output=csv'\n",
    "\n",
    "media_type_detail_link = 'https://docs.google.com/spreadsheets/d/e/2PACX-1vTmkq1SXPqmHqCx9MfiMlbf3nV3PRKctT0r1RItnLxnKt7MYzBg56V99obmqbjWek3ux8gdjhvLQR8E/pub?gid=0&single=true&output=csv'\n",
    "\n",
    "tv_net_group_link = 'https://docs.google.com/spreadsheets/d/e/2PACX-1vTvelFTRLTMGnlLWLmXvLXRLVdBe7magXnTfncl72nXYN0l6s2NfPLLe-M2ipdpV94JesJ-ZuA6lejj/pub?gid=0&single=true&output=csv'"
   ]
  },
  {
   "cell_type": "code",
   "execution_count": null,
   "id": "32dde4b4-04f8-4944-8b9a-d4e6bb57e1c0",
   "metadata": {},
   "outputs": [],
   "source": [
    "df = get_mssql_table(db_name, table_name='', query='')"
   ]
  }
 ],
 "metadata": {
  "kernelspec": {
   "display_name": "Python 3 (ipykernel)",
   "language": "python",
   "name": "python3"
  },
  "language_info": {
   "codemirror_mode": {
    "name": "ipython",
    "version": 3
   },
   "file_extension": ".py",
   "mimetype": "text/x-python",
   "name": "python",
   "nbconvert_exporter": "python",
   "pygments_lexer": "ipython3",
   "version": "3.11.7"
  }
 },
 "nbformat": 4,
 "nbformat_minor": 5
}
