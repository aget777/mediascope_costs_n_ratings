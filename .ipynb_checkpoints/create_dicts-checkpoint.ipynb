{
 "cells": [
  {
   "cell_type": "code",
   "execution_count": 8,
   "id": "2bd29f34-72b6-4c91-8f02-4c6f9b5b6acd",
   "metadata": {},
   "outputs": [
    {
     "name": "stdout",
     "output_type": "stream",
     "text": [
      "Запрошены записи: 0 - 314\n",
      "Всего найдено записей: 314\n",
      "\n",
      "Запрошены записи: 0 - 314\n",
      "Всего найдено записей: 314\n",
      "\n"
     ]
    }
   ],
   "source": [
    "%reload_ext autoreload\n",
    "%autoreload 2\n",
    "\n",
    "import os\n",
    "import re\n",
    "import sys\n",
    "import json\n",
    "import gc\n",
    "import warnings\n",
    "from datetime import datetime, date, timedelta\n",
    "\n",
    "import pandas as pd\n",
    "import numpy as np\n",
    "from sqlalchemy import create_engine\n",
    "import pyodbc\n",
    "import turbodbc\n",
    "from turbodbc import connect\n",
    "\n",
    "from IPython.display import JSON\n",
    "from mediascope_api.core import net as mscore\n",
    "from mediascope_api.mediavortex import tasks as cwt\n",
    "from mediascope_api.mediavortex import catalogs as cwc\n",
    "\n",
    "# Cоздаем объекты для работы с TVI API\n",
    "mnet = mscore.MediascopeApiNetwork()\n",
    "mtask = cwt.MediaVortexTask()\n",
    "cats = cwc.MediaVortexCats()\n",
    "\n",
    "import config\n",
    "from normalize_funcs import *\n",
    "from db_funcs import createDBTable, downloadTableToDB\n",
    "\n",
    "\n",
    "db_name = config.db_name\n",
    "full_cleaning_link = config.full_cleaning_link"
   ]
  },
  {
   "cell_type": "code",
   "execution_count": null,
   "id": "e383595b-5032-4833-94b7-37964c683411",
   "metadata": {},
   "outputs": [],
   "source": [
    "# Включаем отображение всех колонок\n",
    "pd.set_option('display.max_columns', None)\n",
    "# Задаем ширину столбцов по контенту\n",
    "pd.set_option('display.max_colwidth', None)\n",
    "pd.set_option('display.max_rows', None)\n",
    "\n",
    "warnings.simplefilter(action='ignore', category=FutureWarning)\n",
    "# убираем лишние предупреждения\n",
    "pd.set_option('mode.chained_assignment', None)"
   ]
  },
  {
   "cell_type": "code",
   "execution_count": null,
   "id": "18359542-6b3a-45ae-ad5c-36c5994daa7f",
   "metadata": {},
   "outputs": [],
   "source": [
    "# функция забирает гугл докс с чисткой Объявлений\n",
    "# можем передать в нее список с названиями типов медиа, по которым отфильтровать датаФрейм\n",
    "# по умолчанию забираем все\n",
    "def get_cleaning_dict(media_type_lst=None):\n",
    "    # т.к. забираем csv по ссылке, чтобы исключить ошибки при добавлении новых столбцов\n",
    "    # формируем список из номеров колонок от 0 до 23\n",
    "    cols_count = [i for i in range(23)]\n",
    "    # опускаем заголовки на 1-ую строку датаФрейма и передаем номера столбцов, которые нам нужны\n",
    "    df = pd.read_csv(full_cleaning_link, header=None, usecols=cols_count)\n",
    "    # поднимаем из 1-ой строки названия в заголовки\n",
    "    df = df.rename(columns=df.iloc[0]).drop(df.index[0])\n",
    "    df['media_type'] = df['media_type'].str.upper()\n",
    "    # если в функцию передан список типов медиа, то оставляем только нужные строки\n",
    "    if media_type_lst:\n",
    "        df = df.query('media_type in @media_type_lst')\n",
    "# удаляем дубликаты\n",
    "    df = df.drop_duplicates('media_key_id')\n",
    "# приводим формат даты к нормальному виду\n",
    "    df['first_issue_date'] = pd.to_datetime(df['first_issue_date'])\n",
    "# создаем флаг для очищенных / удаленных объявлений\n",
    "    df['cleaning_flag'] = df['include_exclude'].apply(lambda x: 1 if x=='include' else 0)\n",
    "    df = df.drop(['ad_transcribtion'], axis=1)\n",
    "# приводим строки в верхний регистр, нормализуем цифры и тд.\n",
    "    custom_ad_dict_int_lst = config.custom_ad_dict_int_lst\n",
    "    df = normalize_columns_types(df, custom_ad_dict_int_lst)\n",
    "\n",
    "    return df"
   ]
  },
  {
   "cell_type": "code",
   "execution_count": 2,
   "id": "6116ab12-47a5-4e89-9787-02aecb832c0e",
   "metadata": {},
   "outputs": [],
   "source": [
    "dicts_lst = config.nat_tv_slices"
   ]
  },
  {
   "cell_type": "code",
   "execution_count": 6,
   "id": "f0c691db-7731-4cd0-9627-4db3cd2a8174",
   "metadata": {},
   "outputs": [],
   "source": [
    "def get_tv_index_dicts(dict_name, ids_lst=None):\n",
    "    if ids_lst:\n",
    "        ids_lst = [str(id) for id in ids_lst]\n",
    "        \n",
    "    if 'advertiserList' in dict_name:\n",
    "        df = cats.get_tv_advertiser_list(ids_lst)\n",
    "        df = df.rename(columns={'id': 'advertiserListId', 'name': 'advertiserListName', 'ename': 'advertiserListEName'})\n",
    "\n",
    "    if 'brandList' in dict_name:\n",
    "        df = cats.get_tv_brand_list(search_lst)\n",
    "        df = df.rename(columns={'id': 'brandListId', 'name': 'brandListName', 'ename': 'brandListEName'})\n",
    "        \n",
    "    if 'subbrandList' in dict_name:\n",
    "        df = cats.get_tv_subbrand_list(search_lst)\n",
    "        df = df.rename(columns={'id': 'subbrandListId', 'name': 'subbrandListName', 'ename': 'subbrandListEName'})\n",
    "\n",
    "    if 'modelList'in dict_name:\n",
    "        df = cats.get_tv_model_list(search_lst)\n",
    "        df = df.rename(columns={'id': 'modelListId', 'name': 'modelListName', 'ename': 'modelListEName'})\n",
    "        \n",
    "    if 'articleList2' in dict_name:\n",
    "        df = cats.get_tv_article_list2(search_lst)\n",
    "        df = df.rename(columns={'id': 'articleList2Id', 'name': 'articleList2Name', 'ename': 'articleList2EName'})\n",
    "\n",
    "    if 'articleList3' in dict_name:\n",
    "        df = cats.get_tv_article_list3(search_lst)\n",
    "        df = df.rename(columns={'id': 'articleList3Id', 'name': 'articleList3Name', 'ename': 'articleList3EName'})\n",
    "\n",
    "    if 'articleList4' in dict_name:\n",
    "        df = cats.get_tv_article_list4(search_lst)\n",
    "        df = df.rename(columns={'id': 'articleList4Id', 'name': 'articleList4Name', 'ename': 'articleList4EName\n",
    "                                \n",
    "    if 'adId' in dict_name:\n",
    "        df = cats.get_tv_ad(search_lst)\n",
    "        df = df.rename(columns={'id': 'adId', 'name': 'adName', 'ename': 'adEName'})\n",
    "\n",
    "    if 'adSloganAudioId' in dict_name:\n",
    "        df = cats.get_tv_ad_slogan_audio(search_lst)\n",
    "        df = df.rename(columns={'id': 'adSloganAudioId', 'name': 'adSloganAudioName', 'notes': 'adSloganAudioNotes'})\n",
    "\n",
    "    if 'adSloganVideo' in dict_name:\n",
    "        df = cats.get_tv_ad_slogan_video(search_lst)\n",
    "        df = df.rename(columns={'id': 'adSloganVideoId', 'name': 'adSloganVideoName', 'notes': 'adSloganVideoNotes'})\n",
    "\n",
    "    # if 'region' in dict_name:\n",
    "    #     df = cats.get_tv_region(search_lst)\n",
    "    #     df = df.rename(columns={'id': 'regionId', 'name': 'regionName', 'ename': 'regionEName'})\n",
    "\n",
    "    if 'tvCompany' in dict_name:\n",
    "        df = cats.get_tv_company(search_lst)\n",
    "        df = df.rename(columns={'id': 'tvCompanyId', 'name': 'tvCompanyName', 'ename': 'tvCompanyEName'})\n",
    "\n",
    "    if 'adType' in dict_name:\n",
    "        df = cats.get_tv_ad_type(search_lst)\n",
    "        df = df.rename(columns={'id': 'adTypeId', 'name': 'adTypeName', 'ename': 'adTypeEName'})\n",
    "        \n",
    "    return df"
   ]
  },
  {
   "cell_type": "code",
   "execution_count": 15,
   "id": "b933470a-9f60-4124-8704-e44a7255db35",
   "metadata": {},
   "outputs": [
    {
     "name": "stdout",
     "output_type": "stream",
     "text": [
      "Запрошены записи: 0 - 3\n",
      "Всего найдено записей: 3\n",
      "\n"
     ]
    }
   ],
   "source": [
    "dict_name = 'advertiserListId'\n",
    "ids_lst = [954, 1, 4]\n",
    "test = get_tv_index_dicts(dict_name, ids_lst)"
   ]
  },
  {
   "cell_type": "code",
   "execution_count": 14,
   "id": "7febe71f-70e6-435f-abe2-73b3bd214eda",
   "metadata": {},
   "outputs": [
    {
     "data": {
      "text/html": [
       "<div>\n",
       "<style scoped>\n",
       "    .dataframe tbody tr th:only-of-type {\n",
       "        vertical-align: middle;\n",
       "    }\n",
       "\n",
       "    .dataframe tbody tr th {\n",
       "        vertical-align: top;\n",
       "    }\n",
       "\n",
       "    .dataframe thead th {\n",
       "        text-align: right;\n",
       "    }\n",
       "</style>\n",
       "<table border=\"1\" class=\"dataframe\">\n",
       "  <thead>\n",
       "    <tr style=\"text-align: right;\">\n",
       "      <th></th>\n",
       "      <th>id</th>\n",
       "      <th>advertiserListName</th>\n",
       "      <th>advertiserListEName</th>\n",
       "    </tr>\n",
       "  </thead>\n",
       "  <tbody>\n",
       "    <tr>\n",
       "      <th>0</th>\n",
       "      <td>1</td>\n",
       "      <td>N/A</td>\n",
       "      <td>N/A</td>\n",
       "    </tr>\n",
       "    <tr>\n",
       "      <th>1</th>\n",
       "      <td>4</td>\n",
       "      <td>PANASONIC CORPORATION</td>\n",
       "      <td>PANASONIC CORPORATION</td>\n",
       "    </tr>\n",
       "    <tr>\n",
       "      <th>2</th>\n",
       "      <td>954</td>\n",
       "      <td>СБЕР</td>\n",
       "      <td>SBER</td>\n",
       "    </tr>\n",
       "  </tbody>\n",
       "</table>\n",
       "</div>"
      ],
      "text/plain": [
       "    id     advertiserListName    advertiserListEName\n",
       "0    1                    N/A                    N/A\n",
       "1    4  PANASONIC CORPORATION  PANASONIC CORPORATION\n",
       "2  954                   СБЕР                   SBER"
      ]
     },
     "execution_count": 14,
     "metadata": {},
     "output_type": "execute_result"
    }
   ],
   "source": [
    "test.head()"
   ]
  }
 ],
 "metadata": {
  "kernelspec": {
   "display_name": "Python 3 (ipykernel)",
   "language": "python",
   "name": "python3"
  },
  "language_info": {
   "codemirror_mode": {
    "name": "ipython",
    "version": 3
   },
   "file_extension": ".py",
   "mimetype": "text/x-python",
   "name": "python",
   "nbconvert_exporter": "python",
   "pygments_lexer": "ipython3",
   "version": "3.11.7"
  }
 },
 "nbformat": 4,
 "nbformat_minor": 5
}
