{
 "cells": [
  {
   "cell_type": "code",
   "execution_count": 1,
   "id": "3e22073d-d5e2-453d-b1a8-8c54c8c029bd",
   "metadata": {},
   "outputs": [],
   "source": [
    "import warnings\n",
    "\n",
    "import pandas as pd\n",
    "import numpy as np\n",
    "from sqlalchemy import create_engine\n",
    "import pyodbc\n",
    "import turbodbc\n",
    "from turbodbc import connect\n",
    "\n",
    "\n",
    "import config\n",
    "import config_media_costs\n",
    "from normalize_funcs import normalize_columns_types\n",
    "from create_dicts import get_cleaning_dict\n",
    "from db_funcs import createDBTable, downloadTableToDB, get_mssql_table\n",
    "\n",
    "\n",
    "db_name = config.db_name"
   ]
  },
  {
   "cell_type": "code",
   "execution_count": 2,
   "id": "9e6f969f-0199-4c80-87c5-9525df8a2b14",
   "metadata": {},
   "outputs": [],
   "source": [
    "# Включаем отображение всех колонок\n",
    "pd.set_option('display.max_columns', None)\n",
    "# Задаем ширину столбцов по контенту\n",
    "pd.set_option('display.max_colwidth', None)\n",
    "pd.set_option('display.max_rows', None)\n",
    "\n",
    "warnings.simplefilter(action='ignore', category=FutureWarning)\n",
    "# убираем лишние предупреждения\n",
    "pd.set_option('mode.chained_assignment', None)"
   ]
  },
  {
   "cell_type": "code",
   "execution_count": null,
   "id": "ea4a4c4e-9a05-4e11-b47b-916f0ba712ef",
   "metadata": {},
   "outputs": [],
   "source": []
  },
  {
   "cell_type": "code",
   "execution_count": 3,
   "id": "652bc1df-2ea4-4e04-bf4b-7ed96e172d4e",
   "metadata": {},
   "outputs": [],
   "source": [
    "def get_adex_dicts(dict_name, search_lst=None):\n",
    "    search_lst_str = ''\n",
    "    # если передан список уникальных ИД объявлений, то преобразуем список в строку\n",
    "    if search_lst:\n",
    "        # достаем из настроек словарей навзание колонк,по которой нужно выполнить фильтрацию в исходной БД Медиаскоп\n",
    "        search_col_name = config_media_costs.adex_dicts[dict_name][3]\n",
    "        \n",
    "        search_lst_str = config.get_lst_to_str(search_lst)\n",
    "        # формируем условие для фильтрации запроса к БД\n",
    "        search_lst_str = f'where {search_col_name} in ({search_lst_str})'\n",
    "    # для каждого справочника формируем строку с указанием полей для загрузки\n",
    "    if 'tv_Ad'==dict_name:\n",
    "        cols = 'vid, name as adName, notes, atid, stdur, alid, blid, sblid, mlid, slid2, slid3, slid4, fiss, slaid, slvid'\n",
    "        \n",
    "\n",
    "    # отправляем запрос в БД Медиа инвестиции\n",
    "    query = f'select {cols} from {dict_name} {search_lst_str}' \n",
    "    df = get_mssql_table(config.investments_db_name, query=query, conn_lst=config.conn_lst)\n",
    "    \n",
    "    # переименовываем поля - приводим их в соответсвии с названиями из ТВ Индекс\n",
    "    # перебираем справочник config_tv_investments.rename_cols_dict\n",
    "    # если название поля из Медиа инвестиции есть в ключах, то забираем пару ключ-значение\n",
    "    # чтобы передать для присвоения нового названия\n",
    "    new_cols_name = {key: value for (key, value) in config_media_costs.rename_cols_dict.items() if key in list(df.columns)}\n",
    "    df = df.rename(columns=new_cols_name)\n",
    "    \n",
    "    return df"
   ]
  },
  {
   "cell_type": "code",
   "execution_count": 7,
   "id": "c5bcc81e-3f89-40d7-b7b2-1b09a398923b",
   "metadata": {},
   "outputs": [
    {
     "name": "stdout",
     "output_type": "stream",
     "text": [
      "Все ок. Подключились!\n",
      "Загрузка завершена успешно\n"
     ]
    }
   ],
   "source": [
    "query = f\"select distinct adId  from media_tv_costs\"\n",
    "ad_id_dict = get_mssql_table(config.db_name, query=query)\n",
    "search_lst = list(ad_id_dict['adId'])"
   ]
  },
  {
   "cell_type": "code",
   "execution_count": 8,
   "id": "3004e8db-be14-4d43-8427-f1b0f4567eea",
   "metadata": {},
   "outputs": [
    {
     "data": {
      "text/plain": [
       "2940"
      ]
     },
     "execution_count": 8,
     "metadata": {},
     "output_type": "execute_result"
    }
   ],
   "source": [
    "len(search_lst)"
   ]
  },
  {
   "cell_type": "code",
   "execution_count": null,
   "id": "ef674fbd-1492-49cb-8bc3-a6a5455ed308",
   "metadata": {},
   "outputs": [],
   "source": [
    "# createDBTable(config.db_name, 'media_tv_costs', config_media_costs.media_tv_costs_vars_list, flag='create')"
   ]
  },
  {
   "cell_type": "code",
   "execution_count": 41,
   "id": "83ec8434-d7dc-4ade-9cb3-68ccacb57f91",
   "metadata": {},
   "outputs": [
    {
     "name": "stdout",
     "output_type": "stream",
     "text": [
      "tv_Ad\n",
      "Все ок. Подключились!\n",
      "Загрузка завершена успешно\n"
     ]
    }
   ],
   "source": [
    "for key, value in config_media_costs.adex_dicts.items():\n",
    "    print(key)\n",
    "    df = get_adex_dicts(key, search_lst)"
   ]
  },
  {
   "cell_type": "code",
   "execution_count": 24,
   "id": "5d759828-14e0-47fe-aa99-ea6e33b7d489",
   "metadata": {},
   "outputs": [
    {
     "data": {
      "text/plain": [
       "(2940, 15)"
      ]
     },
     "execution_count": 24,
     "metadata": {},
     "output_type": "execute_result"
    }
   ],
   "source": [
    "df.shape"
   ]
  },
  {
   "cell_type": "code",
   "execution_count": 25,
   "id": "bb9e2b0e-44e6-43fa-b9d2-f42f93ea430d",
   "metadata": {},
   "outputs": [
    {
     "data": {
      "text/html": [
       "<div>\n",
       "<style scoped>\n",
       "    .dataframe tbody tr th:only-of-type {\n",
       "        vertical-align: middle;\n",
       "    }\n",
       "\n",
       "    .dataframe tbody tr th {\n",
       "        vertical-align: top;\n",
       "    }\n",
       "\n",
       "    .dataframe thead th {\n",
       "        text-align: right;\n",
       "    }\n",
       "</style>\n",
       "<table border=\"1\" class=\"dataframe\">\n",
       "  <thead>\n",
       "    <tr style=\"text-align: right;\">\n",
       "      <th></th>\n",
       "      <th>adId</th>\n",
       "      <th>adName</th>\n",
       "      <th>adNotes</th>\n",
       "      <th>ad_type_id</th>\n",
       "      <th>adStandardDuration</th>\n",
       "      <th>advertiserListId</th>\n",
       "      <th>brandListId</th>\n",
       "      <th>subbrandListId</th>\n",
       "      <th>modelListId</th>\n",
       "      <th>articleList2Id</th>\n",
       "      <th>articleList3Id</th>\n",
       "      <th>articleList4Id</th>\n",
       "      <th>fiss</th>\n",
       "      <th>adSloganAudioId</th>\n",
       "      <th>adSloganVideoId</th>\n",
       "    </tr>\n",
       "  </thead>\n",
       "  <tbody>\n",
       "    <tr>\n",
       "      <th>0</th>\n",
       "      <td>2493941</td>\n",
       "      <td></td>\n",
       "      <td></td>\n",
       "      <td>5</td>\n",
       "      <td>0</td>\n",
       "      <td>314040</td>\n",
       "      <td>578484</td>\n",
       "      <td>519062</td>\n",
       "      <td>2193612</td>\n",
       "      <td>50079</td>\n",
       "      <td>144958</td>\n",
       "      <td>267476</td>\n",
       "      <td>20150316</td>\n",
       "      <td>1</td>\n",
       "      <td>1</td>\n",
       "    </tr>\n",
       "    <tr>\n",
       "      <th>1</th>\n",
       "      <td>2803119</td>\n",
       "      <td>OZON.RU -</td>\n",
       "      <td></td>\n",
       "      <td>5</td>\n",
       "      <td>0</td>\n",
       "      <td>809333</td>\n",
       "      <td>2118308</td>\n",
       "      <td>2541505</td>\n",
       "      <td>5343394</td>\n",
       "      <td>50079</td>\n",
       "      <td>150115</td>\n",
       "      <td>416599</td>\n",
       "      <td>20160319</td>\n",
       "      <td>1</td>\n",
       "      <td>1</td>\n",
       "    </tr>\n",
       "  </tbody>\n",
       "</table>\n",
       "</div>"
      ],
      "text/plain": [
       "      adId     adName adNotes  ad_type_id  adStandardDuration  \\\n",
       "0  2493941                              5                   0   \n",
       "1  2803119  OZON.RU -                   5                   0   \n",
       "\n",
       "   advertiserListId  brandListId  subbrandListId  modelListId  articleList2Id  \\\n",
       "0            314040       578484          519062      2193612           50079   \n",
       "1            809333      2118308         2541505      5343394           50079   \n",
       "\n",
       "   articleList3Id  articleList4Id      fiss  adSloganAudioId  adSloganVideoId  \n",
       "0          144958          267476  20150316                1                1  \n",
       "1          150115          416599  20160319                1                1  "
      ]
     },
     "execution_count": 25,
     "metadata": {},
     "output_type": "execute_result"
    }
   ],
   "source": [
    "df.head(2)"
   ]
  },
  {
   "cell_type": "code",
   "execution_count": null,
   "id": "ac0ad410-6ed2-4c42-87bb-d27a232c0174",
   "metadata": {},
   "outputs": [],
   "source": [
    "# for key, value in config_media_costs.adex_dicts.items():\n",
    "#     print(key)"
   ]
  },
  {
   "cell_type": "code",
   "execution_count": null,
   "id": "a2444139-0c1c-45a4-b7e0-6a0a93e20d99",
   "metadata": {},
   "outputs": [],
   "source": [
    "# функция для обонвления основного справочнка объявлений nat_tv_ad_dict\n",
    "# ее запускаем в самую после заливки данных из ТВ индекс и обновления всех справочников\n",
    "# НО ПЕРЕД заливкой новых объявлений в гугл докс\n",
    "\n",
    "def merge_cleaning_adex_ad_dict(df, media_type):\n",
    "    # забираем гугл докс с чисткой\n",
    "    df_cleaning_dict = get_cleaning_dict(media_type=media_type)\n",
    "    # нормализуем типы данных\n",
    "    df_cleaning_dict = normalize_columns_types(df_cleaning_dict, config.custom_ad_dict_int_lst) \n",
    "    \n",
    "    # создаем список из названий полей, которые нам нужны дальше для метчинга\n",
    "    custom_cols_list = [col[:col.find(' ')] for col in config.custom_ad_dict_vars_list]\n",
    "    custom_cols_list = list(set(custom_cols_list) - set(['ad_id', 'media_type']))\n",
    "    # оставляем только нужные поля\n",
    "    df_cleaning_dict = df_cleaning_dict[custom_cols_list]"
   ]
  },
  {
   "cell_type": "code",
   "execution_count": 42,
   "id": "1b6f88fe-89d7-4703-a399-8527c7f1ba01",
   "metadata": {},
   "outputs": [
    {
     "name": "stderr",
     "output_type": "stream",
     "text": [
      "C:\\Users\\o.bogomolov\\Desktop\\Jupyter_notebook\\42_02_mediascope_costs_n_ratings\\create_dicts.py:68: DtypeWarning: Columns (2) have mixed types. Specify dtype option on import or set low_memory=False.\n",
      "  df = pd.read_csv(full_cleaning_link, header=None, usecols=cols_count)\n"
     ]
    }
   ],
   "source": [
    "media_type='tv'\n",
    "df_cleaning_dict = get_cleaning_dict(media_type=media_type)\n",
    "# нормализуем типы данных\n",
    "df_cleaning_dict = normalize_columns_types(df_cleaning_dict, config.custom_ad_dict_int_lst) \n",
    "\n",
    "# создаем список из названий полей, которые нам нужны дальше для метчинга\n",
    "custom_cols_list = [col[:col.find(' ')] for col in config.custom_ad_dict_vars_list]\n",
    "custom_cols_list = list(set(custom_cols_list) - set(['ad_id', 'media_type']))\n",
    "# оставляем только нужные поля\n",
    "df_cleaning_dict = df_cleaning_dict[custom_cols_list]"
   ]
  },
  {
   "cell_type": "code",
   "execution_count": 15,
   "id": "545f876f-1bfa-4b51-88b6-c248c8251640",
   "metadata": {},
   "outputs": [
    {
     "data": {
      "text/plain": [
       "(40114, 11)"
      ]
     },
     "execution_count": 15,
     "metadata": {},
     "output_type": "execute_result"
    }
   ],
   "source": [
    "df_cleaning_dict.shape"
   ]
  },
  {
   "cell_type": "code",
   "execution_count": 16,
   "id": "a1b58228-81d9-4a94-a21e-a8acfae8fd03",
   "metadata": {},
   "outputs": [
    {
     "data": {
      "text/html": [
       "<div>\n",
       "<style scoped>\n",
       "    .dataframe tbody tr th:only-of-type {\n",
       "        vertical-align: middle;\n",
       "    }\n",
       "\n",
       "    .dataframe tbody tr th {\n",
       "        vertical-align: top;\n",
       "    }\n",
       "\n",
       "    .dataframe thead th {\n",
       "        text-align: right;\n",
       "    }\n",
       "</style>\n",
       "<table border=\"1\" class=\"dataframe\">\n",
       "  <thead>\n",
       "    <tr style=\"text-align: right;\">\n",
       "      <th></th>\n",
       "      <th>advertiser_type</th>\n",
       "      <th>cleaning_flag</th>\n",
       "      <th>clip_type_region</th>\n",
       "      <th>product_category</th>\n",
       "      <th>competitor</th>\n",
       "      <th>advertiser_main</th>\n",
       "      <th>media_key_id</th>\n",
       "      <th>delivery</th>\n",
       "      <th>brand_main</th>\n",
       "      <th>category_general</th>\n",
       "      <th>include_exclude</th>\n",
       "    </tr>\n",
       "  </thead>\n",
       "  <tbody>\n",
       "    <tr>\n",
       "      <th>17109</th>\n",
       "      <td>PRODUCER</td>\n",
       "      <td>1</td>\n",
       "      <td>СПОНСОР</td>\n",
       "      <td>ДРУГОЕ</td>\n",
       "      <td>YES</td>\n",
       "      <td>X5 GROUP</td>\n",
       "      <td>TV_905474</td>\n",
       "      <td>ОФФЛАЙН</td>\n",
       "      <td>ПЯТЕРОЧКА</td>\n",
       "      <td>СУПЕРМАРКЕТЫ</td>\n",
       "      <td>INCLUDE</td>\n",
       "    </tr>\n",
       "  </tbody>\n",
       "</table>\n",
       "</div>"
      ],
      "text/plain": [
       "      advertiser_type  cleaning_flag clip_type_region product_category  \\\n",
       "17109        PRODUCER              1          СПОНСОР           ДРУГОЕ   \n",
       "\n",
       "      competitor advertiser_main media_key_id delivery brand_main  \\\n",
       "17109        YES        X5 GROUP    TV_905474  ОФФЛАЙН  ПЯТЕРОЧКА   \n",
       "\n",
       "      category_general include_exclude  \n",
       "17109     СУПЕРМАРКЕТЫ         INCLUDE  "
      ]
     },
     "execution_count": 16,
     "metadata": {},
     "output_type": "execute_result"
    }
   ],
   "source": [
    "df_cleaning_dict.head(1)"
   ]
  },
  {
   "cell_type": "code",
   "execution_count": 43,
   "id": "496bf410-e130-4c29-8425-8d144dfd313f",
   "metadata": {},
   "outputs": [],
   "source": [
    "media_type = media_type.upper()\n",
    "df['media_type'] = media_type\n",
    "df['media_key_id'] = df['media_type'] + '_' + df['adId'].astype('str')\n",
    "\n",
    "df['fiss'] = df['fiss'].astype('str')\n",
    "df['adFirstIssueDate'] = df['fiss'].apply(lambda x: x[:4] + '-' + x[4:6] + '-' + x[6:] if x!='' else x)\n",
    "\n",
    "df = df.merge(df_cleaning_dict, how='left', left_on=['media_key_id'], right_on=['media_key_id'])\n",
    " # df['cleaning_flag'] = df['include_exclude'].apply(lambda x: 1 if x=='include' else 0)"
   ]
  },
  {
   "cell_type": "code",
   "execution_count": 47,
   "id": "1a4a7c7c-7f95-4b0d-a193-d819b83ed9d6",
   "metadata": {},
   "outputs": [],
   "source": [
    "table_name = 'tv_Ad'\n",
    "cols_lst = config_media_costs.adex_dicts[table_name][1]\n",
    "cols_lst = [i[:i.find(' ')] for i in cols_lst]\n",
    "df = df[cols_lst]\n",
    "\n",
    "df = normalize_columns_types(df, config_media_costs.adex_dicts[table_name][2])\n",
    "# записываем в БД отчет по Баинговой аудитории\n",
    "downloadTableToDB(config.db_name, config_media_costs.adex_dicts[table_name][0], df)"
   ]
  },
  {
   "cell_type": "code",
   "execution_count": 48,
   "id": "d71f1d8c-9623-47ef-8e36-bb1212ddb439",
   "metadata": {},
   "outputs": [
    {
     "data": {
      "text/html": [
       "<div>\n",
       "<style scoped>\n",
       "    .dataframe tbody tr th:only-of-type {\n",
       "        vertical-align: middle;\n",
       "    }\n",
       "\n",
       "    .dataframe tbody tr th {\n",
       "        vertical-align: top;\n",
       "    }\n",
       "\n",
       "    .dataframe thead th {\n",
       "        text-align: right;\n",
       "    }\n",
       "</style>\n",
       "<table border=\"1\" class=\"dataframe\">\n",
       "  <thead>\n",
       "    <tr style=\"text-align: right;\">\n",
       "      <th></th>\n",
       "      <th>media_key_id</th>\n",
       "      <th>media_type</th>\n",
       "      <th>adId</th>\n",
       "      <th>adName</th>\n",
       "      <th>adNotes</th>\n",
       "      <th>ad_type_id</th>\n",
       "      <th>adStandardDuration</th>\n",
       "      <th>advertiserListId</th>\n",
       "      <th>brandListId</th>\n",
       "      <th>subbrandListId</th>\n",
       "      <th>modelListId</th>\n",
       "      <th>articleList2Id</th>\n",
       "      <th>articleList3Id</th>\n",
       "      <th>articleList4Id</th>\n",
       "      <th>adSloganAudioId</th>\n",
       "      <th>adSloganVideoId</th>\n",
       "      <th>adFirstIssueDate</th>\n",
       "      <th>cleaning_flag</th>\n",
       "      <th>clip_type_region</th>\n",
       "      <th>advertiser_type</th>\n",
       "      <th>advertiser_main</th>\n",
       "      <th>brand_main</th>\n",
       "      <th>competitor</th>\n",
       "      <th>category_general</th>\n",
       "      <th>delivery</th>\n",
       "      <th>product_category</th>\n",
       "    </tr>\n",
       "  </thead>\n",
       "  <tbody>\n",
       "    <tr>\n",
       "      <th>0</th>\n",
       "      <td>TV_2493941</td>\n",
       "      <td>TV</td>\n",
       "      <td>2493941</td>\n",
       "      <td></td>\n",
       "      <td></td>\n",
       "      <td>5</td>\n",
       "      <td>0</td>\n",
       "      <td>314040</td>\n",
       "      <td>578484</td>\n",
       "      <td>519062</td>\n",
       "      <td>2193612</td>\n",
       "      <td>50079</td>\n",
       "      <td>144958</td>\n",
       "      <td>267476</td>\n",
       "      <td>1</td>\n",
       "      <td>1</td>\n",
       "      <td>2015-03-16</td>\n",
       "      <td>1.0</td>\n",
       "      <td>СПОНСОР</td>\n",
       "      <td>PRODUCER</td>\n",
       "      <td>ТАНДЕР</td>\n",
       "      <td>МАГНИТ</td>\n",
       "      <td>YES</td>\n",
       "      <td>СУПЕРМАРКЕТЫ</td>\n",
       "      <td>ОФФЛАЙН</td>\n",
       "      <td>ДРУГОЕ</td>\n",
       "    </tr>\n",
       "  </tbody>\n",
       "</table>\n",
       "</div>"
      ],
      "text/plain": [
       "  media_key_id media_type     adId adName adNotes  ad_type_id  \\\n",
       "0   TV_2493941         TV  2493941                          5   \n",
       "\n",
       "   adStandardDuration  advertiserListId  brandListId  subbrandListId  \\\n",
       "0                   0            314040       578484          519062   \n",
       "\n",
       "   modelListId  articleList2Id  articleList3Id  articleList4Id  \\\n",
       "0      2193612           50079          144958          267476   \n",
       "\n",
       "   adSloganAudioId  adSloganVideoId adFirstIssueDate  cleaning_flag  \\\n",
       "0                1                1       2015-03-16            1.0   \n",
       "\n",
       "  clip_type_region advertiser_type advertiser_main brand_main competitor  \\\n",
       "0          СПОНСОР        PRODUCER          ТАНДЕР     МАГНИТ        YES   \n",
       "\n",
       "  category_general delivery product_category  \n",
       "0     СУПЕРМАРКЕТЫ  ОФФЛАЙН           ДРУГОЕ  "
      ]
     },
     "execution_count": 48,
     "metadata": {},
     "output_type": "execute_result"
    }
   ],
   "source": [
    "df.head(1)"
   ]
  },
  {
   "cell_type": "code",
   "execution_count": 45,
   "id": "1483d9c3-dc35-4623-9115-67f22a4e52b4",
   "metadata": {},
   "outputs": [
    {
     "data": {
      "text/html": [
       "<div>\n",
       "<style scoped>\n",
       "    .dataframe tbody tr th:only-of-type {\n",
       "        vertical-align: middle;\n",
       "    }\n",
       "\n",
       "    .dataframe tbody tr th {\n",
       "        vertical-align: top;\n",
       "    }\n",
       "\n",
       "    .dataframe thead th {\n",
       "        text-align: right;\n",
       "    }\n",
       "</style>\n",
       "<table border=\"1\" class=\"dataframe\">\n",
       "  <thead>\n",
       "    <tr style=\"text-align: right;\">\n",
       "      <th></th>\n",
       "      <th>adId</th>\n",
       "      <th>adName</th>\n",
       "      <th>adNotes</th>\n",
       "      <th>ad_type_id</th>\n",
       "      <th>adStandardDuration</th>\n",
       "      <th>advertiserListId</th>\n",
       "      <th>brandListId</th>\n",
       "      <th>subbrandListId</th>\n",
       "      <th>modelListId</th>\n",
       "      <th>articleList2Id</th>\n",
       "      <th>articleList3Id</th>\n",
       "      <th>articleList4Id</th>\n",
       "      <th>fiss</th>\n",
       "      <th>adSloganAudioId</th>\n",
       "      <th>adSloganVideoId</th>\n",
       "      <th>media_type</th>\n",
       "      <th>media_key_id</th>\n",
       "      <th>adFirstIssueDate</th>\n",
       "      <th>advertiser_type</th>\n",
       "      <th>cleaning_flag</th>\n",
       "      <th>clip_type_region</th>\n",
       "      <th>product_category</th>\n",
       "      <th>competitor</th>\n",
       "      <th>advertiser_main</th>\n",
       "      <th>delivery</th>\n",
       "      <th>brand_main</th>\n",
       "      <th>category_general</th>\n",
       "      <th>include_exclude</th>\n",
       "    </tr>\n",
       "  </thead>\n",
       "  <tbody>\n",
       "    <tr>\n",
       "      <th>0</th>\n",
       "      <td>2493941</td>\n",
       "      <td></td>\n",
       "      <td></td>\n",
       "      <td>5</td>\n",
       "      <td>0</td>\n",
       "      <td>314040</td>\n",
       "      <td>578484</td>\n",
       "      <td>519062</td>\n",
       "      <td>2193612</td>\n",
       "      <td>50079</td>\n",
       "      <td>144958</td>\n",
       "      <td>267476</td>\n",
       "      <td>20150316</td>\n",
       "      <td>1</td>\n",
       "      <td>1</td>\n",
       "      <td>TV</td>\n",
       "      <td>TV_2493941</td>\n",
       "      <td>2015-03-16</td>\n",
       "      <td>PRODUCER</td>\n",
       "      <td>1.0</td>\n",
       "      <td>СПОНСОР</td>\n",
       "      <td>ДРУГОЕ</td>\n",
       "      <td>YES</td>\n",
       "      <td>ТАНДЕР</td>\n",
       "      <td>ОФФЛАЙН</td>\n",
       "      <td>МАГНИТ</td>\n",
       "      <td>СУПЕРМАРКЕТЫ</td>\n",
       "      <td>INCLUDE</td>\n",
       "    </tr>\n",
       "  </tbody>\n",
       "</table>\n",
       "</div>"
      ],
      "text/plain": [
       "      adId adName adNotes  ad_type_id  adStandardDuration  advertiserListId  \\\n",
       "0  2493941                          5                   0            314040   \n",
       "\n",
       "   brandListId  subbrandListId  modelListId  articleList2Id  articleList3Id  \\\n",
       "0       578484          519062      2193612           50079          144958   \n",
       "\n",
       "   articleList4Id      fiss  adSloganAudioId  adSloganVideoId media_type  \\\n",
       "0          267476  20150316                1                1         TV   \n",
       "\n",
       "  media_key_id adFirstIssueDate advertiser_type  cleaning_flag  \\\n",
       "0   TV_2493941       2015-03-16        PRODUCER            1.0   \n",
       "\n",
       "  clip_type_region product_category competitor advertiser_main delivery  \\\n",
       "0          СПОНСОР           ДРУГОЕ        YES          ТАНДЕР  ОФФЛАЙН   \n",
       "\n",
       "  brand_main category_general include_exclude  \n",
       "0     МАГНИТ     СУПЕРМАРКЕТЫ         INCLUDE  "
      ]
     },
     "execution_count": 45,
     "metadata": {},
     "output_type": "execute_result"
    }
   ],
   "source": [
    "df.head(1)"
   ]
  },
  {
   "cell_type": "code",
   "execution_count": 51,
   "id": "bbf23780-ad10-4bd9-ada6-cd6bf9d79da3",
   "metadata": {},
   "outputs": [
    {
     "name": "stdout",
     "output_type": "stream",
     "text": [
      "Все ок. Подключились!\n",
      "Скрипт запущен 2025-04-08 19:32:27.507623\n",
      "Данные добавлены в БД: mediascope_x5, таблица: adex_ad_dict_list_tv\n",
      "Скрипт отработал 2025-04-08 19:32:27.634623\n",
      "Время выполнения задачи: 0:00:00.127000\n",
      "Загрузка завершена. Данные успешно добавлены в БД: mediascope_x5\n",
      "##################################################\n",
      "\n"
     ]
    }
   ],
   "source": []
  },
  {
   "cell_type": "code",
   "execution_count": 50,
   "id": "f6a3988d-5b0b-4fd3-857d-b2bb5b08729c",
   "metadata": {},
   "outputs": [
    {
     "data": {
      "text/html": [
       "<div>\n",
       "<style scoped>\n",
       "    .dataframe tbody tr th:only-of-type {\n",
       "        vertical-align: middle;\n",
       "    }\n",
       "\n",
       "    .dataframe tbody tr th {\n",
       "        vertical-align: top;\n",
       "    }\n",
       "\n",
       "    .dataframe thead th {\n",
       "        text-align: right;\n",
       "    }\n",
       "</style>\n",
       "<table border=\"1\" class=\"dataframe\">\n",
       "  <thead>\n",
       "    <tr style=\"text-align: right;\">\n",
       "      <th></th>\n",
       "      <th>media_key_id</th>\n",
       "      <th>media_type</th>\n",
       "      <th>adId</th>\n",
       "      <th>adName</th>\n",
       "      <th>adNotes</th>\n",
       "      <th>ad_type_id</th>\n",
       "      <th>adStandardDuration</th>\n",
       "      <th>advertiserListId</th>\n",
       "      <th>brandListId</th>\n",
       "      <th>subbrandListId</th>\n",
       "      <th>modelListId</th>\n",
       "      <th>articleList2Id</th>\n",
       "      <th>articleList3Id</th>\n",
       "      <th>articleList4Id</th>\n",
       "      <th>adSloganAudioId</th>\n",
       "      <th>adSloganVideoId</th>\n",
       "      <th>adFirstIssueDate</th>\n",
       "      <th>cleaning_flag</th>\n",
       "      <th>clip_type_region</th>\n",
       "      <th>advertiser_type</th>\n",
       "      <th>advertiser_main</th>\n",
       "      <th>brand_main</th>\n",
       "      <th>competitor</th>\n",
       "      <th>category_general</th>\n",
       "      <th>delivery</th>\n",
       "      <th>product_category</th>\n",
       "    </tr>\n",
       "  </thead>\n",
       "  <tbody>\n",
       "    <tr>\n",
       "      <th>0</th>\n",
       "      <td>TV_2493941</td>\n",
       "      <td>TV</td>\n",
       "      <td>2493941</td>\n",
       "      <td></td>\n",
       "      <td></td>\n",
       "      <td>5</td>\n",
       "      <td>0</td>\n",
       "      <td>314040</td>\n",
       "      <td>578484</td>\n",
       "      <td>519062</td>\n",
       "      <td>2193612</td>\n",
       "      <td>50079</td>\n",
       "      <td>144958</td>\n",
       "      <td>267476</td>\n",
       "      <td>1</td>\n",
       "      <td>1</td>\n",
       "      <td>2015-03-16</td>\n",
       "      <td>1</td>\n",
       "      <td>СПОНСОР</td>\n",
       "      <td>PRODUCER</td>\n",
       "      <td>ТАНДЕР</td>\n",
       "      <td>МАГНИТ</td>\n",
       "      <td>YES</td>\n",
       "      <td>СУПЕРМАРКЕТЫ</td>\n",
       "      <td>ОФФЛАЙН</td>\n",
       "      <td>ДРУГОЕ</td>\n",
       "    </tr>\n",
       "  </tbody>\n",
       "</table>\n",
       "</div>"
      ],
      "text/plain": [
       "  media_key_id media_type     adId adName adNotes  ad_type_id  \\\n",
       "0   TV_2493941         TV  2493941                          5   \n",
       "\n",
       "   adStandardDuration  advertiserListId  brandListId  subbrandListId  \\\n",
       "0                   0            314040       578484          519062   \n",
       "\n",
       "   modelListId  articleList2Id  articleList3Id  articleList4Id  \\\n",
       "0      2193612           50079          144958          267476   \n",
       "\n",
       "   adSloganAudioId  adSloganVideoId adFirstIssueDate  cleaning_flag  \\\n",
       "0                1                1       2015-03-16              1   \n",
       "\n",
       "  clip_type_region advertiser_type advertiser_main brand_main competitor  \\\n",
       "0          СПОНСОР        PRODUCER          ТАНДЕР     МАГНИТ        YES   \n",
       "\n",
       "  category_general delivery product_category  \n",
       "0     СУПЕРМАРКЕТЫ  ОФФЛАЙН           ДРУГОЕ  "
      ]
     },
     "execution_count": 50,
     "metadata": {},
     "output_type": "execute_result"
    }
   ],
   "source": [
    "df.head(1)"
   ]
  },
  {
   "cell_type": "code",
   "execution_count": 40,
   "id": "8d6b9dbd-b930-4363-968d-1de3e5df0d0e",
   "metadata": {},
   "outputs": [
    {
     "data": {
      "text/plain": [
       "['media_key_id',\n",
       " 'media_type',\n",
       " 'adId',\n",
       " 'adName',\n",
       " 'adNotes',\n",
       " 'ad_type_id',\n",
       " 'adStandardDuration',\n",
       " 'advertiserListId',\n",
       " 'brandListId',\n",
       " 'subbrandListId',\n",
       " 'modelListId',\n",
       " 'articleList2Id',\n",
       " 'articleList3Id',\n",
       " 'articleList4Id',\n",
       " 'adSloganAudioId',\n",
       " 'adSloganVideoId',\n",
       " 'adFirstIssueDate',\n",
       " 'cleaning_flag',\n",
       " 'clip_type_region',\n",
       " 'advertiser_type',\n",
       " 'advertiser_main',\n",
       " 'brand_main',\n",
       " 'competitor',\n",
       " 'category_general',\n",
       " 'delivery',\n",
       " 'product_category']"
      ]
     },
     "execution_count": 40,
     "metadata": {},
     "output_type": "execute_result"
    }
   ],
   "source": [
    "cols_lst"
   ]
  }
 ],
 "metadata": {
  "kernelspec": {
   "display_name": "Python 3 (ipykernel)",
   "language": "python",
   "name": "python3"
  },
  "language_info": {
   "codemirror_mode": {
    "name": "ipython",
    "version": 3
   },
   "file_extension": ".py",
   "mimetype": "text/x-python",
   "name": "python",
   "nbconvert_exporter": "python",
   "pygments_lexer": "ipython3",
   "version": "3.11.7"
  }
 },
 "nbformat": 4,
 "nbformat_minor": 5
}
