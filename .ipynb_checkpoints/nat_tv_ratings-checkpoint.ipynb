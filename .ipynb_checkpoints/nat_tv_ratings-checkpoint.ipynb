{
 "cells": [
  {
   "cell_type": "code",
   "execution_count": 1,
   "id": "ce987e41-418b-4d26-82fc-c70918989d93",
   "metadata": {},
   "outputs": [
    {
     "name": "stdout",
     "output_type": "stream",
     "text": [
      "Запрошены записи: 0 - 314\n",
      "Всего найдено записей: 314\n",
      "\n",
      "Запрошены записи: 0 - 314\n",
      "Всего найдено записей: 314\n",
      "\n",
      "start_date: 2023-01-01 / end_date: 2023-01-02\n"
     ]
    }
   ],
   "source": [
    "# добавляем библиотеки для работы с ТВ индексом\n",
    "%reload_ext autoreload\n",
    "%autoreload 2\n",
    "\n",
    "import os\n",
    "import gc\n",
    "import sys\n",
    "import re\n",
    "import json\n",
    "from datetime import datetime, date, timedelta, time\n",
    "import time\n",
    "from dateutil.relativedelta import relativedelta\n",
    "import warnings\n",
    "import pandas as pd\n",
    "import numpy as np\n",
    "\n",
    "from sqlalchemy import create_engine\n",
    "import pyodbc\n",
    "import turbodbc\n",
    "from turbodbc import connect\n",
    "\n",
    "from IPython.display import JSON\n",
    "from mediascope_api.core import net as mscore\n",
    "from mediascope_api.mediavortex import tasks as cwt\n",
    "from mediascope_api.mediavortex import catalogs as cwc\n",
    "\n",
    "import config\n",
    "from normalize_funcs import *\n",
    "from db_funcs import createDBTable, downloadTableToDB, get_mssql_table, removeRowsFromDB\n",
    "from create_dicts import get_cleaning_dict, get_media_discounts\n",
    "\n",
    "\n",
    "\n",
    "# Забриае название БД\n",
    "db_name = config.db_name\n",
    "\n",
    "# nat_tv_ad_dict = config.nat_tv_ad_dict\n",
    "\n",
    "# список метрик для отчета по Баинговой аудитории\n",
    "# nat_tv_bying_statistics = config.nat_tv_bying_statistics\n",
    "\n",
    "# создаем список с названиями типов медиа, по которым отфильтровать гугл докс с чисткой\n",
    "media_type_lst = ['TV']\n",
    "# tv_index_dicts = config.tv_index_dicts\n",
    "start_date = '2023-01-01'#config.start_date\n",
    "start_date = datetime.strptime(start_date, '%Y-%m-%d').date()\n",
    "\n",
    "end_date = '2023-01-02'\n",
    "end_date = datetime.strptime(end_date, '%Y-%m-%d').date()\n",
    "\n",
    "print(f'start_date: {start_date} / end_date: {end_date}')"
   ]
  },
  {
   "cell_type": "code",
   "execution_count": null,
   "id": "ba780b06-7bab-40d8-aa4a-f103a9e16c76",
   "metadata": {},
   "outputs": [],
   "source": []
  },
  {
   "cell_type": "code",
   "execution_count": 2,
   "id": "154c6922-8cc3-4d25-a2a8-dcb463a2cae6",
   "metadata": {},
   "outputs": [],
   "source": [
    "# Включаем отображение всех колонок\n",
    "pd.set_option('display.max_columns', None)\n",
    "# Задаем ширину столбцов по контенту\n",
    "pd.set_option('display.max_colwidth', None)\n",
    "pd.set_option('display.max_rows', None)\n",
    "\n",
    "warnings.simplefilter(action='ignore', category=FutureWarning)\n",
    "# убираем лишние предупреждения\n",
    "pd.set_option('mode.chained_assignment', None)\n",
    "\n",
    "sep_str = '*' * 50"
   ]
  },
  {
   "cell_type": "code",
   "execution_count": null,
   "id": "ffa8de3a-2261-4a1f-9219-15247d6a17aa",
   "metadata": {},
   "outputs": [],
   "source": [
    "# функция для добавления флага чистки\n",
    "# на вход принимает основной датаФрейм\n",
    "# и сокращенный датаФрейм из гугл диска, в котором оставили только ИД объявления и флаг чистки\n",
    "# если объявления нет в гуглдоксе, то ставим флаг 2\n",
    "\n",
    "def append_custom_columns(df, nat_tv_ad_dict, media_discounts):\n",
    "    # добавляем поле с типом мелиа - TV\n",
    "    # создаем спец ключ для объединения со справочником чистка объявлений\n",
    "    df['media_type'] = 'TV'\n",
    "    df['media_key_id'] = df['media_type'] + '_' + df['adId']\n",
    "# забираем Год из даты отчета, чтобы добавить дисконт\n",
    "    df['year'] = df['researchDate'].str.slice(0, 4)\n",
    "    df['year'] = df['year'].astype('int64')\n",
    "    # чтобы соеденить со словарем приводим adId к типу int64\n",
    "    # df['adId'] = df['adId'].astype('int64')\n",
    "    # добавляем флаг чистки в датаФрейм\n",
    "    df = df.merge(nat_tv_ad_dict, how='left', left_on=['media_key_id'], right_on=['media_key_id'])\n",
    "    # удаляем лишнее поле\n",
    "    # df = df.drop(columns=['ad_id'])\n",
    "    # ставим флаг чистки = 2 для ИД новый неочищенных объявлений\n",
    "    df['cleaning_flag'] = df['cleaning_flag'].fillna(2)\n",
    "    df = df.fillna('')\n",
    "    # Добавляем размер дисконта по Типу медиа и Году\n",
    "    df = df.merge(media_discounts, how='left', left_on=['media_type', 'year'], right_on=['media_type', 'year'])\n",
    "    df['ConsolidatedCostRUB_disc'] = df['ConsolidatedCostRUB'] * df['disc']\n",
    "    \n",
    "    return df"
   ]
  },
  {
   "cell_type": "code",
   "execution_count": null,
   "id": "a5b9d7a5-2756-4641-b769-3df4176f37ed",
   "metadata": {},
   "outputs": [],
   "source": [
    "# createDBTable(db_name, config.nat_tv_simple , config.nat_tv_simple_vars_list, flag='create')"
   ]
  },
  {
   "cell_type": "code",
   "execution_count": null,
   "id": "0faef7b1-ad92-4b0d-bfd3-e085739c208d",
   "metadata": {},
   "outputs": [],
   "source": [
    "# основная функция для получения данных из Медиаскоп\n",
    "# отчеты Simple / Buying\n",
    "# если это первая загрузка, то создаем нужные таблицы в БД\n",
    "# добавляем флаг Чистки из гугл докса / если объявление НЕ встречалось, ставим флаг 2\n",
    "# номализуем данные - приводим к верхнему регистру / округляем до 2-х знаков после запятой\n",
    "def get_nat_tv_reports(start_date='', end_date='', flag='regular'):\n",
    "    start_time = datetime.now()\n",
    "    print(f'Скрипт запущен {start_time}')\n",
    "    \n",
    "    if flag=='first':\n",
    "        # специально не стал делать цикл, чтобы явно показать, какие именно создаем таблицы\n",
    "        createDBTable(db_name, config.nat_tv_simple , config.nat_tv_simple_vars_list, flag='create')\n",
    "        createDBTable(db_name, config.nat_tv_buying , config.nat_tv_buying_vars_list, flag='create')\n",
    "        # создаем пустую таблицу-справочник объявлений\n",
    "        createDBTable(db_name, config.nat_tv_ad_dict , config.nat_tv_ad_dict_vars_list, flag='create')\n",
    "        # создаем пустые словари справочников через цикл\n",
    "        # забираем из файла create_dicts - словарь, где \n",
    "        # ключ - это название поля из отчета Simpe(для дальнейшего удобства так сделано)\n",
    "        # значение - это список, который содержит:\n",
    "        # [0] - название таблицы в БД\n",
    "        # [1] - список полей с типами данных для БД\n",
    "        # [2] - список полей с целочисленными значениями для нормализации\n",
    "        for key, value in config.tv_index_dicts.items():\n",
    "            createDBTable(db_name, value[0] , value[1], flag='create')\n",
    "\n",
    "    # получаем данные из гугл диска с чисткой объявлений \n",
    "    # - передаем список Типов медиа, чтобы оставить нужные значения\n",
    "    # custom_cleaning_dict = get_cleaning_dict(media_type_lst)\n",
    "    # список полей из гугл таблицы Чистка, которые нужно добавить в справочник объявлений\n",
    "    custom_cols_list = [col[:col.find(' ')] for col in config.custom_ad_dict_vars_list]\n",
    "    # убираем некоторые поля, т.е. их заберем из отчета Simple\n",
    "    custom_cols_list = list(set(custom_cols_list) - set(['media_type', 'include_exclude', 'ad_id']))\n",
    "    custom_cols_str = ', '.join(custom_cols_list)\n",
    "    \n",
    "    print(sep_str)\n",
    "    print('Забираем из БД НЕ ОБНОВЛЕННЫЙ справочник объявлений')\n",
    "   \n",
    "    query = f\"select {custom_cols_str}  from {config.nat_tv_ad_dict}\"\n",
    "    nat_tv_ad_dict_df = get_mssql_table(db_name, query=query)\n",
    "    print(sep_str)\n",
    "    \n",
    "    # # Итоговый список полей, который нам нужен в словаре объявлений\n",
    "    nat_tv_ad_dict_cols_list = [col[:col.find(' ')] for col in config.nat_tv_ad_dict_vars_list]\n",
    "    \n",
    "# Если start_date НЕ передается в функцию - мы считаем, что это еженедельное обновление\n",
    "# Данные в БД TV Index идут с отставанием 3 дня от текущей даты\n",
    "# Нам необходимо перезаписать последние 14 дней\n",
    "# Из текуще даты мы вычитаем 3 дня задержки и 14 дней для перезаписи\n",
    "# это будет считаться датой начала загрузки\n",
    "# удалаем в БД все строки ничиная с этой даты\n",
    "    if not start_date:\n",
    "        start_date = (datetime.now().date()  - timedelta(days=14+3))\n",
    "        cond = f\"researchDate >= '{str(start_date)}'\"\n",
    "        \n",
    "        print()\n",
    "        print(sep_str)\n",
    "        print(f'Удалем строки из таблицы: nat_tv_simple по условию: {cond}')\n",
    "        print()\n",
    "\n",
    "        removeRowsFromDB(db_name, config.nat_tv_simple, cond)\n",
    "        \n",
    "        print()\n",
    "# Если дата окончани загрузки НЕ задана, то мы считаем минус 3 дня от текущей даты\n",
    "    if not end_date:\n",
    "        end_date = (datetime.now().date()  - timedelta(days=3))\n",
    "        \n",
    "    # считаем кол-во дней в периоде\n",
    "    # каждый день мы будем забирать по отдельности и записывать его в БД\n",
    "    count_days = (end_date - start_date).days\n",
    "    \n",
    "    print()\n",
    "    print(f'Загружаем отчет за период {start_date} - {end_date}. Общее количество дней: {count_days+1}')\n",
    "    print(sep_str)\n",
    "    print()\n",
    "    \n",
    "    # проходимся по общему количеству дней\n",
    "    for i in range(count_days+1):\n",
    "        # формируем отдельную дату для загрузки\n",
    "        cur_date = str(start_date + relativedelta(days=i))\n",
    "        date_filter = [(cur_date, cur_date)]\n",
    "         # Посчитаем задания в цикле\n",
    "        tasks = []\n",
    "        \n",
    "        print()\n",
    "        print(f'{\"=\"*10}Загружаем {cur_date}. Отправляем задания на расчет')\n",
    "        print()\n",
    "        \n",
    "        \n",
    "        # Забираем статистику по отчету Buying\n",
    "        df_buying_final = get_nat_tv_buying_report(date_filter=date_filter)\n",
    "        df_buying_final['prj_name'] = 'Total_buying_aud'\n",
    "        df_buying_final['media_type'] = 'TV'\n",
    "        df_buying_final['media_key_id'] = df_buying_final['media_type'] + '_' + df_buying_final['adId']\n",
    "        # нормализуем отчет по Баинговой аудитории\n",
    "        df_buying_final = normalize_columns_types(df_buying_final, config.nat_tv_buying_int_lst, config.nat_tv_buying_float_lst)\n",
    "        \n",
    "        # загружаем данные в БД по отчету Buying\n",
    "        print('Записываем данные в таблицу фактов Buying')\n",
    "        print()\n",
    "        # записываем в БД отчет по Баинговой аудитории\n",
    "        downloadTableToDB(db_name, config.nat_tv_buying, df_buying_final)\n",
    "        # удаляем этот датаФрейм\n",
    "        del df_buying_final\n",
    "        \n",
    "        print()\n",
    "        print(sep_str)\n",
    "        \n",
    "        # Забираем статистику по отчету Simple\n",
    "        df_simple_final = get_nat_tv_simple_report(date_filter=date_filter)\n",
    "        # создаем отдельный датаФрейм с ИД объявлений и флагом чистки\n",
    "        # df_cleaning_custom_id = custom_cleaning_dict[['ad_id', 'cleaning_flag']]\n",
    "        # забираем таблицу Медиа дисконтов\n",
    "        media_discounts = get_media_discounts(media_type_lst)\n",
    "        # добавляем флаг чистки в датаФрейм\n",
    "        df_simple_final = append_custom_columns(df_simple_final, nat_tv_ad_dict_df, media_discounts)\n",
    "        # Нормализуем все поля в датаФрейме\n",
    "        df_simple_final = normalize_columns_types(df_simple_final, config.nat_tv_simple_int_lst, config.nat_tv_simple_float_lst)\n",
    "        \n",
    "        \n",
    "        # создаем таблицу с уникальными объявлениями и их характеристиками\n",
    "        simple_ad_dict_df = df_simple_final[nat_tv_ad_dict_cols_list].drop_duplicates('media_key_id')\n",
    "        # забираем из БД из справочника объявлений уникальные ИД\n",
    "        query = f\"select distinct adId  from {config.nat_tv_ad_dict}\"\n",
    "        nat_tv_ad_id_dict = get_mssql_table(db_name, query=query)\n",
    "        # создаем список Уникальных ИД Объявлений, которые уже есть в справочнике в БД\n",
    "        nat_tv_ad_id_lst = list(nat_tv_ad_id_dict['adId'])\n",
    "        # оставляем только те объявления, которых нет в справочнике\n",
    "        simple_ad_dict_df = simple_ad_dict_df.query('adId not in @nat_tv_ad_id_lst')\n",
    "        # на всякий случай обрезаем описание объявления до 500 символов, чтобы не было переполнения строки\n",
    "        simple_ad_dict_df['adNotes'] = simple_ad_dict_df['adNotes'].str.slice(0, 500)\n",
    "        # нормализуем типы данных\n",
    "        simple_ad_dict_df = normalize_columns_types(simple_ad_dict_df, config.nat_tv_ad_dict_int_lst)\n",
    "        \n",
    "        print()\n",
    "        print(sep_str)\n",
    "        print('Записываем данные в справочник объявлений TV_Index')\n",
    "        print()\n",
    "        \n",
    "        downloadTableToDB(db_name, config.nat_tv_ad_dict, simple_ad_dict_df)\n",
    "        \n",
    "        print(sep_str)\n",
    "        print()\n",
    "\n",
    "        # забираем список полей, которые созданы в БД в таблице фактов Simple\n",
    "        nat_tv_simple_cols_lst = [col[:col.find(' ')] for col in config.nat_tv_simple_vars_list]\n",
    "        # оставляем только нужные поля в датаФрейме для загрузки в БД\n",
    "        df_simple_final = df_simple_final[nat_tv_simple_cols_lst]\n",
    "        \n",
    "        # загружаем данные в БД по отчету Simple\n",
    "        print('Записываем данные в таблицу фактов Simple')\n",
    "        print()\n",
    "        downloadTableToDB(db_name, config.nat_tv_simple, df_simple_final)\n",
    "        \n",
    "        print(sep_str)\n",
    "        print()\n",
    "        \n",
    "    finish_time = datetime.now()\n",
    "    print(sep_str)\n",
    "    print(f'Время окончания работы скрипта {finish_time}')\n",
    "    print(f'Период загрузки {start_date} - {end_date}. Общее время работы скрипта: {finish_time - start_time}')\n",
    "    print(sep_str)\n",
    "    \n",
    "    \n",
    "    return df_simple_final"
   ]
  },
  {
   "cell_type": "code",
   "execution_count": null,
   "id": "af88d065-e4bb-4b86-8d41-bea0c8724716",
   "metadata": {},
   "outputs": [],
   "source": [
    "# УКАЗЫВАЕМ на листе config\n",
    "# targets - список аудиторий, по которым нужно собрать датаФрейм\n",
    "# ad_filter - условия фильтрации объявлений \n",
    "\n",
    "\n",
    "# weekday_filter - Задаем дни недели / Задаем тип дня - daytype_filter / Задаем временной интервал - time_filter\n",
    "# Задаем ЦА - basedemo_filter / \n",
    "# Доп фильтр ЦА, нужен только в случае расчета отношения между ЦА, например, при расчете Affinity Index - targetdemo_filter\n",
    "# Задаем место просмотра - location_filter / Задаем каналы - company_filter\n",
    "# Указываем фильтр программ: продолжительность от 5 минут (300 секунд) - program_filter / Фильтр блоков - \n",
    "def get_nat_tv_simple_report(weekday_filter=None, date_filter=None,time_filter=None, basedemo_filter=None, targetdemo_filter=None, daytype_filter=None,\n",
    "                             location_filter=None, company_filter=None, program_filter=None, break_filter=None, sortings=None):\n",
    "    # Cоздаем объекты для работы с TVI API\n",
    "    mnet = mscore.MediascopeApiNetwork()\n",
    "    mtask = cwt.MediaVortexTask()\n",
    "    cats = cwc.MediaVortexCats()\n",
    "    tasks = []\n",
    "    # список аудиторий, по которым собираем статистику\n",
    "    targets = config.nat_tv_targets\n",
    "    # список срезов, по которым будет разбивка отчета\n",
    "    slices = config.nat_tv_slices\n",
    "    # список метрик для отчета Simple\n",
    "    statistics = config.nat_tv_simple_statistics\n",
    "    # Здесь указаны логические условия ad_filter \n",
    "    # Они применяются для получения статистики в отчетах Simple и Buying# условия фильтрации для запроса \n",
    "    ad_filter = config.nat_tv_ad_filter\n",
    "    # Опции для расчета - вся рф и тд.\n",
    "    options = config.nat_tv_options\n",
    "    \n",
    "    if targets:\n",
    "        # Для каждой ЦА формируем задание и отправляем на расчет\n",
    "        for target, syntax in targets.items():\n",
    "            # Подставляем значения словаря в параметры\n",
    "            project_name = f\"{target}\" \n",
    "            basedemo_filter = f\"{syntax}\"\n",
    "    \n",
    "            # Формируем задание для API TV Index в формате JSON\n",
    "            task_json = mtask.build_simple_task(date_filter=date_filter, weekday_filter=weekday_filter, \n",
    "                                                daytype_filter=daytype_filter, company_filter=company_filter, \n",
    "                                                location_filter=location_filter, basedemo_filter=basedemo_filter, \n",
    "                                                targetdemo_filter=targetdemo_filter,program_filter=program_filter, \n",
    "                                                break_filter=break_filter, ad_filter=ad_filter, \n",
    "                                                slices=slices, statistics=statistics, sortings=sortings, options=options)\n",
    "            \n",
    "            # Для каждого этапа цикла формируем словарь с параметрами и отправленным заданием на расчет\n",
    "            tsk = {}\n",
    "            tsk['project_name'] = project_name    \n",
    "            tsk['task'] = mtask.send_simple_task(task_json)\n",
    "            tasks.append(tsk)\n",
    "            time.sleep(2)\n",
    "            # print('.', end = '')\n",
    "            \n",
    "        # print(f\"\\nid: {[i['task']['taskId'] for i in tasks]}\")\n",
    "        print('')\n",
    "        # Ждем выполнения\n",
    "        print('Ждем выполнения')\n",
    "        tsks = mtask.wait_task(tasks)\n",
    "        print('Расчет завершен, получаем результат')\n",
    "        \n",
    "        # Получаем результат\n",
    "        results = []\n",
    "        print('Собираем таблицу')\n",
    "        \n",
    "        for t in tasks:\n",
    "            tsk = t['task'] \n",
    "            df_result = mtask.result2table(mtask.get_result(tsk), project_name = t['project_name'])        \n",
    "            results.append(df_result)\n",
    "            print('.', end = '')\n",
    "    \n",
    "        df = pd.concat(results)\n",
    "        df = df[['prj_name']+slices+statistics]\n",
    "\n",
    "        return df"
   ]
  },
  {
   "cell_type": "code",
   "execution_count": null,
   "id": "64d4d53a-c3b7-46d5-b2dd-d7fdbfdf770d",
   "metadata": {},
   "outputs": [],
   "source": [
    "# УКАЗЫВАЕМ на листе config\n",
    "# targets - здесь Обнуляем, т.к. для нам нужен Тотал\n",
    "# ad_filter - условия фильтрации объявлений \n",
    "\n",
    "\n",
    "# weekday_filter - Задаем дни недели / Задаем тип дня - daytype_filter / Задаем временной интервал - time_filter\n",
    "# Задаем ЦА - basedemo_filter / \n",
    "# Доп фильтр ЦА, нужен только в случае расчета отношения между ЦА, например, при расчете Affinity Index - targetdemo_filter\n",
    "# Задаем место просмотра - location_filter / Задаем каналы - company_filter\n",
    "# Указываем фильтр программ: продолжительность от 5 минут (300 секунд) - program_filter / Фильтр блоков - \n",
    "def get_nat_tv_buying_report(weekday_filter=None, date_filter=None,time_filter=None, basedemo_filter=None, targetdemo_filter=None, daytype_filter=None,\n",
    "                             location_filter=None, company_filter=None, program_filter=None, break_filter=None, sortings=None):\n",
    "    # Cоздаем объекты для работы с TVI API\n",
    "    mnet = mscore.MediascopeApiNetwork()\n",
    "    mtask = cwt.MediaVortexTask()\n",
    "    cats = cwc.MediaVortexCats()\n",
    "    tasks = []\n",
    "\n",
    "    # список срезов, по которым будет разбивка отчета по Баинговым аудиториям\n",
    "    slices = config.nat_tv_buying_slices\n",
    "    # список метрик для отчета Buying\n",
    "    statistics = config.nat_tv_bying_statistics\n",
    "    # Здесь указаны логические условия ad_filter \n",
    "    # Они применяются для получения статистики в отчетах Simple и Buying# условия фильтрации для запроса \n",
    "    ad_filter = config.nat_tv_ad_filter\n",
    "    # Опции для расчета - вся рф и тд.\n",
    "    options = config.nat_tv_options\n",
    "    \n",
    "    # Формируем задание для API TV Index в формате JSON\n",
    "    task_json = mtask.build_simple_task(date_filter=date_filter, weekday_filter=weekday_filter, \n",
    "                                        daytype_filter=daytype_filter, company_filter=company_filter, \n",
    "                                        location_filter=location_filter, basedemo_filter=basedemo_filter, \n",
    "                                        targetdemo_filter=targetdemo_filter,program_filter=program_filter, \n",
    "                                        break_filter=break_filter, ad_filter=ad_filter, \n",
    "                                        slices=slices, statistics=statistics, sortings=sortings, options=options)\n",
    "\n",
    "\n",
    "    # Отправляем задание на расчет и ждем выполнения\n",
    "    task_timeband = mtask.wait_task(mtask.send_simple_task(task_json))\n",
    "    # Получаем результат\n",
    "    df = mtask.result2table(mtask.get_result(task_timeband))\n",
    "    \n",
    "    return df"
   ]
  },
  {
   "cell_type": "code",
   "execution_count": null,
   "id": "dd8ae6d9-9de5-4d8e-9e55-494e4c70d81a",
   "metadata": {},
   "outputs": [],
   "source": []
  },
  {
   "cell_type": "code",
   "execution_count": null,
   "id": "671d11d9-f4f8-488e-8ba2-03eb558b66ac",
   "metadata": {},
   "outputs": [],
   "source": [
    "simple_ad_dict_df = get_nat_tv_reports(flag='regular')"
   ]
  },
  {
   "cell_type": "code",
   "execution_count": null,
   "id": "91fe95d0-4b9b-4d8a-97dc-1b259a40b6fb",
   "metadata": {},
   "outputs": [],
   "source": []
  },
  {
   "cell_type": "code",
   "execution_count": null,
   "id": "6d78c047-eabd-4259-8824-fd378691f894",
   "metadata": {},
   "outputs": [],
   "source": []
  },
  {
   "cell_type": "code",
   "execution_count": null,
   "id": "d65cdf67-c017-4691-a017-76df5cd34a6c",
   "metadata": {},
   "outputs": [],
   "source": []
  },
  {
   "cell_type": "code",
   "execution_count": null,
   "id": "fc56f87e-625a-4f69-94c8-af9dc692cd8b",
   "metadata": {},
   "outputs": [],
   "source": []
  },
  {
   "cell_type": "code",
   "execution_count": null,
   "id": "10b0388a-ea87-47cd-9d6e-61933de60603",
   "metadata": {},
   "outputs": [],
   "source": []
  },
  {
   "cell_type": "code",
   "execution_count": null,
   "id": "68fa1ff4-3ee4-4203-81d8-6f470f6eacf6",
   "metadata": {},
   "outputs": [],
   "source": []
  },
  {
   "cell_type": "code",
   "execution_count": null,
   "id": "aaa88065-5129-498d-94f2-231ad50eb8f2",
   "metadata": {},
   "outputs": [],
   "source": []
  },
  {
   "cell_type": "code",
   "execution_count": null,
   "id": "f5382868-2f29-41d7-98e4-1409533511d1",
   "metadata": {},
   "outputs": [],
   "source": []
  },
  {
   "cell_type": "code",
   "execution_count": null,
   "id": "2b2a6a80-a6ce-4ba1-943f-2e307dcd3bfc",
   "metadata": {},
   "outputs": [],
   "source": []
  },
  {
   "cell_type": "code",
   "execution_count": null,
   "id": "6b41132c-3595-4a46-bb41-9baa69b38049",
   "metadata": {},
   "outputs": [],
   "source": []
  },
  {
   "cell_type": "code",
   "execution_count": null,
   "id": "d40bd51e-1aff-42b2-b1c1-b02b12ccb624",
   "metadata": {},
   "outputs": [],
   "source": []
  },
  {
   "cell_type": "code",
   "execution_count": null,
   "id": "7a0cd0b6-c0c1-4a8d-a8d8-5efb22de4784",
   "metadata": {},
   "outputs": [],
   "source": []
  },
  {
   "cell_type": "code",
   "execution_count": null,
   "id": "f6b1095b-3a22-45b5-8831-ec0cdf8c7ac7",
   "metadata": {},
   "outputs": [],
   "source": []
  },
  {
   "cell_type": "code",
   "execution_count": null,
   "id": "512c379f-4924-4b30-9240-08cefc84ed5a",
   "metadata": {},
   "outputs": [],
   "source": []
  },
  {
   "cell_type": "code",
   "execution_count": null,
   "id": "37c05e47-fa99-4a15-bdfa-e8c1415765f7",
   "metadata": {},
   "outputs": [],
   "source": []
  },
  {
   "cell_type": "code",
   "execution_count": 3,
   "id": "42db478d-b778-428f-a452-69723bc4c530",
   "metadata": {},
   "outputs": [
    {
     "name": "stdout",
     "output_type": "stream",
     "text": [
      "start_date: 2023-01-01 / end_date: 2023-01-02\n"
     ]
    }
   ],
   "source": [
    "start_date = '2023-01-01'#config.start_date\n",
    "start_date = datetime.strptime(start_date, '%Y-%m-%d').date()\n",
    "\n",
    "end_date = '2023-01-02'\n",
    "end_date = datetime.strptime(end_date, '%Y-%m-%d').date()\n",
    "\n",
    "print(f'start_date: {start_date} / end_date: {end_date}')"
   ]
  },
  {
   "cell_type": "code",
   "execution_count": null,
   "id": "e47da2b9-389b-4a30-a7a2-2749515f4636",
   "metadata": {},
   "outputs": [],
   "source": [
    "# УКАЗЫВАЕМ на листе config\n",
    "# targets - здесь Обнуляем, т.к. для нам нужен Тотал\n",
    "# ad_filter - условия фильтрации объявлений \n",
    "\n",
    "\n",
    "# weekday_filter - Задаем дни недели / Задаем тип дня - daytype_filter / Задаем временной интервал - time_filter\n",
    "# Задаем ЦА - basedemo_filter / \n",
    "# Доп фильтр ЦА, нужен только в случае расчета отношения между ЦА, например, при расчете Affinity Index - targetdemo_filter\n",
    "# Задаем место просмотра - location_filter / Задаем каналы - company_filter\n",
    "# Указываем фильтр программ: продолжительность от 5 минут (300 секунд) - program_filter / Фильтр блоков - \n",
    "def get_nat_tv_buying_report(weekday_filter=None, date_filter=None,time_filter=None, basedemo_filter=None, targetdemo_filter=None, daytype_filter=None,\n",
    "                             location_filter=None, company_filter=None, program_filter=None, break_filter=None, sortings=None):\n",
    "    # Cоздаем объекты для работы с TVI API\n",
    "    mnet = mscore.MediascopeApiNetwork()\n",
    "    mtask = cwt.MediaVortexTask()\n",
    "    cats = cwc.MediaVortexCats()\n",
    "    tasks = []\n",
    "\n",
    "    # список срезов, по которым будет разбивка отчета по Баинговым аудиториям\n",
    "    slices = config.nat_tv_buying_slices\n",
    "    # список метрик для отчета Buying\n",
    "    statistics = config.nat_tv_bying_statistics\n",
    "    # Здесь указаны логические условия ad_filter \n",
    "    # Они применяются для получения статистики в отчетах Simple и Buying# условия фильтрации для запроса \n",
    "    ad_filter = config.nat_tv_ad_filter\n",
    "    # Опции для расчета - вся рф и тд.\n",
    "    options = config.nat_tv_options\n",
    "    \n",
    "    # Формируем задание для API TV Index в формате JSON\n",
    "    task_json = mtask.build_simple_task(date_filter=date_filter, weekday_filter=weekday_filter, \n",
    "                                        daytype_filter=daytype_filter, company_filter=company_filter, \n",
    "                                        location_filter=location_filter, basedemo_filter=basedemo_filter, \n",
    "                                        targetdemo_filter=targetdemo_filter,program_filter=program_filter, \n",
    "                                        break_filter=break_filter, ad_filter=ad_filter, \n",
    "                                        slices=slices, statistics=statistics, sortings=sortings, options=options)\n",
    "\n",
    "\n",
    "    # Отправляем задание на расчет и ждем выполнения\n",
    "    task_timeband = mtask.wait_task(mtask.send_simple_task(task_json))\n",
    "    # Получаем результат\n",
    "    df = mtask.result2table(mtask.get_result(task_timeband))\n",
    "    \n",
    "    return df"
   ]
  },
  {
   "cell_type": "code",
   "execution_count": 4,
   "id": "d97075fa-acf9-4fa7-a6b2-5be648b1d9da",
   "metadata": {},
   "outputs": [],
   "source": [
    "# article_lev_4_id_str = config.article_lev_4_id_str\n",
    "# subbrand_id_str = config.subbrand_id_str\n",
    "\n",
    "# nat_tv_ad_filter = config.nat_tv_ad_filter\n",
    "\n",
    "# список срезов, по которым будет разбивка отчета\n",
    "slices = config.nat_tv_buying_slices\n",
    "# список метрик для отчета Simple\n",
    "statistics = config.nat_tv_bying_statistics\n",
    "# Здесь указаны логические условия ad_filter \n",
    "# Они применяются для получения статистики в отчетах Simple и Buying# условия фильтрации для запроса \n",
    "ad_filter = config.nat_tv_ad_filter\n",
    "# Опции для расчета - вся рф и тд.\n",
    "options = config.nat_tv_options"
   ]
  },
  {
   "cell_type": "code",
   "execution_count": null,
   "id": "495667bc-aa4e-4006-81a9-8b383bd59908",
   "metadata": {},
   "outputs": [],
   "source": []
  },
  {
   "cell_type": "code",
   "execution_count": 5,
   "id": "5998ad31-3de0-4e71-a49d-8f0ba66d1e9e",
   "metadata": {},
   "outputs": [
    {
     "data": {
      "text/plain": [
       "['regionId',\n",
       " 'tvCompanyId',\n",
       " 'adSpotId',\n",
       " 'adStartTime',\n",
       " 'adStandardDuration',\n",
       " 'researchDate',\n",
       " 'adTypeId',\n",
       " 'adPositionTypeName',\n",
       " 'adDistributionTypeName',\n",
       " 'adId',\n",
       " 'adPrimeTimeStatusName']"
      ]
     },
     "execution_count": 5,
     "metadata": {},
     "output_type": "execute_result"
    }
   ],
   "source": [
    "slices"
   ]
  },
  {
   "cell_type": "code",
   "execution_count": 6,
   "id": "8017d977-917e-4d2d-8ae6-cf143f4a1a6a",
   "metadata": {},
   "outputs": [
    {
     "data": {
      "text/plain": [
       "['SalesRtgPer', 'StandSalesRtgPer']"
      ]
     },
     "execution_count": 6,
     "metadata": {},
     "output_type": "execute_result"
    }
   ],
   "source": [
    "statistics"
   ]
  },
  {
   "cell_type": "code",
   "execution_count": 7,
   "id": "4476c855-26bf-4dcd-8ef3-b4612f382ff5",
   "metadata": {},
   "outputs": [],
   "source": [
    "# обнуляем фильтры, которые были использованы в прошлом запросе\n",
    "basedemo_filter = None  \n",
    "targetdemo_filter = None\n",
    "weekday_filter=None \n",
    "date_filter=None\n",
    "time_filter=None\n",
    "basedemo_filter=None\n",
    "targetdemo_filter=None\n",
    "daytype_filter=None\n",
    "location_filter=None\n",
    "company_filter=None\n",
    "program_filter=None\n",
    "break_filter=None\n",
    "sortings=None\n",
    "# statistics_bying_tv = ['SalesRtgPer', 'StandSalesRtgPer']"
   ]
  },
  {
   "cell_type": "code",
   "execution_count": 8,
   "id": "3f8b3d37-4571-4e83-a23a-774b9b9d5857",
   "metadata": {},
   "outputs": [
    {
     "name": "stdout",
     "output_type": "stream",
     "text": [
      "Скрипт запущен 2025-04-01 11:24:29.353331\n",
      "Запрошены записи: 0 - 314\n",
      "Всего найдено записей: 314\n",
      "\n",
      "Запрошены записи: 0 - 314\n",
      "Всего найдено записей: 314\n",
      "\n",
      "[('2023-01-01', '2023-01-01')]\n",
      "Отправляем задания на расчет\n",
      "Расчет задачи (id: 32834c88-15d8-4fdf-bdbd-dd5c18a19355) [= = = = = = = ] время расчета: 0:00:22.412735\n",
      "[('2023-01-02', '2023-01-02')]\n",
      "Отправляем задания на расчет\n",
      "Расчет задачи (id: ca45bd5d-ffcd-4796-b33f-1d971dfc9b1e) [= = = = = = ] время расчета: 0:00:19.394966\n",
      "Скрипт отработал 2025-04-01 11:25:19.191168\n",
      "Время выполнения задачи: 0:00:49.837837\n"
     ]
    }
   ],
   "source": [
    "start_time = datetime.now()\n",
    "print(f'Скрипт запущен {start_time}')\n",
    "\n",
    "# Cоздаем объекты для работы с TVI API\n",
    "mnet = mscore.MediascopeApiNetwork()\n",
    "mtask = cwt.MediaVortexTask()\n",
    "cats = cwc.MediaVortexCats()\n",
    "tasks = []\n",
    "\n",
    "df_buying_final = pd.DataFrame()\n",
    "count_days = (end_date - start_date).days\n",
    "for i in range(count_days+1):\n",
    "    cur_date = str(start_date + relativedelta(days=i))\n",
    "    \n",
    "    date_filter = [(cur_date, cur_date)]\n",
    "    print(date_filter)\n",
    "     # Посчитаем задания в цикле\n",
    "    tasks = []\n",
    "    print(\"Отправляем задания на расчет\")\n",
    "    \n",
    "    # Формируем задание для API TV Index в формате JSON\n",
    "    task_json = mtask.build_simple_task(date_filter=date_filter, weekday_filter=weekday_filter, \n",
    "                                        daytype_filter=daytype_filter, company_filter=company_filter, \n",
    "                                        location_filter=location_filter, basedemo_filter=basedemo_filter, \n",
    "                                        targetdemo_filter=targetdemo_filter,program_filter=program_filter, \n",
    "                                        break_filter=break_filter, ad_filter=ad_filter, \n",
    "                                        slices=slices, statistics=statistics, sortings=sortings, options=options)\n",
    "\n",
    "\n",
    "    # Отправляем задание на расчет и ждем выполнения\n",
    "    task_timeband = mtask.wait_task(mtask.send_simple_task(task_json))\n",
    "    # Получаем результат\n",
    "    df = mtask.result2table(mtask.get_result(task_timeband))\n",
    "\n",
    "\n",
    "    del df\n",
    "\n",
    "\n",
    "finish_time = datetime.now()\n",
    "print(f'Скрипт отработал {finish_time}')\n",
    "\n",
    "print(f'Время выполнения задачи: {finish_time - start_time}')\n",
    "# Приводим порядок столбцов в соответствие с условиями расчета"
   ]
  },
  {
   "cell_type": "code",
   "execution_count": 9,
   "id": "aefe9507-bcba-4e04-98a1-e79c6b3e697d",
   "metadata": {},
   "outputs": [],
   "source": [
    "df_buying_final['prj_name'] = 'Total_buying_aud'\n",
    "df_buying_final['media_type'] = 'TV'\n",
    "df_buying_final['media_key_id'] = df_buying_final['media_type'] + '_' + df_buying_final['adId']"
   ]
  },
  {
   "cell_type": "code",
   "execution_count": 18,
   "id": "e2c69cee-6516-4cab-aa1a-a227636d5a89",
   "metadata": {},
   "outputs": [],
   "source": [
    "df_buying_final = normalize_columns_types(df_buying_final, config.nat_tv_buying_int_lst, config.nat_tv_buying_float_lst)"
   ]
  },
  {
   "cell_type": "code",
   "execution_count": 19,
   "id": "3057fc51-a2f4-4451-a3b1-96fbb76f594f",
   "metadata": {},
   "outputs": [
    {
     "data": {
      "text/html": [
       "<div>\n",
       "<style scoped>\n",
       "    .dataframe tbody tr th:only-of-type {\n",
       "        vertical-align: middle;\n",
       "    }\n",
       "\n",
       "    .dataframe tbody tr th {\n",
       "        vertical-align: top;\n",
       "    }\n",
       "\n",
       "    .dataframe thead th {\n",
       "        text-align: right;\n",
       "    }\n",
       "</style>\n",
       "<table border=\"1\" class=\"dataframe\">\n",
       "  <thead>\n",
       "    <tr style=\"text-align: right;\">\n",
       "      <th></th>\n",
       "      <th>adPrimeTimeStatusName</th>\n",
       "      <th>adDistributionTypeName</th>\n",
       "      <th>adSpotId</th>\n",
       "      <th>tvCompanyId</th>\n",
       "      <th>researchDate</th>\n",
       "      <th>adPositionTypeName</th>\n",
       "      <th>adId</th>\n",
       "      <th>adStandardDuration</th>\n",
       "      <th>adStartTime</th>\n",
       "      <th>regionId</th>\n",
       "      <th>adTypeId</th>\n",
       "      <th>SalesRtgPer</th>\n",
       "      <th>StandSalesRtgPer</th>\n",
       "      <th>prj_name</th>\n",
       "      <th>media_type</th>\n",
       "      <th>media_key_id</th>\n",
       "    </tr>\n",
       "  </thead>\n",
       "  <tbody>\n",
       "    <tr>\n",
       "      <th>0</th>\n",
       "      <td>ПРАЙМ-ТАЙМ</td>\n",
       "      <td>ОРБИТАЛЬНЫЙ</td>\n",
       "      <td>4871412847</td>\n",
       "      <td>1871</td>\n",
       "      <td>2023-01-02</td>\n",
       "      <td>ПОСЛЕДНИЙ</td>\n",
       "      <td>4402580</td>\n",
       "      <td>10</td>\n",
       "      <td>22:23:37</td>\n",
       "      <td>99</td>\n",
       "      <td>1</td>\n",
       "      <td>0.35</td>\n",
       "      <td>0.17</td>\n",
       "      <td>TOTAL_BUYING_AUD</td>\n",
       "      <td>TV</td>\n",
       "      <td>TV_4402580</td>\n",
       "    </tr>\n",
       "  </tbody>\n",
       "</table>\n",
       "</div>"
      ],
      "text/plain": [
       "  adPrimeTimeStatusName adDistributionTypeName    adSpotId  tvCompanyId  \\\n",
       "0            ПРАЙМ-ТАЙМ            ОРБИТАЛЬНЫЙ  4871412847         1871   \n",
       "\n",
       "  researchDate adPositionTypeName     adId  adStandardDuration adStartTime  \\\n",
       "0   2023-01-02          ПОСЛЕДНИЙ  4402580                  10    22:23:37   \n",
       "\n",
       "   regionId  adTypeId  SalesRtgPer  StandSalesRtgPer          prj_name  \\\n",
       "0        99         1         0.35              0.17  TOTAL_BUYING_AUD   \n",
       "\n",
       "  media_type media_key_id  \n",
       "0         TV   TV_4402580  "
      ]
     },
     "execution_count": 19,
     "metadata": {},
     "output_type": "execute_result"
    }
   ],
   "source": [
    "df_buying_final.head(1)"
   ]
  },
  {
   "cell_type": "code",
   "execution_count": null,
   "id": "896b0a7b-4f96-4dc9-b93a-0d4118ac9523",
   "metadata": {},
   "outputs": [],
   "source": []
  },
  {
   "cell_type": "code",
   "execution_count": 10,
   "id": "4819a48a-d391-47e1-bdd8-1bbc387c0c5a",
   "metadata": {},
   "outputs": [
    {
     "data": {
      "text/html": [
       "<div>\n",
       "<style scoped>\n",
       "    .dataframe tbody tr th:only-of-type {\n",
       "        vertical-align: middle;\n",
       "    }\n",
       "\n",
       "    .dataframe tbody tr th {\n",
       "        vertical-align: top;\n",
       "    }\n",
       "\n",
       "    .dataframe thead th {\n",
       "        text-align: right;\n",
       "    }\n",
       "</style>\n",
       "<table border=\"1\" class=\"dataframe\">\n",
       "  <thead>\n",
       "    <tr style=\"text-align: right;\">\n",
       "      <th></th>\n",
       "      <th>adPrimeTimeStatusName</th>\n",
       "      <th>adDistributionTypeName</th>\n",
       "      <th>adSpotId</th>\n",
       "      <th>tvCompanyId</th>\n",
       "      <th>researchDate</th>\n",
       "      <th>adPositionTypeName</th>\n",
       "      <th>adId</th>\n",
       "      <th>adStandardDuration</th>\n",
       "      <th>adStartTime</th>\n",
       "      <th>regionId</th>\n",
       "      <th>adTypeId</th>\n",
       "      <th>SalesRtgPer</th>\n",
       "      <th>StandSalesRtgPer</th>\n",
       "      <th>prj_name</th>\n",
       "      <th>media_type</th>\n",
       "      <th>media_key_id</th>\n",
       "    </tr>\n",
       "  </thead>\n",
       "  <tbody>\n",
       "    <tr>\n",
       "      <th>0</th>\n",
       "      <td>Прайм-тайм</td>\n",
       "      <td>Орбитальный</td>\n",
       "      <td>4871412847</td>\n",
       "      <td>1871</td>\n",
       "      <td>2023-01-02</td>\n",
       "      <td>Последний</td>\n",
       "      <td>4402580</td>\n",
       "      <td>10</td>\n",
       "      <td>22:23:37</td>\n",
       "      <td>99</td>\n",
       "      <td>1</td>\n",
       "      <td>0.349476</td>\n",
       "      <td>0.174738</td>\n",
       "      <td>Total_buying_aud</td>\n",
       "      <td>TV</td>\n",
       "      <td>TV_4402580</td>\n",
       "    </tr>\n",
       "  </tbody>\n",
       "</table>\n",
       "</div>"
      ],
      "text/plain": [
       "  adPrimeTimeStatusName adDistributionTypeName    adSpotId tvCompanyId  \\\n",
       "0            Прайм-тайм            Орбитальный  4871412847        1871   \n",
       "\n",
       "  researchDate adPositionTypeName     adId adStandardDuration adStartTime  \\\n",
       "0   2023-01-02          Последний  4402580                 10    22:23:37   \n",
       "\n",
       "  regionId adTypeId  SalesRtgPer  StandSalesRtgPer          prj_name  \\\n",
       "0       99        1     0.349476          0.174738  Total_buying_aud   \n",
       "\n",
       "  media_type media_key_id  \n",
       "0         TV   TV_4402580  "
      ]
     },
     "execution_count": 10,
     "metadata": {},
     "output_type": "execute_result"
    }
   ],
   "source": [
    "df_buying_final.head(1)"
   ]
  },
  {
   "cell_type": "code",
   "execution_count": 11,
   "id": "0d0d0731-3cde-4dc3-9f3a-5d5d1fc916c6",
   "metadata": {},
   "outputs": [
    {
     "data": {
      "text/plain": [
       "(1136, 16)"
      ]
     },
     "execution_count": 11,
     "metadata": {},
     "output_type": "execute_result"
    }
   ],
   "source": [
    "df_buying_final.shape"
   ]
  },
  {
   "cell_type": "code",
   "execution_count": null,
   "id": "d21832f8-164c-46a0-913a-2ae4eb54567c",
   "metadata": {},
   "outputs": [],
   "source": [
    "df_buying_final.head(1)"
   ]
  },
  {
   "cell_type": "code",
   "execution_count": null,
   "id": "e462d366-bed1-493a-8b79-a115b0525f70",
   "metadata": {},
   "outputs": [],
   "source": [
    "config.nat_tv_buying_vars_list"
   ]
  },
  {
   "cell_type": "code",
   "execution_count": 12,
   "id": "141ccd1e-c2e3-46c3-a3e6-fc7774c018d9",
   "metadata": {},
   "outputs": [],
   "source": [
    "# забираем список полей, которые созданы в БД в таблице фактов Simple\n",
    "nat_tv_buying_cols_lst = [col[:col.find(' ')] for col in config.nat_tv_buying_vars_list]"
   ]
  },
  {
   "cell_type": "code",
   "execution_count": null,
   "id": "1019e6f6-d9ff-40af-b6b4-032bb319dfd1",
   "metadata": {},
   "outputs": [],
   "source": [
    "test = df_buying_final[nat_tv_buying_cols_lst]"
   ]
  },
  {
   "cell_type": "code",
   "execution_count": null,
   "id": "6ccb14c1-80e7-42a1-839a-b986d1a8623b",
   "metadata": {},
   "outputs": [],
   "source": [
    "test.shape"
   ]
  },
  {
   "cell_type": "code",
   "execution_count": 14,
   "id": "44921fe8-9915-4b90-bad7-d3a042036155",
   "metadata": {},
   "outputs": [
    {
     "data": {
      "text/plain": [
       "set()"
      ]
     },
     "execution_count": 14,
     "metadata": {},
     "output_type": "execute_result"
    }
   ],
   "source": [
    "set(df_buying_final.columns) - set(nat_tv_buying_cols_lst)"
   ]
  },
  {
   "cell_type": "code",
   "execution_count": 15,
   "id": "c2348807-3718-4b41-87b3-e33a0d407e02",
   "metadata": {},
   "outputs": [
    {
     "data": {
      "text/plain": [
       "set()"
      ]
     },
     "execution_count": 15,
     "metadata": {},
     "output_type": "execute_result"
    }
   ],
   "source": [
    "set(nat_tv_buying_cols_lst) - set(df_buying_final.columns)"
   ]
  },
  {
   "cell_type": "code",
   "execution_count": null,
   "id": "013cd49b-c54c-45bb-8f2a-923a8f884650",
   "metadata": {},
   "outputs": [],
   "source": [
    "nat_tv_slices = [col[:col.find(' ')] for col in config.nat_tv_buying_vars_list]\n",
    "nat_tv_slices = list(set(nat_tv_slices) - set(config.nat_tv_buying_float_lst) - set(['prj_name', 'media_key_id', 'media_type']))\n",
    "print(nat_tv_slices)"
   ]
  },
  {
   "cell_type": "code",
   "execution_count": null,
   "id": "b497fdbf-8380-4799-85e9-af51c666351a",
   "metadata": {},
   "outputs": [],
   "source": [
    "set(config.nat_tv_slices) "
   ]
  },
  {
   "cell_type": "code",
   "execution_count": null,
   "id": "27bdd10e-4d24-4dba-94b4-09ef93865f0a",
   "metadata": {},
   "outputs": [],
   "source": []
  },
  {
   "cell_type": "code",
   "execution_count": 20,
   "id": "ff09b2fa-7238-437a-954f-1529d9c5b0fe",
   "metadata": {},
   "outputs": [
    {
     "name": "stdout",
     "output_type": "stream",
     "text": [
      "Все ок. Подключились!\n",
      "Пустая таблица nat_tv_buying успешно создана в БД mediascope_x5\n"
     ]
    }
   ],
   "source": [
    "createDBTable(db_name, config.nat_tv_buying , config.nat_tv_buying_vars_list, flag='create')"
   ]
  },
  {
   "cell_type": "code",
   "execution_count": 21,
   "id": "99f1c81c-0572-4d0e-9616-05b1bdb73f4d",
   "metadata": {},
   "outputs": [
    {
     "name": "stdout",
     "output_type": "stream",
     "text": [
      "Все ок. Подключились!\n",
      "Скрипт запущен 2025-04-01 11:33:51.054395\n",
      "Данные добавлены в БД: mediascope_x5, таблица: nat_tv_buying\n",
      "Скрипт отработал 2025-04-01 11:33:51.121305\n",
      "Время выполнения задачи: 0:00:00.066910\n",
      "Загрузка завершена. Данные успешно добавлены в БД: mediascope_x5\n",
      "##################################################\n",
      "\n"
     ]
    }
   ],
   "source": [
    "downloadTableToDB(db_name, config.nat_tv_buying, df_buying_final)"
   ]
  },
  {
   "cell_type": "code",
   "execution_count": null,
   "id": "324fe98e-6411-4d4b-98de-3a6b7a72c7f7",
   "metadata": {},
   "outputs": [],
   "source": []
  }
 ],
 "metadata": {
  "kernelspec": {
   "display_name": "Python 3 (ipykernel)",
   "language": "python",
   "name": "python3"
  },
  "language_info": {
   "codemirror_mode": {
    "name": "ipython",
    "version": 3
   },
   "file_extension": ".py",
   "mimetype": "text/x-python",
   "name": "python",
   "nbconvert_exporter": "python",
   "pygments_lexer": "ipython3",
   "version": "3.11.7"
  }
 },
 "nbformat": 4,
 "nbformat_minor": 5
}
