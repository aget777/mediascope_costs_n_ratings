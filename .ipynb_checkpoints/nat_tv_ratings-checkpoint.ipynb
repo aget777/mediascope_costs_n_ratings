{
 "cells": [
  {
   "cell_type": "code",
   "execution_count": 1,
   "id": "ce987e41-418b-4d26-82fc-c70918989d93",
   "metadata": {},
   "outputs": [
    {
     "name": "stdout",
     "output_type": "stream",
     "text": [
      "start_date: 2023-01-01 / end_date: 2023-01-01\n"
     ]
    }
   ],
   "source": [
    "# добавляем библиотеки для работы с ТВ индексом\n",
    "%reload_ext autoreload\n",
    "%autoreload 2\n",
    "\n",
    "import os\n",
    "import gc\n",
    "import sys\n",
    "import re\n",
    "import json\n",
    "from datetime import datetime, date, timedelta, time\n",
    "import time\n",
    "from dateutil.relativedelta import relativedelta\n",
    "import warnings\n",
    "import pandas as pd\n",
    "import numpy as np\n",
    "\n",
    "from sqlalchemy import create_engine\n",
    "import pyodbc\n",
    "import turbodbc\n",
    "from turbodbc import connect\n",
    "\n",
    "from IPython.display import JSON\n",
    "from mediascope_api.core import net as mscore\n",
    "from mediascope_api.mediavortex import tasks as cwt\n",
    "from mediascope_api.mediavortex import catalogs as cwc\n",
    "\n",
    "import config\n",
    "from normalize_funcs import *\n",
    "from db_funcs import createDBTable, downloadTableToDB, get_mssql_table\n",
    "from create_dicts import get_cleaning_dict\n",
    "\n",
    "\n",
    "\n",
    "# Забриае название БД\n",
    "db_name = config.db_name\n",
    "\n",
    "# список метрик для отчета по Баинговой аудитории\n",
    "nat_tv_bying_statistics = config.nat_tv_bying_statistics\n",
    "\n",
    "# создаем список с названиями типов медиа, по которым отфильтровать гугл докс с чисткой\n",
    "media_type_lst = ['TV']\n",
    "\n",
    "start_date = config.start_date\n",
    "start_date = datetime.strptime(start_date, '%Y-%m-%d').date()\n",
    "\n",
    "end_date = '2023-01-01'\n",
    "end_date = datetime.strptime(end_date, '%Y-%m-%d').date()\n",
    "\n",
    "print(f'start_date: {start_date} / end_date: {end_date}')"
   ]
  },
  {
   "cell_type": "code",
   "execution_count": 2,
   "id": "154c6922-8cc3-4d25-a2a8-dcb463a2cae6",
   "metadata": {},
   "outputs": [],
   "source": [
    "# Включаем отображение всех колонок\n",
    "pd.set_option('display.max_columns', None)\n",
    "# Задаем ширину столбцов по контенту\n",
    "pd.set_option('display.max_colwidth', None)\n",
    "pd.set_option('display.max_rows', None)\n",
    "\n",
    "warnings.simplefilter(action='ignore', category=FutureWarning)\n",
    "# убираем лишние предупреждения\n",
    "pd.set_option('mode.chained_assignment', None)"
   ]
  },
  {
   "cell_type": "code",
   "execution_count": 3,
   "id": "ffa8de3a-2261-4a1f-9219-15247d6a17aa",
   "metadata": {},
   "outputs": [],
   "source": [
    "# функция для добавления флага чистки\n",
    "# на вход принимает основной датаФрейм\n",
    "# и сокращенный датаФрейм из гугл диска, в котором оставили только ИД объявления и флаг чистки\n",
    "# если объявления нет в гуглдоксе, то ставим флаг 2\n",
    "\n",
    "def get_clean_flag(df, df_cleaning_custom_id):\n",
    "    # добавляем поле с типом мелиа - TV\n",
    "    # создаем спец ключ для объединения со справочником чистка объявлений\n",
    "    df['media_type'] = 'TV'\n",
    "    df['media_key_id'] = df['media_type'] + '_' + df['adId']\n",
    "    # чтобы соеденить со словарем приводим adId к типу int64\n",
    "    df['adId'] = df['adId'].astype('int64')\n",
    "    # добавляем флаг чистки в датаФрейм\n",
    "    df = df.merge(df_cleaning_custom_id, how='left', left_on=['adId'], right_on=['ad_id'])\n",
    "    # удаляем лишнее поле\n",
    "    df = df.drop(columns=['ad_id'])\n",
    "    # ставим флаг чистки = 2 для ИД новый неочищенных объявлений\n",
    "    df['cleaning_flag'] = df['cleaning_flag'].fillna(2)\n",
    "    \n",
    "    return df"
   ]
  },
  {
   "cell_type": "code",
   "execution_count": null,
   "id": "a5b9d7a5-2756-4641-b769-3df4176f37ed",
   "metadata": {},
   "outputs": [],
   "source": []
  },
  {
   "cell_type": "code",
   "execution_count": 4,
   "id": "0faef7b1-ad92-4b0d-bfd3-e085739c208d",
   "metadata": {},
   "outputs": [],
   "source": [
    "# основная функция для получения данных из Медиаскоп\n",
    "# отчеты Simple / Buying\n",
    "# если это первая загрузка, то создаем нужные таблицы в БД\n",
    "# добавляем флаг Чистки из гугл докса / если объявление НЕ встречалось, ставим флаг 2\n",
    "# номализуем данные - приводим к верхнему регистру / округляем до 2-х знаков после запятой\n",
    "def get_nat_tv_reports(start_date, end_date='', flag='regular'):\n",
    "    start_time = datetime.now()\n",
    "    print(f'Скрипт запущен {start_time}')\n",
    "    \n",
    "    if flag=='first':\n",
    "        # специально не стал делать цикл, чтобы явно показать, какие именно создаем таблицы\n",
    "        createDBTable(db_name, config.nat_tv_simple , config.nat_tv_simple_vars_list, flag='create')\n",
    "        createDBTable(db_name, config.nat_tv_buying , config.nat_tv_buying, flag='create')\n",
    "\n",
    "    if not end_date:\n",
    "        end_date = (datetime.now().date()  - timedelta(days=3))\n",
    "        \n",
    "    # считаем кол-во дней в периоде\n",
    "    # каждый день мы будем забирать по отдельности и записывать его в БД\n",
    "    count_days = (end_date - start_date).days\n",
    "    \n",
    "    \n",
    "    # проходимся по общему количеству дней\n",
    "    for i in range(count_days+1):\n",
    "        # формируем отдельную дату для загрузки\n",
    "        cur_date = str(start_date + relativedelta(days=i))\n",
    "        date_filter = [(cur_date, cur_date)]\n",
    "         # Посчитаем задания в цикле\n",
    "        tasks = []\n",
    "        print(f'Загружаем отчет за период {cur_date} - {cur_date}. Отправляем задания на расчет')\n",
    "        df_simple_final = get_nat_tv_simple_report(date_filter=date_filter)\n",
    "\n",
    "    finish_time = datetime.now()\n",
    "    print(f'Скрипт отработал {finish_time}')\n",
    "    \n",
    "    print(f'Время выполнения задачи: {finish_time - start_time}')\n",
    "    \n",
    "    # получаем данные из гугл диска с чисткой объявлений \n",
    "    # - передаем список Типов медиа, чтобы оставить нужные значения\n",
    "    custom_cleaning_dict = get_cleaning_dict(media_type_lst)\n",
    "    # создаем отдельный датаФрейм с ИД объявлений и флагом чистки\n",
    "    df_cleaning_custom_id = custom_cleaning_dict[['ad_id', 'cleaning_flag']]\n",
    "    \n",
    "    # добавляем флаг чистки в датаФрейм\n",
    "    df_simple_final = get_clean_flag(df_simple_final, df_cleaning_custom_id)\n",
    "\n",
    "    # Нормализуем все поля в датаФрейме\n",
    "    df_simple_final = normalize_columns_types(df_simple_final, config.nat_tv_simple_int_lst, config.nat_tv_simple_float_lst)\n",
    "    return df_simple_final"
   ]
  },
  {
   "cell_type": "code",
   "execution_count": 5,
   "id": "af88d065-e4bb-4b86-8d41-bea0c8724716",
   "metadata": {},
   "outputs": [],
   "source": [
    "# УКАЗЫВАЕМ на листе config\n",
    "# targets - список аудиторий, по которым нужно собрать датаФрейм\n",
    "# ad_filter - условия фильтрации объявлений \n",
    "\n",
    "\n",
    "# weekday_filter - Задаем дни недели / Задаем тип дня - daytype_filter / Задаем временной интервал - time_filter\n",
    "# Задаем ЦА - basedemo_filter / \n",
    "# Доп фильтр ЦА, нужен только в случае расчета отношения между ЦА, например, при расчете Affinity Index - targetdemo_filter\n",
    "# Задаем место просмотра - location_filter / Задаем каналы - company_filter\n",
    "# Указываем фильтр программ: продолжительность от 5 минут (300 секунд) - program_filter / Фильтр блоков - \n",
    "def get_nat_tv_simple_report(weekday_filter=None, date_filter=None,time_filter=None, basedemo_filter=None, targetdemo_filter=None, daytype_filter=None,\n",
    "                             location_filter=None, company_filter=None, program_filter=None, break_filter=None, sortings=None):\n",
    "    # Cоздаем объекты для работы с TVI API\n",
    "    mnet = mscore.MediascopeApiNetwork()\n",
    "    mtask = cwt.MediaVortexTask()\n",
    "    cats = cwc.MediaVortexCats()\n",
    "    tasks = []\n",
    "    # список аудиторий, по которым собираем статистику\n",
    "    targets = config.nat_tv_targets\n",
    "    # список срезов, по которым будет разбивка отчета\n",
    "    slices = config.nat_tv_slices\n",
    "    # список метрик для отчета Simple\n",
    "    statistics = config.nat_tv_simple_statistics\n",
    "    # Здесь указаны логические условия ad_filter \n",
    "    # Они применяются для получения статистики в отчетах Simple и Buying# условия фильтрации для запроса \n",
    "    ad_filter = config.nat_tv_ad_filter\n",
    "    # Опции для расчета - вся рф и тд.\n",
    "    options = config.nat_tv_options\n",
    "    \n",
    "    if targets:\n",
    "        # Для каждой ЦА формируем задание и отправляем на расчет\n",
    "        for target, syntax in targets.items():\n",
    "            # Подставляем значения словаря в параметры\n",
    "            project_name = f\"{target}\" \n",
    "            basedemo_filter = f\"{syntax}\"\n",
    "    \n",
    "            # Формируем задание для API TV Index в формате JSON\n",
    "            task_json = mtask.build_simple_task(date_filter=date_filter, weekday_filter=weekday_filter, \n",
    "                                                daytype_filter=daytype_filter, company_filter=company_filter, \n",
    "                                                location_filter=location_filter, basedemo_filter=basedemo_filter, \n",
    "                                                targetdemo_filter=targetdemo_filter,program_filter=program_filter, \n",
    "                                                break_filter=break_filter, ad_filter=ad_filter, \n",
    "                                                slices=slices, statistics=statistics, sortings=sortings, options=options)\n",
    "            \n",
    "            # Для каждого этапа цикла формируем словарь с параметрами и отправленным заданием на расчет\n",
    "            tsk = {}\n",
    "            tsk['project_name'] = project_name    \n",
    "            tsk['task'] = mtask.send_simple_task(task_json)\n",
    "            tasks.append(tsk)\n",
    "            time.sleep(2)\n",
    "            print('.', end = '')\n",
    "            \n",
    "        print(f\"\\nid: {[i['task']['taskId'] for i in tasks]}\")\n",
    "        print('')\n",
    "        # Ждем выполнения\n",
    "        print('Ждем выполнения')\n",
    "        tsks = mtask.wait_task(tasks)\n",
    "        print('Расчет завершен, получаем результат')\n",
    "        \n",
    "        # Получаем результат\n",
    "        results = []\n",
    "        print('Собираем таблицу')\n",
    "        \n",
    "        for t in tasks:\n",
    "            tsk = t['task'] \n",
    "            df_result = mtask.result2table(mtask.get_result(tsk), project_name = t['project_name'])        \n",
    "            results.append(df_result)\n",
    "            print('.', end = '')\n",
    "    \n",
    "        df = pd.concat(results)\n",
    "        df = df[['prj_name']+slices+statistics]\n",
    "\n",
    "        return df"
   ]
  },
  {
   "cell_type": "code",
   "execution_count": null,
   "id": "64d4d53a-c3b7-46d5-b2dd-d7fdbfdf770d",
   "metadata": {},
   "outputs": [],
   "source": []
  },
  {
   "cell_type": "code",
   "execution_count": null,
   "id": "dd8ae6d9-9de5-4d8e-9e55-494e4c70d81a",
   "metadata": {},
   "outputs": [],
   "source": []
  },
  {
   "cell_type": "code",
   "execution_count": 6,
   "id": "671d11d9-f4f8-488e-8ba2-03eb558b66ac",
   "metadata": {},
   "outputs": [
    {
     "name": "stdout",
     "output_type": "stream",
     "text": [
      "Скрипт запущен 2025-03-29 19:23:22.916675\n",
      "Загружаем отчет за период 2023-01-01 - 2023-01-01. Отправляем задания на расчет\n",
      "Запрошены записи: 0 - 314\n",
      "Всего найдено записей: 314\n",
      "\n",
      "Запрошены записи: 0 - 314\n",
      "Всего найдено записей: 314\n",
      "\n",
      "..........\n",
      "id: ['c2d0f27d-44d6-449a-9d54-7cd63c9b9801', '4c66fe69-12e3-45e9-ad0b-54a99443255f', '4edea157-dfb5-4fde-806d-16b89870b4ab', 'c439fab5-8766-4126-a2a7-ececdcc3b567', '3e81928b-da67-47ae-8cc7-83c9b4e6be9e', '91fe9f09-8611-4e1e-87eb-46359693dde3', 'a70bf9b8-bb02-4423-aa41-3b2332c07815', 'f9db16c4-f889-4d54-859e-cf3f953548b9', '6940c5de-9296-481c-aae7-ecd2bd9477c5', 'faa13bf9-4025-4cc9-874e-03925efacfc1']\n",
      "\n",
      "Ждем выполнения\n",
      "Расчет задач (10) [ = = = ] время расчета: 0:00:16.800348\n",
      "Расчет завершен, получаем результат\n",
      "Собираем таблицу\n",
      "..........Скрипт отработал 2025-03-29 19:24:04.225008\n",
      "Время выполнения задачи: 0:00:41.308333\n"
     ]
    },
    {
     "name": "stderr",
     "output_type": "stream",
     "text": [
      "C:\\Users\\o.bogomolov\\Desktop\\Jupyter_notebook\\42_02_Mediascope_Nat_tv_Ratings\\create_dicts.py:53: DtypeWarning: Columns (2) have mixed types. Specify dtype option on import or set low_memory=False.\n",
      "  df = pd.read_csv(full_cleaning_link, header=None, usecols=cols_count)\n"
     ]
    }
   ],
   "source": [
    "df_simple_final = get_nat_tv_reports(start_date, end_date, flag='regular')"
   ]
  },
  {
   "cell_type": "code",
   "execution_count": 7,
   "id": "1819f0bf-9bdc-467b-b480-3a47d6b69237",
   "metadata": {},
   "outputs": [
    {
     "data": {
      "text/plain": [
       "(940, 34)"
      ]
     },
     "execution_count": 7,
     "metadata": {},
     "output_type": "execute_result"
    }
   ],
   "source": [
    "df_simple_final.shape"
   ]
  },
  {
   "cell_type": "code",
   "execution_count": 8,
   "id": "af860157-2214-49a1-9953-88e8023f182a",
   "metadata": {},
   "outputs": [
    {
     "data": {
      "text/html": [
       "<div>\n",
       "<style scoped>\n",
       "    .dataframe tbody tr th:only-of-type {\n",
       "        vertical-align: middle;\n",
       "    }\n",
       "\n",
       "    .dataframe tbody tr th {\n",
       "        vertical-align: top;\n",
       "    }\n",
       "\n",
       "    .dataframe thead th {\n",
       "        text-align: right;\n",
       "    }\n",
       "</style>\n",
       "<table border=\"1\" class=\"dataframe\">\n",
       "  <thead>\n",
       "    <tr style=\"text-align: right;\">\n",
       "      <th></th>\n",
       "      <th>prj_name</th>\n",
       "      <th>advertiserListName</th>\n",
       "      <th>brandListName</th>\n",
       "      <th>subbrandListName</th>\n",
       "      <th>modelListName</th>\n",
       "      <th>articleList2Name</th>\n",
       "      <th>articleList3Name</th>\n",
       "      <th>articleList4Name</th>\n",
       "      <th>adId</th>\n",
       "      <th>adName</th>\n",
       "      <th>adNotes</th>\n",
       "      <th>adFirstIssueDate</th>\n",
       "      <th>adSloganAudioName</th>\n",
       "      <th>adSloganVideoName</th>\n",
       "      <th>researchDate</th>\n",
       "      <th>regionName</th>\n",
       "      <th>adDistributionTypeName</th>\n",
       "      <th>tvNetName</th>\n",
       "      <th>tvCompanyName</th>\n",
       "      <th>tvCompanyId</th>\n",
       "      <th>adTypeName</th>\n",
       "      <th>adStandardDuration</th>\n",
       "      <th>adPositionTypeName</th>\n",
       "      <th>adPrimeTimeStatusName</th>\n",
       "      <th>adStartTime</th>\n",
       "      <th>adSpotId</th>\n",
       "      <th>Rtg000</th>\n",
       "      <th>RtgPer</th>\n",
       "      <th>StandRtgPer</th>\n",
       "      <th>Quantity</th>\n",
       "      <th>ConsolidatedCostRUB</th>\n",
       "      <th>media_type</th>\n",
       "      <th>media_key_id</th>\n",
       "      <th>cleaning_flag</th>\n",
       "    </tr>\n",
       "  </thead>\n",
       "  <tbody>\n",
       "    <tr>\n",
       "      <th>0</th>\n",
       "      <td>ALL 25-45</td>\n",
       "      <td>СБЕР</td>\n",
       "      <td>МЕГАМАРКЕТ</td>\n",
       "      <td>МЕГАМАРКЕТ</td>\n",
       "      <td>МЕГАМАРКЕТ МАРКЕТПЛЕЙС; МЕГАМАРКЕТ МОБИЛЬНОЕ ПРИЛОЖЕНИЕ</td>\n",
       "      <td>СРЕДСТВА МАССОВОЙ ИНФОРМАЦИИ; УСЛУГИ В ОБЛАСТИ ТОРГОВЛИ</td>\n",
       "      <td>ИНТЕРНЕТ-ТОРГОВЛЯ; РЕСУРСЫ В ИНТЕРНЕТЕ</td>\n",
       "      <td>МАРКЕТПЛЕЙСЫ; МОБИЛЬНЫЕ ПРИЛОЖЕНИЯ</td>\n",
       "      <td>4401302</td>\n",
       "      <td>СБЕР МЕГА МАРКЕТ МАРКЕТПЛЕЙС (ВЫБИРАЙТЕ ДОСТАВКУ ПО КЛИКУ, ПРИВЕЗЕМ ОТ 15 МИН)</td>\n",
       "      <td>ЛОГ., ПЛАНШЕТ, ТИТРЫ</td>\n",
       "      <td>2022-12-22</td>\n",
       "      <td>N/A</td>\n",
       "      <td>N/A</td>\n",
       "      <td>2023-01-01</td>\n",
       "      <td>СЕТЕВОЕ ВЕЩАНИЕ</td>\n",
       "      <td>СЕТЕВОЙ</td>\n",
       "      <td>2X2</td>\n",
       "      <td>2X2 (СЕТЕВОЕ ВЕЩАНИЕ)</td>\n",
       "      <td>2716</td>\n",
       "      <td>РОЛИК</td>\n",
       "      <td>10</td>\n",
       "      <td>СРЕДНИЙ</td>\n",
       "      <td>ПРАЙМ-ТАЙМ</td>\n",
       "      <td>14:39:07</td>\n",
       "      <td>4869838131</td>\n",
       "      <td>9.07</td>\n",
       "      <td>0.02</td>\n",
       "      <td>0.01</td>\n",
       "      <td>1</td>\n",
       "      <td>954.0</td>\n",
       "      <td>TV</td>\n",
       "      <td>TV_4401302</td>\n",
       "      <td>0</td>\n",
       "    </tr>\n",
       "  </tbody>\n",
       "</table>\n",
       "</div>"
      ],
      "text/plain": [
       "    prj_name advertiserListName brandListName subbrandListName  \\\n",
       "0  ALL 25-45               СБЕР    МЕГАМАРКЕТ       МЕГАМАРКЕТ   \n",
       "\n",
       "                                             modelListName  \\\n",
       "0  МЕГАМАРКЕТ МАРКЕТПЛЕЙС; МЕГАМАРКЕТ МОБИЛЬНОЕ ПРИЛОЖЕНИЕ   \n",
       "\n",
       "                                          articleList2Name  \\\n",
       "0  СРЕДСТВА МАССОВОЙ ИНФОРМАЦИИ; УСЛУГИ В ОБЛАСТИ ТОРГОВЛИ   \n",
       "\n",
       "                         articleList3Name                    articleList4Name  \\\n",
       "0  ИНТЕРНЕТ-ТОРГОВЛЯ; РЕСУРСЫ В ИНТЕРНЕТЕ  МАРКЕТПЛЕЙСЫ; МОБИЛЬНЫЕ ПРИЛОЖЕНИЯ   \n",
       "\n",
       "      adId  \\\n",
       "0  4401302   \n",
       "\n",
       "                                                                           adName  \\\n",
       "0  СБЕР МЕГА МАРКЕТ МАРКЕТПЛЕЙС (ВЫБИРАЙТЕ ДОСТАВКУ ПО КЛИКУ, ПРИВЕЗЕМ ОТ 15 МИН)   \n",
       "\n",
       "                adNotes adFirstIssueDate adSloganAudioName adSloganVideoName  \\\n",
       "0  ЛОГ., ПЛАНШЕТ, ТИТРЫ       2022-12-22               N/A               N/A   \n",
       "\n",
       "  researchDate       regionName adDistributionTypeName tvNetName  \\\n",
       "0   2023-01-01  СЕТЕВОЕ ВЕЩАНИЕ                СЕТЕВОЙ       2X2   \n",
       "\n",
       "           tvCompanyName tvCompanyId adTypeName  adStandardDuration  \\\n",
       "0  2X2 (СЕТЕВОЕ ВЕЩАНИЕ)        2716      РОЛИК                  10   \n",
       "\n",
       "  adPositionTypeName adPrimeTimeStatusName adStartTime    adSpotId  Rtg000  \\\n",
       "0            СРЕДНИЙ            ПРАЙМ-ТАЙМ    14:39:07  4869838131    9.07   \n",
       "\n",
       "   RtgPer  StandRtgPer  Quantity  ConsolidatedCostRUB media_type media_key_id  \\\n",
       "0    0.02         0.01         1                954.0         TV   TV_4401302   \n",
       "\n",
       "  cleaning_flag  \n",
       "0             0  "
      ]
     },
     "execution_count": 8,
     "metadata": {},
     "output_type": "execute_result"
    }
   ],
   "source": [
    "df_simple_final.head(1)"
   ]
  },
  {
   "cell_type": "code",
   "execution_count": null,
   "id": "9f1eea6a-b9ed-4535-b3c1-fd1a3e9ffcbf",
   "metadata": {},
   "outputs": [],
   "source": []
  },
  {
   "cell_type": "code",
   "execution_count": null,
   "id": "57314af2-c95a-4c11-87ca-dd64e1768479",
   "metadata": {},
   "outputs": [],
   "source": []
  },
  {
   "cell_type": "code",
   "execution_count": null,
   "id": "ca0795c6-4d20-42f3-9871-21b710198157",
   "metadata": {},
   "outputs": [],
   "source": []
  },
  {
   "cell_type": "code",
   "execution_count": null,
   "id": "bb7a87dd-164c-41bb-ab86-f4539c3ba35f",
   "metadata": {},
   "outputs": [],
   "source": []
  },
  {
   "cell_type": "code",
   "execution_count": null,
   "id": "6d78c047-eabd-4259-8824-fd378691f894",
   "metadata": {},
   "outputs": [],
   "source": []
  },
  {
   "cell_type": "code",
   "execution_count": null,
   "id": "d65cdf67-c017-4691-a017-76df5cd34a6c",
   "metadata": {},
   "outputs": [],
   "source": []
  },
  {
   "cell_type": "code",
   "execution_count": null,
   "id": "10b0388a-ea87-47cd-9d6e-61933de60603",
   "metadata": {},
   "outputs": [],
   "source": []
  },
  {
   "cell_type": "code",
   "execution_count": null,
   "id": "f5382868-2f29-41d7-98e4-1409533511d1",
   "metadata": {},
   "outputs": [],
   "source": []
  },
  {
   "cell_type": "code",
   "execution_count": null,
   "id": "2b2a6a80-a6ce-4ba1-943f-2e307dcd3bfc",
   "metadata": {},
   "outputs": [],
   "source": []
  },
  {
   "cell_type": "code",
   "execution_count": null,
   "id": "6b41132c-3595-4a46-bb41-9baa69b38049",
   "metadata": {},
   "outputs": [],
   "source": []
  },
  {
   "cell_type": "code",
   "execution_count": null,
   "id": "d40bd51e-1aff-42b2-b1c1-b02b12ccb624",
   "metadata": {},
   "outputs": [],
   "source": []
  },
  {
   "cell_type": "code",
   "execution_count": null,
   "id": "7a0cd0b6-c0c1-4a8d-a8d8-5efb22de4784",
   "metadata": {},
   "outputs": [],
   "source": []
  },
  {
   "cell_type": "code",
   "execution_count": null,
   "id": "f6b1095b-3a22-45b5-8831-ec0cdf8c7ac7",
   "metadata": {},
   "outputs": [],
   "source": []
  },
  {
   "cell_type": "code",
   "execution_count": null,
   "id": "512c379f-4924-4b30-9240-08cefc84ed5a",
   "metadata": {},
   "outputs": [],
   "source": []
  },
  {
   "cell_type": "code",
   "execution_count": null,
   "id": "37c05e47-fa99-4a15-bdfa-e8c1415765f7",
   "metadata": {},
   "outputs": [],
   "source": []
  },
  {
   "cell_type": "code",
   "execution_count": null,
   "id": "42db478d-b778-428f-a452-69723bc4c530",
   "metadata": {},
   "outputs": [],
   "source": []
  },
  {
   "cell_type": "code",
   "execution_count": null,
   "id": "d846c585-b61a-4a38-9a60-261317dbfb01",
   "metadata": {},
   "outputs": [],
   "source": [
    "# Cоздаем объекты для работы с TVI API\n",
    "mnet = mscore.MediascopeApiNetwork()\n",
    "mtask = cwt.MediaVortexTask()\n",
    "cats = cwc.MediaVortexCats()"
   ]
  },
  {
   "cell_type": "code",
   "execution_count": null,
   "id": "8f6a0d67-1728-4a80-a652-69fa6cead5bb",
   "metadata": {},
   "outputs": [],
   "source": [
    "# Задаем все демографические группы, чтобы каждую из них вывести в отдельном поле\n",
    "# Задаем необходимые группы\n",
    "\n",
    "# targets = {\n",
    "# 'W 25-54'       :'sex = 2 AND age >= 25 AND age <= 54',\n",
    "# 'All 18-64'     :'age >= 18 AND age <= 64',\n",
    "# 'M 25-45 BC'    :'sex = 1 AND age >= 25 AND age <= 45 AND incomeGroupRussia IN (2,3)',\n",
    "# 'ALL'           :'age >= 4'\n",
    "# }\n",
    "\n",
    "# все 25-45, все 25-55, все 25+, все 25-45 BC, все 25-55 BC, ж 25-44, все 20-50, все 20-50 BC, все 20-55, w25+\n",
    "# Доход по группе A,B,C\n",
    "\n",
    "targets = {\n",
    "'ALL 25-45'     :'age >= 25 AND age <= 45',\n",
    "'All 25-55'     :'age >= 25 AND age <= 55',\n",
    "'ALL 25+'       :'age >= 25',\n",
    "'ALL 25-54 BC'  :'age >= 25 AND age <= 54 AND incomeGroupRussia IN (2,3)',\n",
    "'W 25-44'       :'sex = 2 AND age >= 25 AND age <= 44',\n",
    "'All 20-50'     :'age >= 20 AND age <= 50',\n",
    "'ALL 20-50 BC'  :'age >= 20 AND age <= 50 AND incomeGroupRussia IN (2,3)',\n",
    "'All 20-55'     :'age >= 20 AND age <= 55',\n",
    "'W 25+'         :'sex = 2 AND age >= 25',\n",
    "'ABC'           :'incomeGroupRussia IN (1, 2,3)'\n",
    "}"
   ]
  },
  {
   "cell_type": "code",
   "execution_count": null,
   "id": "d97075fa-acf9-4fa7-a6b2-5be648b1d9da",
   "metadata": {},
   "outputs": [],
   "source": [
    "article_lev_4_id_str = config.article_lev_4_id_str\n",
    "subbrand_id_str = config.subbrand_id_str"
   ]
  },
  {
   "cell_type": "code",
   "execution_count": null,
   "id": "b42d808b-5a50-493c-ae77-1435c54c1e37",
   "metadata": {},
   "outputs": [],
   "source": [
    "# Задаем период\n",
    "# Период указывается в виде списка ('Начало', 'Конец') в формате 'YYYY-MM-DD'. Можно указать несколько периодов\n",
    "# date_filter = [('2020-08-01', '2020-08-02')]\n",
    "#Сообщение: Simple: временно нельзя посчитать больше чем за 31 день\n",
    "\n",
    "# Задаем дни недели\n",
    "weekday_filter = None\n",
    "# Задаем тип дня\n",
    "daytype_filter = None\n",
    "# Задаем временной интервал\n",
    "time_filter = None\n",
    "# Задаем ЦА\n",
    "basedemo_filter = None\n",
    "# Доп фильтр ЦА, нужен только в случае расчета отношения между ЦА, например, при расчете Affinity Index\n",
    "targetdemo_filter = None\n",
    "# Задаем место просмотра\n",
    "location_filter=None\n",
    "# Задаем каналы\n",
    "company_filter = None\n",
    "# Указываем фильтр программ: продолжительность от 5 минут (300 секунд) \n",
    "program_filter = None\n",
    "# Фильтр блоков\n",
    "break_filter = None\n",
    "\n",
    "# Фильтр роликов: Бренд - ВТБ\n",
    "# ad_filter = \"\"\"articleLevel2Id IN (2277, 2272) and adIssueStatusId in (R) and adTypeId nin (5, 10, 24)\"\"\"\n",
    "# articleLevel4Id IN (\"\"\"+art_str_filter+\"\"\")\n",
    "# ad_filter = f\"\"\"articleLevel4Id IN ({article_lev_4_id_str}) and subbrandListId IN ({subbrand_id_str})\"\"\"\n",
    "ad_filter = ad_filter = f'articleLevel4Id IN ({article_lev_4_id_str}) or subbrandListId IN ({subbrand_id_str})'\n",
    "# R - статус Реальный\n",
    "# 1 - Ролик, 15- Анонс: спонсор, 23 - Спонсорская заставка (1, 15, 23)\n",
    "# НЕ должно входить 5 - Спонсор, 10 - Телемагазин, 24 - Погода: спонсор\n",
    "# Указываем список срезов - в задаче не может быть больше 25 срезов\n",
    "slices = [\n",
    "    'advertiserListName', \n",
    "    'brandListName', \n",
    "    'subbrandListName', \n",
    "    'modelListName',\n",
    "    'articleList2Name',\n",
    "    'articleList3Name',\n",
    "    'articleList4Name', \n",
    "    'adId',\n",
    "    'adName',\n",
    "    'adNotes',\n",
    "    'adFirstIssueDate',\n",
    "    'adSloganAudioName',\n",
    "    'adSloganVideoName',\n",
    "    'researchDate',\n",
    "    'regionName',\n",
    "    'adDistributionTypeName',\n",
    "    'tvNetName',\n",
    "    'tvCompanyName',\n",
    "    'tvCompanyId',\n",
    "    'adTypeName',\n",
    "    'adStandardDuration', \n",
    "    'adPositionTypeName',\n",
    "    'adPrimeTimeStatusName',\n",
    "    'adStartTime',\n",
    "    'adSpotId'\n",
    "         ]\n",
    "# Указываем список статистик для расчета\n",
    "statistics =['Rtg000', 'RtgPer', 'StandRtgPer', 'Quantity', 'ConsolidatedCostRUB'] \n",
    "# 'Quantity' = ['Quantity']  количество эфирных событий - по сути это просто количество строк\n",
    "# кол-во строк не меняется в зависимости от выбранной аудитории\n",
    "#  'TTVRtgPer',  - Тотал нужно запрашивать БЕЗ разбивки по аудиториям\n",
    "# statistics = ['SalesRtgPer'] # sales статистики нельзя считать с обычными в одной задаче \n",
    "# Rtg000 - рейтинг в тыс. человек. Среднее количество человек в целевой аудитории, смотревших эфирное событие\n",
    "# RtgPer - рейтинг %. Среднее количество человек, смотревших эфирное событие выраженное в % от общей численности исследуемой аудитории\n",
    "# StandRtgPer - рейтинг %, рассчитанный с учетом стандартной длительности ролика. \n",
    "# ConsolidatedCostRUB - приведенная стоимость размещения из протокола реклам - в зависимости от типа оценки рекламного блока в рублях\n",
    "# Рассчитывается как Rtg% * ожидаемая длительность ролика / 20 (стандартная длительность ролика)\n",
    "# для любых sales статистик обязательно должна быть задана разбивка по компаниям: tvCompanyId\n",
    "# Запрещен фильтр по любым демо переменным.\n",
    "\n",
    "# statistics_bying_tv = ['SalesRtgPer', 'StandSalesRtgPer']\n",
    "\n",
    "# SalesRtgPer - рейтинг %, рассчитанный по баинговой аудитории канала\n",
    "# StandSalesRtgPer - рейтинг %, рассчитанный по баинговой аудитории канала и с учетом стандартной длительности ролика\n",
    "\n",
    "# Задаем условия сортировки: телекомпания (от а до я), дата (от старых к новым), время начала (по возр.)\n",
    "sortings = None #{'tvCompanyName':'ASC', 'researchDate':'ASC', 'programStartTime':'ASC'}\n",
    "\n",
    "\n",
    "# Задаем опции расчета\n",
    "options = {\n",
    "    \"kitId\": 1, # набора данных (1-Russia all, 2-Russia 100+, 3-Cities, # 4-TVI+ Russia all, 5-TVI+ Russia 100+, 6-Moscow) \n",
    "    # \"totalType\": \"TotalChannels\" #база расчета тотал статистик: Total Channels. Возможны опции: TotalTVSet, TotalChannelsThem\n",
    "    \"standRtg\" : {\n",
    "      \"useRealDuration\" : False,\n",
    "      \"standardDuration\" : 20\n",
    "    }\n",
    "}"
   ]
  },
  {
   "cell_type": "code",
   "execution_count": null,
   "id": "8f41a028-d538-41c9-bb36-5dd56f5fd49b",
   "metadata": {},
   "outputs": [],
   "source": []
  },
  {
   "cell_type": "code",
   "execution_count": null,
   "id": "5d96cddf-88b8-4a60-8b29-06ea113e5a0d",
   "metadata": {},
   "outputs": [],
   "source": [
    "start_time = datetime.now()\n",
    "print(f'Скрипт запущен {start_time}')\n",
    "\n",
    "df_simple_final = pd.DataFrame()\n",
    "count_days = (end_date - start_date).days\n",
    "for i in range(count_days+1):\n",
    "    cur_date = str(start_date + relativedelta(days=i))\n",
    "    \n",
    "    date_filter = [(cur_date, cur_date)]\n",
    "    print(date_filter)\n",
    "     # Посчитаем задания в цикле\n",
    "    tasks = []\n",
    "    print(\"Отправляем задания на расчет\")\n",
    "    \n",
    "    # Для каждой ЦА формируем задание и отправляем на расчет\n",
    "    for target, syntax in targets.items():\n",
    "        # Подставляем значения словаря в параметры\n",
    "        project_name = f\"{target}\" \n",
    "        basedemo_filter = f\"{syntax}\"\n",
    "        \n",
    "        # Формируем задание для API TV Index в формате JSON\n",
    "        task_json = mtask.build_simple_task(date_filter=date_filter, weekday_filter=weekday_filter, \n",
    "                                            daytype_filter=daytype_filter, company_filter=company_filter, \n",
    "                                            location_filter=location_filter, basedemo_filter=basedemo_filter, \n",
    "                                            targetdemo_filter=targetdemo_filter,program_filter=program_filter, \n",
    "                                            break_filter=break_filter, ad_filter=ad_filter, \n",
    "                                            slices=slices, statistics=statistics, sortings=sortings, options=options)\n",
    "        \n",
    "        # Для каждого этапа цикла формируем словарь с параметрами и отправленным заданием на расчет\n",
    "        tsk = {}\n",
    "        tsk['project_name'] = project_name    \n",
    "        tsk['task'] = mtask.send_simple_task(task_json)\n",
    "        tasks.append(tsk)\n",
    "        time.sleep(2)\n",
    "        print('.', end = '')\n",
    "\n",
    "    print(f\"\\nid: {[i['task']['taskId'] for i in tasks]}\")\n",
    "\n",
    "    print('')\n",
    "    # Ждем выполнения\n",
    "    print('Ждем выполнения')\n",
    "    tsks = mtask.wait_task(tasks)\n",
    "    print('Расчет завершен, получаем результат')\n",
    "    \n",
    "    # Получаем результат\n",
    "    results = []\n",
    "    print('Собираем таблицу')\n",
    "    \n",
    "    for t in tasks:\n",
    "        tsk = t['task'] \n",
    "        df_result = mtask.result2table(mtask.get_result(tsk), project_name = t['project_name'])        \n",
    "        results.append(df_result)\n",
    "        print('.', end = '')\n",
    "\n",
    "    df = pd.concat(results)\n",
    "    df = df[['prj_name']+slices+statistics]\n",
    "    df_simple_final = pd.concat([df, df_simple_final], ignore_index=True)\n",
    "    del df\n",
    "\n",
    "\n",
    "finish_time = datetime.now()\n",
    "print(f'Скрипт отработал {finish_time}')\n",
    "\n",
    "print(f'Время выполнения задачи: {finish_time - start_time}')\n",
    "# Приводим порядок столбцов в соответствие с условиями расчета"
   ]
  },
  {
   "cell_type": "code",
   "execution_count": null,
   "id": "c84cb891-8559-40e1-bbd4-fd3fa5f26a76",
   "metadata": {},
   "outputs": [],
   "source": []
  },
  {
   "cell_type": "code",
   "execution_count": null,
   "id": "7e6a8ea9-85f0-4711-a838-5548d4832c2d",
   "metadata": {},
   "outputs": [],
   "source": [
    "# добавляем поле с типом мелиа - TV\n",
    "# создаем спец ключ для объединения со справочником чистка объявлений\n",
    "df_simple_final['media_type'] = 'TV'\n",
    "df_simple_final['media_key_id'] = df_simple_final['media_type'] + '_' + df_simple_final['adId']\n",
    "# чтобы соеденить со словарем приводим adId к типу int64\n",
    "df_simple_final['adId'] = df_simple_final['adId'].astype('int64')"
   ]
  },
  {
   "cell_type": "code",
   "execution_count": null,
   "id": "e66dbbac-016b-4e53-a9c0-cd38dc2748ee",
   "metadata": {},
   "outputs": [],
   "source": [
    "custom_cleaning_dict = get_mssql_table(db_name, query=\"select distinct ad_id, cleaning_flag from custom_ad_dict where media_type='TV'\")"
   ]
  },
  {
   "cell_type": "code",
   "execution_count": null,
   "id": "258abe01-e4e3-4ad0-a059-07e39f8a2e4d",
   "metadata": {},
   "outputs": [],
   "source": []
  },
  {
   "cell_type": "code",
   "execution_count": null,
   "id": "c4f14864-64c4-490b-b5d9-5c017f14fd5f",
   "metadata": {},
   "outputs": [],
   "source": [
    "df_simple_final = df_simple_final.merge(custom_cleaning_dict, how='left', left_on=['adId'], right_on=['ad_id'])\n",
    "# удаляем лишнее поле\n",
    "df_simple_final = df_simple_final.drop(columns=['ad_id'])"
   ]
  },
  {
   "cell_type": "code",
   "execution_count": null,
   "id": "0058d4c1-b5dd-49ef-9508-437536c004ac",
   "metadata": {},
   "outputs": [],
   "source": [
    "# забираем список с числами для нормализации\n",
    "nat_tv_simple_int_lst = config.nat_tv_simple_int_lst\n",
    "nat_tv_simple_float_lst = config.nat_tv_simple_float_lst"
   ]
  },
  {
   "cell_type": "code",
   "execution_count": null,
   "id": "d6e91389-1b08-4211-bdb8-f01e1eb7a617",
   "metadata": {},
   "outputs": [],
   "source": [
    "# Нормализуем все поля в датаФрейме\n",
    "df_simple_final = normalize_columns_types(df_simple_final, nat_tv_simple_int_lst, nat_tv_simple_float_lst)"
   ]
  },
  {
   "cell_type": "code",
   "execution_count": null,
   "id": "e4232ed4-8e26-407b-b2ea-47953ccfda03",
   "metadata": {},
   "outputs": [],
   "source": [
    "# список названий полей для Словаря Объявлений\n",
    "# для этого забираем из конфига названия полей, на основании которых создана таблица в БД\n",
    "# и обрезаем название до пробела\n",
    "ad_dict_cols =[col[:col.find(' ')] for col in config.nat_tv_ad_dict_vars_list]\n",
    "# создаем датаФрейм - словарь объявлений\n",
    "ad_dict_df = df_simple_final[ad_dict_cols].drop_duplicates('adId')"
   ]
  },
  {
   "cell_type": "code",
   "execution_count": null,
   "id": "bf644256-6ee1-4f61-91db-e824e9306cf7",
   "metadata": {},
   "outputs": [],
   "source": []
  },
  {
   "cell_type": "code",
   "execution_count": null,
   "id": "185e2874-9ff7-4197-a57a-1c8451e3ed9d",
   "metadata": {},
   "outputs": [],
   "source": []
  },
  {
   "cell_type": "code",
   "execution_count": null,
   "id": "1997e0c9-5405-4f70-8e19-d24f0c1479fa",
   "metadata": {},
   "outputs": [],
   "source": []
  },
  {
   "cell_type": "code",
   "execution_count": null,
   "id": "52361a4a-2a7c-48d2-ad6d-879575d1f33d",
   "metadata": {},
   "outputs": [],
   "source": []
  },
  {
   "cell_type": "code",
   "execution_count": null,
   "id": "21d9fe57-129c-4407-986a-a32092c4cc85",
   "metadata": {},
   "outputs": [],
   "source": [
    "df_simple_final.head(1)"
   ]
  },
  {
   "cell_type": "code",
   "execution_count": null,
   "id": "8d87461d-dd8b-4364-ad44-293eba66d1e9",
   "metadata": {},
   "outputs": [],
   "source": [
    "custom_cleaning_dict.head()"
   ]
  },
  {
   "cell_type": "code",
   "execution_count": null,
   "id": "476b1afb-4bfa-4737-b4c2-90a20d8e6698",
   "metadata": {},
   "outputs": [],
   "source": [
    "df_simple_final.shape"
   ]
  },
  {
   "cell_type": "code",
   "execution_count": null,
   "id": "aab13825-1d73-4adf-847a-20a8af03cba9",
   "metadata": {},
   "outputs": [],
   "source": [
    "df_simple_final.head(1)"
   ]
  },
  {
   "cell_type": "code",
   "execution_count": null,
   "id": "6aff9c47-c978-460d-8b37-8571fb93e8d5",
   "metadata": {},
   "outputs": [],
   "source": []
  },
  {
   "cell_type": "code",
   "execution_count": null,
   "id": "e18fa786-e1e3-4c65-941c-7c89bea94054",
   "metadata": {},
   "outputs": [],
   "source": [
    "df_simple_final.head(1)"
   ]
  },
  {
   "cell_type": "code",
   "execution_count": null,
   "id": "dedaaf46-10f7-49b2-8526-ff0aa551aebf",
   "metadata": {},
   "outputs": [],
   "source": []
  },
  {
   "cell_type": "code",
   "execution_count": null,
   "id": "3e2b4571-b5a4-437f-992a-70b595b339c3",
   "metadata": {},
   "outputs": [],
   "source": []
  },
  {
   "cell_type": "code",
   "execution_count": null,
   "id": "495667bc-aa4e-4006-81a9-8b383bd59908",
   "metadata": {},
   "outputs": [],
   "source": []
  },
  {
   "cell_type": "code",
   "execution_count": null,
   "id": "8017d977-917e-4d2d-8ae6-cf143f4a1a6a",
   "metadata": {},
   "outputs": [],
   "source": []
  },
  {
   "cell_type": "code",
   "execution_count": null,
   "id": "4476c855-26bf-4dcd-8ef3-b4612f382ff5",
   "metadata": {},
   "outputs": [],
   "source": [
    "# обнуляем фильтры, которые были использованы в прошлом запросе\n",
    "basedemo_filter = None  \n",
    "targetdemo_filter = None\n",
    "\n",
    "statistics_bying_tv = ['SalesRtgPer', 'StandSalesRtgPer']"
   ]
  },
  {
   "cell_type": "code",
   "execution_count": null,
   "id": "3f8b3d37-4571-4e83-a23a-774b9b9d5857",
   "metadata": {},
   "outputs": [],
   "source": [
    "start_time = datetime.now()\n",
    "print(f'Скрипт запущен {start_time}')\n",
    "\n",
    "df_buying_final = pd.DataFrame()\n",
    "count_days = (end_date - start_date).days\n",
    "for i in range(count_days+1):\n",
    "    cur_date = str(start_date + relativedelta(days=i))\n",
    "    \n",
    "    date_filter = [(cur_date, cur_date)]\n",
    "    print(date_filter)\n",
    "     # Посчитаем задания в цикле\n",
    "    tasks = []\n",
    "    print(\"Отправляем задания на расчет\")\n",
    "    \n",
    "    # Формируем задание для API TV Index в формате JSON\n",
    "    task_json = mtask.build_simple_task(date_filter=date_filter, weekday_filter=weekday_filter, \n",
    "                                        daytype_filter=daytype_filter, company_filter=company_filter, \n",
    "                                        location_filter=location_filter, basedemo_filter=basedemo_filter, \n",
    "                                        targetdemo_filter=targetdemo_filter,program_filter=program_filter, \n",
    "                                        break_filter=break_filter, ad_filter=ad_filter, \n",
    "                                        slices=slices, statistics=statistics_bying_tv, sortings=sortings, options=options)\n",
    "\n",
    "\n",
    "    # Отправляем задание на расчет и ждем выполнения\n",
    "    task_timeband = mtask.wait_task(mtask.send_simple_task(task_json))\n",
    "    # Получаем результат\n",
    "    df = mtask.result2table(mtask.get_result(task_timeband))\n",
    "    df_buying_final = pd.concat([df, df_buying_final], ignore_index=True)\n",
    "\n",
    "    del df\n",
    "\n",
    "\n",
    "finish_time = datetime.now()\n",
    "print(f'Скрипт отработал {finish_time}')\n",
    "\n",
    "print(f'Время выполнения задачи: {finish_time - start_time}')\n",
    "# Приводим порядок столбцов в соответствие с условиями расчета"
   ]
  },
  {
   "cell_type": "code",
   "execution_count": null,
   "id": "aefe9507-bcba-4e04-98a1-e79c6b3e697d",
   "metadata": {},
   "outputs": [],
   "source": [
    "df_buying_final['media_type'] = 'TV'\n",
    "df_buying_final['media_key_id'] = df_buying_final['media_type'] + '_' + df_buying_final['adId']"
   ]
  },
  {
   "cell_type": "code",
   "execution_count": null,
   "id": "4819a48a-d391-47e1-bdd8-1bbc387c0c5a",
   "metadata": {},
   "outputs": [],
   "source": [
    "df_buying_final.head(1)"
   ]
  },
  {
   "cell_type": "code",
   "execution_count": null,
   "id": "0d0d0731-3cde-4dc3-9f3a-5d5d1fc916c6",
   "metadata": {},
   "outputs": [],
   "source": [
    "df_buying_final.shape"
   ]
  },
  {
   "cell_type": "code",
   "execution_count": null,
   "id": "d21832f8-164c-46a0-913a-2ae4eb54567c",
   "metadata": {},
   "outputs": [],
   "source": [
    "df_buying_final.head(1)"
   ]
  },
  {
   "cell_type": "code",
   "execution_count": null,
   "id": "141ccd1e-c2e3-46c3-a3e6-fc7774c018d9",
   "metadata": {},
   "outputs": [],
   "source": [
    "df_buying_final['prj_name'] = 'Total'"
   ]
  },
  {
   "cell_type": "code",
   "execution_count": null,
   "id": "1019e6f6-d9ff-40af-b6b4-032bb319dfd1",
   "metadata": {},
   "outputs": [],
   "source": []
  },
  {
   "cell_type": "code",
   "execution_count": null,
   "id": "44921fe8-9915-4b90-bad7-d3a042036155",
   "metadata": {},
   "outputs": [],
   "source": []
  },
  {
   "cell_type": "code",
   "execution_count": null,
   "id": "c2348807-3718-4b41-87b3-e33a0d407e02",
   "metadata": {},
   "outputs": [],
   "source": []
  },
  {
   "cell_type": "code",
   "execution_count": null,
   "id": "013cd49b-c54c-45bb-8f2a-923a8f884650",
   "metadata": {},
   "outputs": [],
   "source": []
  },
  {
   "cell_type": "code",
   "execution_count": null,
   "id": "0aef46d5-9f27-41e9-b429-d8c061c5d450",
   "metadata": {},
   "outputs": [],
   "source": []
  },
  {
   "cell_type": "code",
   "execution_count": null,
   "id": "eeb91793-ebce-4a3e-8c23-ff91e5e442bd",
   "metadata": {},
   "outputs": [],
   "source": [
    "df_simple_final.shape"
   ]
  },
  {
   "cell_type": "code",
   "execution_count": null,
   "id": "46c345e9-3e27-4257-84cd-708c1596d681",
   "metadata": {},
   "outputs": [],
   "source": [
    "nat_tv_int_lst = ['adId', 'adStandardDuration', 'adSpotId']\n",
    "nat_float_lst = ['ConsolidatedCostRUB', 'Quantity', 'Rtg000', 'RtgPer', 'StandRtgPer', 'SalesRtgPer', 'StandSalesRtgPer']"
   ]
  },
  {
   "cell_type": "code",
   "execution_count": null,
   "id": "d5dbd256-03bb-4dec-9103-4215e5a85571",
   "metadata": {},
   "outputs": [],
   "source": [
    "fact_varchar_lst = ['media_key_id', 'media_type', 'researchDate', 'prj_name', 'adId', 'regionName', 'adDistributionTypeName',\\\n",
    "                    'tvNetName', 'tvCompanyName','adTypeName', 'adStandardDuration', 'adPositionTypeName', 'adPrimeTimeStatusName',\\\n",
    "                    'adStartTime', 'adSpotId']\n"
   ]
  },
  {
   "cell_type": "code",
   "execution_count": null,
   "id": "081f8e23-5a9e-4d3b-b282-48d4e8d3bf9d",
   "metadata": {},
   "outputs": [],
   "source": [
    "# список названий полей для Словаря Объявлений\n",
    "ad_dict_cols = list(set(df_simple_final.columns) - set(fact_varchar_lst) - set(statistics) - set(['tvCompanyId'])) + ['media_key_id', 'media_type', 'adId']\n",
    "# создаем датаФрейм - словарь объявлений\n",
    "ad_dict_df = df_simple_final[ad_dict_cols].drop_duplicates('adId')"
   ]
  },
  {
   "cell_type": "code",
   "execution_count": null,
   "id": "c207a0be-19ed-4f2f-bf46-41f285d65465",
   "metadata": {},
   "outputs": [],
   "source": [
    "# навсякий случай обрезаем некоторые строки в словаре, чтобы он не вышли за установленный диапазон\n",
    "ad_dict_df['adNotes'] = ad_dict_df['adNotes'].str[:500]\n",
    "ad_dict_df['adSloganAudioName'] = ad_dict_df['adSloganAudioName'].str[:200]\n",
    "ad_dict_df['adSloganVideoName'] = ad_dict_df['adSloganVideoName'].str[:200]"
   ]
  },
  {
   "cell_type": "code",
   "execution_count": null,
   "id": "14b2e12f-e0e6-49bc-989c-c3ac91a78eaa",
   "metadata": {},
   "outputs": [],
   "source": []
  },
  {
   "cell_type": "code",
   "execution_count": null,
   "id": "43eea7a2-0027-4c79-9077-128dfb39cc37",
   "metadata": {},
   "outputs": [],
   "source": [
    "# оставляем поля для таблице фактов из отчета Simple\n",
    "df_simple_cols = list(set(fact_varchar_lst + statistics))\n",
    "df_simple_final = df_simple_final[df_simple_cols]"
   ]
  },
  {
   "cell_type": "code",
   "execution_count": null,
   "id": "5fb1bafd-9938-4824-9c21-6a5e717087ad",
   "metadata": {},
   "outputs": [],
   "source": [
    "df_simple_final.shape"
   ]
  },
  {
   "cell_type": "code",
   "execution_count": null,
   "id": "c658399f-df7a-44b6-bc2a-427f751e71af",
   "metadata": {},
   "outputs": [],
   "source": [
    "df_buying_final.shape"
   ]
  },
  {
   "cell_type": "code",
   "execution_count": null,
   "id": "1e3ed143-77e7-4ec4-8159-c5e8461b34a9",
   "metadata": {},
   "outputs": [],
   "source": [
    "df_buying_cols = list(set(fact_varchar_lst + statistics_bying_tv))\n",
    "df_buying_final = df_buying_final[df_buying_cols]"
   ]
  },
  {
   "cell_type": "code",
   "execution_count": null,
   "id": "7145c53e-6848-4092-94fe-0d35c1f53acd",
   "metadata": {},
   "outputs": [],
   "source": []
  },
  {
   "cell_type": "code",
   "execution_count": null,
   "id": "068a9f89-bcfe-4875-9869-2decd53dd5c6",
   "metadata": {},
   "outputs": [],
   "source": [
    "statistics_bying_tv"
   ]
  },
  {
   "cell_type": "code",
   "execution_count": null,
   "id": "96622532-7ab6-47b0-b89f-dcdbdd9df970",
   "metadata": {},
   "outputs": [],
   "source": [
    "test_varchar_lst = ['researchDate',\n",
    " 'prj_name',\n",
    " 'regionName',\n",
    " 'adDistributionTypeName',\n",
    " 'tvNetName',\n",
    " 'tvCompanyName',\n",
    " 'adTypeName',\n",
    " 'adStandardDuration',\n",
    " 'adPositionTypeName',\n",
    " 'adPrimeTimeStatusName',\n",
    " 'adStartTime']"
   ]
  },
  {
   "cell_type": "code",
   "execution_count": null,
   "id": "07968352-8c5b-48b4-b51d-57e657787bc4",
   "metadata": {},
   "outputs": [],
   "source": [
    "varchar_dict = dict()\n",
    "for col in test_varchar_lst:\n",
    "    varchar_dict[col] = df_simple_final[col].str.len().max()"
   ]
  },
  {
   "cell_type": "code",
   "execution_count": null,
   "id": "e8df4699-f31e-4918-8e45-b77654e4feaf",
   "metadata": {},
   "outputs": [],
   "source": [
    "statistics"
   ]
  },
  {
   "cell_type": "code",
   "execution_count": null,
   "id": "461b3a1a-37b1-43da-a27c-41c356571e2e",
   "metadata": {},
   "outputs": [],
   "source": [
    "df_simple_final.head(1)"
   ]
  },
  {
   "cell_type": "code",
   "execution_count": null,
   "id": "5de0b5d6-f6ba-48e5-a82a-f0466d29e89d",
   "metadata": {},
   "outputs": [],
   "source": []
  },
  {
   "cell_type": "code",
   "execution_count": null,
   "id": "7335d66e-4a7f-4ce8-a4a1-a04483995816",
   "metadata": {},
   "outputs": [],
   "source": []
  },
  {
   "cell_type": "code",
   "execution_count": null,
   "id": "b8c55646-7ae7-44f0-983a-b5138ae033f5",
   "metadata": {},
   "outputs": [],
   "source": []
  },
  {
   "cell_type": "code",
   "execution_count": null,
   "id": "839b80a9-1fa9-4c81-89cb-ebe1066766ca",
   "metadata": {},
   "outputs": [],
   "source": []
  }
 ],
 "metadata": {
  "kernelspec": {
   "display_name": "Python 3 (ipykernel)",
   "language": "python",
   "name": "python3"
  },
  "language_info": {
   "codemirror_mode": {
    "name": "ipython",
    "version": 3
   },
   "file_extension": ".py",
   "mimetype": "text/x-python",
   "name": "python",
   "nbconvert_exporter": "python",
   "pygments_lexer": "ipython3",
   "version": "3.11.7"
  }
 },
 "nbformat": 4,
 "nbformat_minor": 5
}
