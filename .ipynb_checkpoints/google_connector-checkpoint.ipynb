{
 "cells": [
  {
   "cell_type": "code",
   "execution_count": null,
   "id": "ccf48e16-1232-4d3a-bb65-138a9d79eac1",
   "metadata": {},
   "outputs": [],
   "source": [
    "import gspread\n",
    "from oauth2client.service_account import ServiceAccountCredentials\n",
    "\n",
    "import config"
   ]
  },
  {
   "cell_type": "code",
   "execution_count": null,
   "id": "45e80fc7-aebd-446f-aba1-f273844243b0",
   "metadata": {},
   "outputs": [],
   "source": [
    "# функция для того, чтобы создать подключение к Гугл докс\n",
    "def create_connection(service_file):\n",
    "    client = None\n",
    "    scope = [\n",
    "        \"https://www.googleapis.com/auth/drive\",\n",
    "        \"https://www.googleapis.com/auth/drive.file\",\n",
    "    ]\n",
    "    try:\n",
    "        credentials = ServiceAccountCredentials.from_json_keyfile_name(\n",
    "            service_file, scope\n",
    "        )\n",
    "        client = gspread.authorize(credentials)\n",
    "        print(\"Connection established successfully...\")\n",
    "    except Exception as e:\n",
    "        print(e)\n",
    "    return client"
   ]
  },
  {
   "cell_type": "code",
   "execution_count": null,
   "id": "18aa6f23-233b-47a9-8cbb-7f7fe97f7bb4",
   "metadata": {},
   "outputs": [],
   "source": [
    "# функция для загрузки данных в гугл таблицу\n",
    "def export_dataframe_to_google_sheet(worksheet, df):\n",
    "    try:\n",
    "        worksheet.update(\n",
    "            [df.columns.values.tolist()] + df.values.tolist(),\n",
    "            \n",
    "        )\n",
    "        print(\"DataFrame exported successfully...\")\n",
    "    except Exception as e:\n",
    "        print(e)"
   ]
  },
  {
   "cell_type": "code",
   "execution_count": null,
   "id": "6eb84676-3899-4a1c-bb48-2eea2723d2f8",
   "metadata": {},
   "outputs": [],
   "source": []
  }
 ],
 "metadata": {
  "kernelspec": {
   "display_name": "Python 3 (ipykernel)",
   "language": "python",
   "name": "python3"
  },
  "language_info": {
   "codemirror_mode": {
    "name": "ipython",
    "version": 3
   },
   "file_extension": ".py",
   "mimetype": "text/x-python",
   "name": "python",
   "nbconvert_exporter": "python",
   "pygments_lexer": "ipython3",
   "version": "3.11.7"
  }
 },
 "nbformat": 4,
 "nbformat_minor": 5
}
