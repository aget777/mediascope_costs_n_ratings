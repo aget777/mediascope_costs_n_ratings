{
 "cells": [
  {
   "cell_type": "code",
   "execution_count": 1,
   "id": "517e7721-4ac5-45e3-923d-424ec2318f19",
   "metadata": {},
   "outputs": [],
   "source": [
    "import pandas as pd\n",
    "import numpy as np\n",
    "from datetime import datetime\n",
    "\n",
    "import config\n",
    "\n",
    "start_of_the_time = datetime.strptime('1990-01-01', '%Y-%m-%d') # указываем дату начала сбора данных, для преобразования номера месяца\n",
    "\n",
    "media_type_dict = {'tv': 'tv'} # {'tv': 'tv', 'radio': 'ra'}"
   ]
  },
  {
   "cell_type": "code",
   "execution_count": 2,
   "id": "1aeec32c-ff15-4402-b7bb-637958ce1a90",
   "metadata": {},
   "outputs": [],
   "source": [
    "# создаем фильтр, который будем применять во воложенном запросе для фильтрации ВСЕХ ТАБЛИЦ по ВСЕМ ИСТОЧНИКАМ\n",
    "# этот фильтр используем в ТВ, Радио, ООН, Пресса\n",
    "# Префикс для фильтруемой таблицы задан с запасом = t10\n",
    "main_filter_str = config.main_filter_str"
   ]
  },
  {
   "cell_type": "code",
   "execution_count": 3,
   "id": "fe474a69-a0c9-4ff5-8e7c-e802b9039917",
   "metadata": {},
   "outputs": [],
   "source": [
    "first_row_query_dict = {\n",
    "    'tv': 't1.vid, t1.cid, t1.distr, t1.mon, t1.from_mon, t1.estat, t1.cnd_cost_rub,  t1.vol, t1.cnt'\n",
    "}"
   ]
  },
  {
   "cell_type": "code",
   "execution_count": 4,
   "id": "a5e92662-c624-4a54-8c75-098ab6376ff6",
   "metadata": {},
   "outputs": [],
   "source": [
    "# создаем словарь, с помощью которого будем переименовывать поля в таблицах Фактов и Справочниках\n",
    "# Названия приводим к стандарту из ТВ индекс\n",
    "rename_cols_dict = {\n",
    "    'vid':          'adId',\n",
    "    'cid':          'tvCompanyId',\n",
    "    'distr':        'breaksDistributionType',\n",
    "    'mon':          'mon_num',\n",
    "    'cnd_cost_rub': 'ConsolidatedCostRUB',\n",
    "    'cnt':          'Quantity',\n",
    "    'notes':        'adNotes',\n",
    "    'atid':         'ad_type_id',\n",
    "    'stdur':        'adStandardDuration',\n",
    "    'alid':         'advertiserListId',\n",
    "    'blid':         'brandListId',\n",
    "    'sblid':        'subbrandListId',\n",
    "    'mlid':         'modelListId',\n",
    "    'slid2':        'articleList2Id',\n",
    "    'slid3':        'articleList3Id',\n",
    "    'slid4':        'articleList4Id', \n",
    "    'slaid':        'adSloganAudioId',\n",
    "    'slvid':        'adSloganVideoId',\n",
    "}"
   ]
  },
  {
   "cell_type": "code",
   "execution_count": 5,
   "id": "0b7a95f3-5ef6-4406-8a99-e4cf703052c1",
   "metadata": {},
   "outputs": [],
   "source": [
    "# таблица фактов по отчету TV расходы\n",
    "\n",
    "media_tv_costs = 'media_tv_costs'\n",
    "\n",
    "media_tv_costs_vars_list = [\n",
    "            'media_key_id nvarchar(40)',\n",
    "            'media_type nvarchar(20)',\n",
    "            'adId int',\n",
    "            'researchDate nvarchar(10)',\n",
    "            'breaksDistributionType char',\n",
    "            'tvCompanyId smallint',\n",
    "            'mon_num smallint',\n",
    "            'from_mon smallint',\n",
    "            'estat char',\n",
    "            'ConsolidatedCostRUB bigint',\n",
    "            'year smallint',\n",
    "            'vol int',\n",
    "            'Quantity smallint',\n",
    "             'disc float', \n",
    "            'ConsolidatedCostRUB_disc float'\n",
    "]\n",
    "\n",
    "media_tv_costs_int_lst = ['adId', 'tvCompanyId', 'mon_num', 'from_mon',  'ConsolidatedCostRUB', 'year', 'vol', 'Quantity']\n",
    "media_tv_costs_float_lst = ['disc', 'ConsolidatedCostRUB_disc']"
   ]
  },
  {
   "cell_type": "code",
   "execution_count": null,
   "id": "9fe33ca0-f1de-4dbb-8235-0e6f03373459",
   "metadata": {},
   "outputs": [],
   "source": []
  },
  {
   "cell_type": "code",
   "execution_count": null,
   "id": "823ca73a-5e8c-4c32-a739-474ad9acfb33",
   "metadata": {},
   "outputs": [],
   "source": []
  },
  {
   "cell_type": "code",
   "execution_count": null,
   "id": "c430d360-9469-4b47-8e97-eebfdcf611eb",
   "metadata": {},
   "outputs": [],
   "source": []
  },
  {
   "cell_type": "code",
   "execution_count": 6,
   "id": "5c114193-418e-4614-bd76-dea85cb4b37e",
   "metadata": {},
   "outputs": [],
   "source": [
    "# dicts_lst = config.nat_tv_slices\n",
    "# Список параметров словарей ТВ Индекс для создания таблиц в БД и нормализации данных\n",
    "# Название таблицы / Список названий полей  в БД и типы данных / Список целочисденных полей\n",
    "media_dicts_costs = {\n",
    "    'tv': [media_tv_costs, media_tv_costs_vars_list, media_tv_costs_int_lst, media_tv_costs_float_lst],\n",
    "}"
   ]
  },
  {
   "cell_type": "code",
   "execution_count": 7,
   "id": "7acba984-3a7a-4158-b457-f3e7fcd305b2",
   "metadata": {},
   "outputs": [],
   "source": [
    "# словарь с характеристиками TV Объявлений\n",
    "\n",
    "adex_ad_dict_list_tv = 'adex_ad_dict_list_tv'\n",
    "\n",
    "adex_ad_dict_list_tv_vars_list = [\n",
    "            'media_key_id nvarchar(40)',\n",
    "            'media_type nvarchar(20)',\n",
    "            'adId int',\n",
    "            'adName nvarchar(100)',\n",
    "            'adNotes nvarchar(250)',\n",
    "            'ad_type_id smallint',\n",
    "            'adStandardDuration smallint',\n",
    "            'advertiserListId int',\n",
    "            'brandListId int',\n",
    "            'subbrandListId int',\n",
    "            'modelListId int', \n",
    "            'articleList2Id int',\n",
    "            'articleList3Id int',\n",
    "            'articleList4Id int',           \n",
    "            'adSloganAudioId int',\n",
    "            'adSloganVideoId int',         \n",
    "            'adFirstIssueDate nvarchar(10)',\n",
    "    \n",
    "    'cleaning_flag tinyint',\n",
    "            'clip_type_region nvarchar(100)',\n",
    "            'advertiser_type nvarchar(20)',\n",
    "            'advertiser_main nvarchar(100)',\n",
    "            'brand_main nvarchar(150)',\n",
    "            'competitor nvarchar(20)',\n",
    "            'category_general nvarchar(50)',\n",
    "            'delivery nvarchar(30)',\n",
    "            'product_category nvarchar(50)',\n",
    "            ]\n",
    "\n",
    "adex_ad_dict_list_tv_int_lst = ['adId', 'ad_type_id', 'adStandardDuration', 'advertiserListId', 'brandListId', 'subbrandListId', \n",
    "    'modelListId', 'articleList2Id', 'articleList3Id', 'articleList4Id', 'adSloganAudioId', 'adSloganVideoId', 'cleaning_flag']"
   ]
  },
  {
   "cell_type": "code",
   "execution_count": 8,
   "id": "936118e3-6761-4f55-97fc-11c80115d6aa",
   "metadata": {},
   "outputs": [],
   "source": [
    "adex_ad_lst_dicts = {\n",
    "    'tv_Ad': [adex_ad_dict_list_tv, adex_ad_dict_list_tv_vars_list, adex_ad_dict_list_tv_int_lst, 'vid'],\n",
    "}"
   ]
  },
  {
   "cell_type": "code",
   "execution_count": null,
   "id": "68a287d4-8012-4e67-9dc2-aaaf73ed2914",
   "metadata": {},
   "outputs": [],
   "source": []
  }
 ],
 "metadata": {
  "kernelspec": {
   "display_name": "Python 3 (ipykernel)",
   "language": "python",
   "name": "python3"
  },
  "language_info": {
   "codemirror_mode": {
    "name": "ipython",
    "version": 3
   },
   "file_extension": ".py",
   "mimetype": "text/x-python",
   "name": "python",
   "nbconvert_exporter": "python",
   "pygments_lexer": "ipython3",
   "version": "3.11.7"
  }
 },
 "nbformat": 4,
 "nbformat_minor": 5
}
