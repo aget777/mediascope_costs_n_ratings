{
 "cells": [
  {
   "cell_type": "code",
   "execution_count": 1,
   "id": "b8a78c4f-5230-4ff0-b3ea-aaff4beac49d",
   "metadata": {},
   "outputs": [],
   "source": [
    "import os\n",
    "\n",
    "import pandas as pd\n",
    "import numpy as np\n",
    "import warnings\n",
    "\n",
    "import config\n",
    "from db_funcs import get_mssql_table\n",
    "\n",
    "db_name = config.db_name"
   ]
  },
  {
   "cell_type": "code",
   "execution_count": 2,
   "id": "af4a8676-b343-4660-8ad5-7e623f01ab3b",
   "metadata": {},
   "outputs": [],
   "source": [
    "# Включаем отображение всех колонок\n",
    "pd.set_option('display.max_columns', None)\n",
    "# Задаем ширину столбцов по контенту\n",
    "pd.set_option('display.max_colwidth', None)\n",
    "pd.set_option('display.max_rows', None)\n",
    "\n",
    "warnings.simplefilter(action='ignore', category=FutureWarning)\n",
    "# убираем лишние предупреждения\n",
    "pd.set_option('mode.chained_assignment', None)"
   ]
  },
  {
   "cell_type": "code",
   "execution_count": 3,
   "id": "41f1509c-3e0b-4f01-9ebb-8d4fdf1c2b9b",
   "metadata": {},
   "outputs": [
    {
     "name": "stdout",
     "output_type": "stream",
     "text": [
      "Все ок. Подключились!\n",
      "Загрузка завершена успешно\n"
     ]
    }
   ],
   "source": [
    "query = \"\"\"\n",
    "select *\n",
    "from\n",
    "(select \n",
    "*\n",
    "from nat_tv_simple\n",
    "where researchDate='2023-01-02') t1 left join nat_tv_ad_dict t2\n",
    "on t1.adId=t2.adId\n",
    "\"\"\"\n",
    "\n",
    "df = get_mssql_table(db_name, query=query)"
   ]
  },
  {
   "cell_type": "code",
   "execution_count": 4,
   "id": "dc01cc10-0164-4c36-a5f4-de8976901039",
   "metadata": {},
   "outputs": [
    {
     "data": {
      "text/plain": [
       "(10420, 47)"
      ]
     },
     "execution_count": 4,
     "metadata": {},
     "output_type": "execute_result"
    }
   ],
   "source": [
    "df.shape"
   ]
  },
  {
   "cell_type": "code",
   "execution_count": 8,
   "id": "66541a6e-0f3b-4d98-b973-07ff87570e18",
   "metadata": {},
   "outputs": [],
   "source": [
    "import os\n",
    "import pandas as pd\n",
    "\n",
    "file_path = r'C:\\Users\\o.bogomolov\\Downloads\\Telegram'\n",
    "file_name = 'simple_02_01_2023.xlsx'\n",
    "df.to_excel(os.path.join(file_path, file_name))"
   ]
  }
 ],
 "metadata": {
  "kernelspec": {
   "display_name": "Python 3 (ipykernel)",
   "language": "python",
   "name": "python3"
  },
  "language_info": {
   "codemirror_mode": {
    "name": "ipython",
    "version": 3
   },
   "file_extension": ".py",
   "mimetype": "text/x-python",
   "name": "python",
   "nbconvert_exporter": "python",
   "pygments_lexer": "ipython3",
   "version": "3.11.7"
  }
 },
 "nbformat": 4,
 "nbformat_minor": 5
}
