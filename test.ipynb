{
 "cells": [
  {
   "cell_type": "code",
   "execution_count": 1,
   "id": "b8a78c4f-5230-4ff0-b3ea-aaff4beac49d",
   "metadata": {},
   "outputs": [],
   "source": [
    "import requests\n",
    "import pandas as pd\n",
    "import numpy as np\n",
    "import os\n",
    "from datetime import datetime, date, timedelta\n",
    "from dateutil.relativedelta import relativedelta\n",
    "import time\n",
    "import pyarrow as pa\n",
    "from urllib.parse import quote_plus\n",
    "from pandas.api.types import is_string_dtype\n",
    "import gc\n",
    "import warnings\n",
    "\n",
    "import config\n",
    "import config_media_costs\n",
    "from normalize_funcs import normalize_columns_types, append_custom_columns\n",
    "from db_funcs import createDBTable, downloadTableToDB, get_mssql_table, removeRowsFromDB\n",
    "from create_dicts import get_cleaning_dict, get_media_discounts\n",
    "from create_dicts_adex import get_adex_dicts\n",
    "\n",
    "db_name = config.db_name"
   ]
  },
  {
   "cell_type": "code",
   "execution_count": 2,
   "id": "af4a8676-b343-4660-8ad5-7e623f01ab3b",
   "metadata": {},
   "outputs": [],
   "source": [
    "# Включаем отображение всех колонок\n",
    "pd.set_option('display.max_columns', None)\n",
    "# Задаем ширину столбцов по контенту\n",
    "pd.set_option('display.max_colwidth', None)\n",
    "pd.set_option('display.max_rows', None)\n",
    "\n",
    "warnings.simplefilter(action='ignore', category=FutureWarning)\n",
    "# убираем лишние предупреждения\n",
    "pd.set_option('mode.chained_assignment', None)"
   ]
  },
  {
   "cell_type": "code",
   "execution_count": 3,
   "id": "5f1e7387-9ed6-43f5-941f-eebe4c180284",
   "metadata": {},
   "outputs": [],
   "source": [
    "# создаем функцию, которая вернет номер месяца от начальной даты отсчета\n",
    "def get_mon_num_from_date(curr_date):\n",
    "    curr_date = datetime.strptime(str(curr_date), '%Y-%m-%d')\n",
    "    # с помощью метода relativedelta получаем кол-во лет и месяцев от даты начала до текущей даты\n",
    "    relative_date = relativedelta(curr_date, config_media_costs.start_of_the_time)\n",
    "    # теперь нужно получить номер текущего месяца от даты начала\n",
    "    months_count = relative_date.years * 12 + relative_date.months\n",
    "    \n",
    "    return months_count"
   ]
  },
  {
   "cell_type": "code",
   "execution_count": 4,
   "id": "adec568f-492e-4ee2-a40f-0781097cad29",
   "metadata": {},
   "outputs": [
    {
     "name": "stdout",
     "output_type": "stream",
     "text": [
      "360\n"
     ]
    }
   ],
   "source": [
    "start_date = '2020-01-01'\n",
    "mon_num = get_mon_num_from_date(start_date)\n",
    "print(mon_num)"
   ]
  },
  {
   "cell_type": "code",
   "execution_count": 8,
   "id": "cd7a85cd-a494-4a74-b209-d028fb040725",
   "metadata": {},
   "outputs": [],
   "source": [
    "# создаем фильтр, который будем применять во воложенном запросе для фильтрации ВСЕХ ТАБЛИЦ по ВСЕМ ИСТОЧНИКАМ\n",
    "# этот фильтр используем в ТВ, Радио, ООН, Пресса\n",
    "# Префикс для фильтруемой таблицы задан с запасом = t10\n",
    "main_filter_str = f't10.sid2 in (2272,2277)'"
   ]
  },
  {
   "cell_type": "code",
   "execution_count": null,
   "id": "7b2e1033-21b0-40cb-8f93-4aa383c7ed00",
   "metadata": {},
   "outputs": [],
   "source": [
    "first_row_query_dict = {\n",
    "    'tv': 't1.vid, t1.cid, t1.distr, t1.mon, t1.from_mon, t1.estat, t1.cnd_cost_rub,  t1.vol, t1.cnt'\n",
    "}"
   ]
  },
  {
   "cell_type": "code",
   "execution_count": 9,
   "id": "41f1509c-3e0b-4f01-9ebb-8d4fdf1c2b9b",
   "metadata": {},
   "outputs": [
    {
     "name": "stdout",
     "output_type": "stream",
     "text": [
      "Все ок. Подключились!\n",
      "Загрузка завершена успешно\n"
     ]
    }
   ],
   "source": [
    "media_type = 'tv'\n",
    "query = f\"\"\"select \n",
    "distinct t3.sbid\n",
    "from {media_type}_Ad_month t1 left join {media_type}_Appendix t10 \n",
    "on t1.vid=t10.vid\n",
    "left join tv_Appendix t3\n",
    "on t1.vid=t3.vid\n",
    "where t1.mon>={str(mon_num)}  and \n",
    "({main_filter_str})\"\"\"\n",
    "# отправляем запрос в БД Медиа инвестиции\n",
    "\n",
    "df = get_mssql_table(config.investments_db_name, query=query, conn_lst=config.conn_lst)"
   ]
  },
  {
   "cell_type": "code",
   "execution_count": 10,
   "id": "dc01cc10-0164-4c36-a5f4-de8976901039",
   "metadata": {},
   "outputs": [
    {
     "data": {
      "text/plain": [
       "(852, 1)"
      ]
     },
     "execution_count": 10,
     "metadata": {},
     "output_type": "execute_result"
    }
   ],
   "source": [
    "df.shape"
   ]
  },
  {
   "cell_type": "code",
   "execution_count": 12,
   "id": "2462af38-0435-4829-855a-bfb25478bfb7",
   "metadata": {},
   "outputs": [],
   "source": [
    "file_path = r'C:\\Users\\o.bogomolov\\Downloads\\Telegram'\n",
    "file_name = 'subbrand_id.xlsx'\n",
    "df.to_excel(os.path.join(file_path, file_name))"
   ]
  },
  {
   "cell_type": "code",
   "execution_count": null,
   "id": "66541a6e-0f3b-4d98-b973-07ff87570e18",
   "metadata": {},
   "outputs": [],
   "source": [
    "import os\n",
    "import pandas as pd\n",
    "\n",
    "file_path = r'C:\\Users\\o.bogomolov\\Downloads\\Telegram'\n",
    "file_name = 'simple_02_01_2023.xlsx'\n",
    "df.to_excel(os.path.join(file_path, file_name))"
   ]
  },
  {
   "cell_type": "code",
   "execution_count": null,
   "id": "b07e09ed-a987-41b5-a670-89f37290d23e",
   "metadata": {},
   "outputs": [],
   "source": []
  },
  {
   "cell_type": "code",
   "execution_count": 3,
   "id": "71b2e9b1-7ac3-4cbc-90ab-2ea3db5ddf87",
   "metadata": {},
   "outputs": [],
   "source": [
    "import os\n",
    "import gc\n",
    "import sys\n",
    "import re\n",
    "import json\n",
    "from datetime import datetime, date, timedelta, time\n",
    "import time\n",
    "from dateutil.relativedelta import relativedelta\n",
    "import warnings\n",
    "import pandas as pd\n",
    "import numpy as np\n",
    "\n",
    "from sqlalchemy import create_engine\n",
    "import pyodbc\n",
    "import turbodbc\n",
    "from turbodbc import connect\n",
    "\n",
    "from IPython.display import JSON\n",
    "from mediascope_api.core import net as mscore\n",
    "from mediascope_api.mediavortex import tasks as cwt\n",
    "from mediascope_api.mediavortex import catalogs as cwc"
   ]
  },
  {
   "cell_type": "code",
   "execution_count": 4,
   "id": "44459b43-4e7c-4a40-80b4-a2fcc7a782c6",
   "metadata": {},
   "outputs": [
    {
     "name": "stdout",
     "output_type": "stream",
     "text": [
      "Запрошены записи: 0 - 314\n",
      "Всего найдено записей: 314\n",
      "\n",
      "Запрошены записи: 0 - 314\n",
      "Всего найдено записей: 314\n",
      "\n"
     ]
    }
   ],
   "source": [
    "# добавляем библиотеки для работы с ТВ индексом\n",
    "\n",
    "%reload_ext autoreload\n",
    "%autoreload 2\n",
    "\n",
    "import sys\n",
    "import os\n",
    "import re\n",
    "import json\n",
    "import time\n",
    "import pandas as pd\n",
    "import numpy as np\n",
    "from IPython.display import JSON\n",
    "\n",
    "from mediascope_api.core import net as mscore\n",
    "from mediascope_api.mediavortex import tasks as cwt\n",
    "from mediascope_api.mediavortex import catalogs as cwc\n",
    "\n",
    "# Включаем отображение всех колонок\n",
    "pd.set_option('display.max_columns', None)\n",
    "\n",
    "# Cоздаем объекты для работы с TVI API\n",
    "mnet = mscore.MediascopeApiNetwork()\n",
    "mtask = cwt.MediaVortexTask()\n",
    "cats = cwc.MediaVortexCats()"
   ]
  },
  {
   "cell_type": "code",
   "execution_count": 5,
   "id": "ca903cb1-e3ae-4a73-b527-1bb0fc4c158e",
   "metadata": {},
   "outputs": [],
   "source": [
    "# Статистики для отчета Buying\n",
    "nat_tv_bying_statistics = ['SalesRtgPer', 'StandSalesRtgPer', 'ConsolidatedCostRUB', 'Quantity']"
   ]
  },
  {
   "cell_type": "code",
   "execution_count": 6,
   "id": "c5296064-4c53-4a57-a27b-c2761040dd5f",
   "metadata": {},
   "outputs": [],
   "source": [
    "\n",
    "# список срезов, по которым будет разбивка отчета\n",
    "slices = config.nat_tv_buying_slices\n",
    "# список метрик для отчета Simple\n",
    "statistics = nat_tv_bying_statistics\n",
    "# Здесь указаны логические условия ad_filter \n",
    "# Они применяются для получения статистики в отчетах Simple и Buying# условия фильтрации для запроса \n",
    "ad_filter = config.nat_tv_ad_filter\n",
    "# Опции для расчета - вся рф и тд.\n",
    "options = config.nat_tv_options"
   ]
  },
  {
   "cell_type": "code",
   "execution_count": 7,
   "id": "27adc361-5e07-4c64-8c95-4af909c3b806",
   "metadata": {},
   "outputs": [],
   "source": [
    "weekday_filter = None\n",
    "# Задаем тип дня\n",
    "daytype_filter = None\n",
    "# Задаем временной интервал\n",
    "time_filter = None\n",
    "# Задаем ЦА\n",
    "basedemo_filter = None\n",
    "# Доп фильтр ЦА, нужен только в случае расчета отношения между ЦА, например, при расчете Affinity Index\n",
    "targetdemo_filter = None\n",
    "# Задаем место просмотра\n",
    "location_filter=None\n",
    "# Задаем каналы\n",
    "company_filter = None\n",
    "# Указываем фильтр программ: продолжительность от 5 минут (300 секунд) \n",
    "program_filter = None\n",
    "# Фильтр блоков\n",
    "break_filter = None\n",
    "sortings = None"
   ]
  },
  {
   "cell_type": "code",
   "execution_count": 8,
   "id": "0c2aeaba-069b-4417-a881-9786475eca45",
   "metadata": {},
   "outputs": [
    {
     "name": "stdout",
     "output_type": "stream",
     "text": [
      "start_date: 2023-01-01 / end_date: 2023-01-02\n"
     ]
    }
   ],
   "source": [
    "start_date = '2023-01-01'\n",
    "start_date = datetime.strptime(start_date, '%Y-%m-%d').date()\n",
    "\n",
    "end_date = '2023-01-02'\n",
    "end_date = datetime.strptime(end_date, '%Y-%m-%d').date()\n",
    "\n",
    "print(f'start_date: {start_date} / end_date: {end_date}')"
   ]
  },
  {
   "cell_type": "code",
   "execution_count": 9,
   "id": "32f6e77c-d04f-4229-ae5c-98ed855e2a2d",
   "metadata": {},
   "outputs": [],
   "source": [
    " date_filter = [(str(start_date), str(start_date))]"
   ]
  },
  {
   "cell_type": "code",
   "execution_count": 10,
   "id": "093eae71-fb57-4645-a26f-51c1b4d390e9",
   "metadata": {},
   "outputs": [
    {
     "name": "stdout",
     "output_type": "stream",
     "text": [
      "Расчет задачи (id: 1eeead79-2aa0-4030-9bed-a95cfdcca1fa) [= = = = = = ] время расчета: 0:00:19.356098\n"
     ]
    }
   ],
   "source": [
    "# Посчитаем задания в цикле\n",
    "tasks = []\n",
    "# Формируем задание для API TV Index в формате JSON\n",
    "task_json = mtask.build_simple_task(date_filter=date_filter, weekday_filter=weekday_filter, \n",
    "                                    daytype_filter=daytype_filter, company_filter=company_filter, \n",
    "                                    location_filter=location_filter, basedemo_filter=basedemo_filter, \n",
    "                                    targetdemo_filter=targetdemo_filter,program_filter=program_filter, \n",
    "                                    break_filter=break_filter, ad_filter=ad_filter, \n",
    "                                    slices=slices, statistics=statistics, sortings=sortings, options=options)\n",
    "\n",
    "\n",
    "# Отправляем задание на расчет и ждем выполнения\n",
    "task_timeband = mtask.wait_task(mtask.send_simple_task(task_json))\n",
    "# Получаем результат\n",
    "df = mtask.result2table(mtask.get_result(task_timeband))"
   ]
  },
  {
   "cell_type": "code",
   "execution_count": 11,
   "id": "9948d475-8580-4ff4-aa4a-a13f177b0818",
   "metadata": {},
   "outputs": [
    {
     "data": {
      "text/plain": [
       "(94, 15)"
      ]
     },
     "execution_count": 11,
     "metadata": {},
     "output_type": "execute_result"
    }
   ],
   "source": [
    "df.shape"
   ]
  },
  {
   "cell_type": "code",
   "execution_count": 12,
   "id": "6332044d-40c7-411f-a374-2fa6992f84c8",
   "metadata": {},
   "outputs": [
    {
     "data": {
      "text/html": [
       "<div>\n",
       "<style scoped>\n",
       "    .dataframe tbody tr th:only-of-type {\n",
       "        vertical-align: middle;\n",
       "    }\n",
       "\n",
       "    .dataframe tbody tr th {\n",
       "        vertical-align: top;\n",
       "    }\n",
       "\n",
       "    .dataframe thead th {\n",
       "        text-align: right;\n",
       "    }\n",
       "</style>\n",
       "<table border=\"1\" class=\"dataframe\">\n",
       "  <thead>\n",
       "    <tr style=\"text-align: right;\">\n",
       "      <th></th>\n",
       "      <th>adTypeId</th>\n",
       "      <th>regionId</th>\n",
       "      <th>adStartTime</th>\n",
       "      <th>researchDate</th>\n",
       "      <th>adPositionTypeName</th>\n",
       "      <th>adId</th>\n",
       "      <th>adSpotId</th>\n",
       "      <th>adPrimeTimeStatusName</th>\n",
       "      <th>adStandardDuration</th>\n",
       "      <th>tvCompanyId</th>\n",
       "      <th>adDistributionTypeName</th>\n",
       "      <th>SalesRtgPer</th>\n",
       "      <th>StandSalesRtgPer</th>\n",
       "      <th>Quantity</th>\n",
       "      <th>ConsolidatedCostRUB</th>\n",
       "    </tr>\n",
       "  </thead>\n",
       "  <tbody>\n",
       "    <tr>\n",
       "      <th>0</th>\n",
       "      <td>23</td>\n",
       "      <td>99</td>\n",
       "      <td>17:35:38</td>\n",
       "      <td>2023-01-01</td>\n",
       "      <td>Первый</td>\n",
       "      <td>4400510</td>\n",
       "      <td>4869856617</td>\n",
       "      <td>Прайм-тайм</td>\n",
       "      <td>20</td>\n",
       "      <td>1870</td>\n",
       "      <td>Сетевой</td>\n",
       "      <td>2.323279</td>\n",
       "      <td>2.323279</td>\n",
       "      <td>1.0</td>\n",
       "      <td>546128.0</td>\n",
       "    </tr>\n",
       "  </tbody>\n",
       "</table>\n",
       "</div>"
      ],
      "text/plain": [
       "  adTypeId regionId adStartTime researchDate adPositionTypeName     adId  \\\n",
       "0       23       99    17:35:38   2023-01-01             Первый  4400510   \n",
       "\n",
       "     adSpotId adPrimeTimeStatusName adStandardDuration tvCompanyId  \\\n",
       "0  4869856617            Прайм-тайм                 20        1870   \n",
       "\n",
       "  adDistributionTypeName  SalesRtgPer  StandSalesRtgPer  Quantity  \\\n",
       "0                Сетевой     2.323279          2.323279       1.0   \n",
       "\n",
       "   ConsolidatedCostRUB  \n",
       "0             546128.0  "
      ]
     },
     "execution_count": 12,
     "metadata": {},
     "output_type": "execute_result"
    }
   ],
   "source": [
    "df.head(1)"
   ]
  },
  {
   "cell_type": "code",
   "execution_count": null,
   "id": "72731b8e-2ee9-4880-8e58-b9d0c5b4b7c2",
   "metadata": {},
   "outputs": [],
   "source": [
    "df['ConsolidatedCostRUB'].sum()"
   ]
  }
 ],
 "metadata": {
  "kernelspec": {
   "display_name": "Python 3 (ipykernel)",
   "language": "python",
   "name": "python3"
  },
  "language_info": {
   "codemirror_mode": {
    "name": "ipython",
    "version": 3
   },
   "file_extension": ".py",
   "mimetype": "text/x-python",
   "name": "python",
   "nbconvert_exporter": "python",
   "pygments_lexer": "ipython3",
   "version": "3.11.7"
  }
 },
 "nbformat": 4,
 "nbformat_minor": 5
}
