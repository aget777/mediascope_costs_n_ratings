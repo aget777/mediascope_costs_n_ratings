{
 "cells": [
  {
   "cell_type": "code",
   "execution_count": 60,
   "id": "74ed78de-c9ee-4516-864f-ac02ed45fbd0",
   "metadata": {},
   "outputs": [
    {
     "name": "stdout",
     "output_type": "stream",
     "text": [
      "start_date: 2023-01-01 / end_date: 2023-01-02\n"
     ]
    }
   ],
   "source": [
    "import requests\n",
    "import pandas as pd\n",
    "import numpy as np\n",
    "import os\n",
    "from datetime import datetime, date, timedelta\n",
    "from dateutil import relativedelta\n",
    "import time\n",
    "import pyarrow as pa\n",
    "from urllib.parse import quote_plus\n",
    "from pandas.api.types import is_string_dtype\n",
    "import gc\n",
    "import warnings\n",
    "\n",
    "import config\n",
    "from normalize_funcs import *\n",
    "from db_funcs import createDBTable, downloadTableToDB, get_mssql_table, removeRowsFromDB\n",
    "\n",
    "start_of_the_time = datetime.strptime('1990-01-01', '%Y-%m-%d') # указываем дату начала сбора данных, для преобразования номера месяца\n",
    "\n",
    "start_date = '2023-01-01'\n",
    "start_date = datetime.strptime(start_date, '%Y-%m-%d').date()\n",
    "\n",
    "end_date = '2023-01-02'\n",
    "end_date = datetime.strptime(end_date, '%Y-%m-%d').date()\n",
    "\n",
    "print(f'start_date: {start_date} / end_date: {end_date}')\n",
    "\n",
    "\n"
   ]
  },
  {
   "cell_type": "code",
   "execution_count": 34,
   "id": "03996f05-ebe1-44e2-9a1d-2ba28fd65844",
   "metadata": {},
   "outputs": [],
   "source": [
    "# Включаем отображение всех колонок\n",
    "pd.set_option('display.max_columns', None)\n",
    "# Задаем ширину столбцов по контенту\n",
    "pd.set_option('display.max_colwidth', None)\n",
    "pd.set_option('display.max_rows', None)\n",
    "\n",
    "warnings.simplefilter(action='ignore', category=FutureWarning)\n",
    "# убираем лишние предупреждения\n",
    "pd.set_option('mode.chained_assignment', None)\n",
    "\n",
    "sep_str = '*' * 50"
   ]
  },
  {
   "cell_type": "code",
   "execution_count": 58,
   "id": "14492467-32be-412e-84e2-28bbdb759a11",
   "metadata": {},
   "outputs": [],
   "source": [
    "# создаем функцию, которая вернет номер месяца от начальной даты отсчета\n",
    "def get_mon_num_from_date(curr_date, start_of_the_time):\n",
    "    # с помощью метода relativedelta получаем кол-во лет и месяцев от даты начала до текущей даты\n",
    "    relative_date = relativedelta.relativedelta(curr_date, start_of_the_time)\n",
    "    # теперь нужно получить номер текущего месяца от даты начала\n",
    "    months_count = relative_date.years * 12 + relative_date.months\n",
    "    \n",
    "    return months_count"
   ]
  },
  {
   "cell_type": "code",
   "execution_count": 61,
   "id": "1409e730-82c2-4a3b-83b3-491331047456",
   "metadata": {},
   "outputs": [
    {
     "name": "stdout",
     "output_type": "stream",
     "text": [
      "396\n"
     ]
    }
   ],
   "source": [
    "print(get_mon_num_from_date(start_date, start_of_the_time))"
   ]
  },
  {
   "cell_type": "code",
   "execution_count": 35,
   "id": "b5086d50-e9b4-4699-8961-07a33f42df64",
   "metadata": {},
   "outputs": [],
   "source": [
    "query = f\"select * from tv_Ad where vid='4404947'\""
   ]
  },
  {
   "cell_type": "code",
   "execution_count": 36,
   "id": "1ad96f41-b0d3-4c63-9bdb-0343d2a0ffb7",
   "metadata": {},
   "outputs": [
    {
     "name": "stdout",
     "output_type": "stream",
     "text": [
      "Все ок. Подключились!\n",
      "Загрузка завершена успешно\n"
     ]
    }
   ],
   "source": [
    "df = get_mssql_table(config.investments_db_name, query=query, conn_lst=config.conn_lst)"
   ]
  },
  {
   "cell_type": "code",
   "execution_count": 37,
   "id": "6aadf6ed-86f4-4025-a1be-a29a091a680a",
   "metadata": {},
   "outputs": [
    {
     "data": {
      "text/html": [
       "<div>\n",
       "<style scoped>\n",
       "    .dataframe tbody tr th:only-of-type {\n",
       "        vertical-align: middle;\n",
       "    }\n",
       "\n",
       "    .dataframe tbody tr th {\n",
       "        vertical-align: top;\n",
       "    }\n",
       "\n",
       "    .dataframe thead th {\n",
       "        text-align: right;\n",
       "    }\n",
       "</style>\n",
       "<table border=\"1\" class=\"dataframe\">\n",
       "  <thead>\n",
       "    <tr style=\"text-align: right;\">\n",
       "      <th></th>\n",
       "      <th>vid</th>\n",
       "      <th>name</th>\n",
       "      <th>ename</th>\n",
       "      <th>notes</th>\n",
       "      <th>atid</th>\n",
       "      <th>stdur</th>\n",
       "      <th>alid</th>\n",
       "      <th>blid</th>\n",
       "      <th>mlid</th>\n",
       "      <th>slid2</th>\n",
       "      <th>slid3</th>\n",
       "      <th>slid4</th>\n",
       "      <th>fiss</th>\n",
       "      <th>sblid</th>\n",
       "      <th>slaid</th>\n",
       "      <th>slvid</th>\n",
       "      <th>stid</th>\n",
       "      <th>alidm</th>\n",
       "      <th>blidm</th>\n",
       "      <th>mlidm</th>\n",
       "      <th>slid2m</th>\n",
       "      <th>slid3m</th>\n",
       "      <th>slid4m</th>\n",
       "      <th>sblidm</th>\n",
       "      <th>agrid</th>\n",
       "      <th>qr</th>\n",
       "      <th>qr_dur</th>\n",
       "      <th>qr_url</th>\n",
       "    </tr>\n",
       "  </thead>\n",
       "  <tbody>\n",
       "    <tr>\n",
       "      <th>0</th>\n",
       "      <td>4404947</td>\n",
       "      <td>WILDBERRIES - (ADIDAS  ,   55%) www</td>\n",
       "      <td>WILDBERRIES internet-shop (ADIDAS sports clothing, discount to 55%) www</td>\n",
       "      <td>., www, , ., , 4 ., , ., www</td>\n",
       "      <td>1</td>\n",
       "      <td>10</td>\n",
       "      <td>565082</td>\n",
       "      <td>2046493</td>\n",
       "      <td>4919449</td>\n",
       "      <td>50125</td>\n",
       "      <td>150232</td>\n",
       "      <td>421513</td>\n",
       "      <td>20230102</td>\n",
       "      <td>1115769</td>\n",
       "      <td>1</td>\n",
       "      <td>1</td>\n",
       "      <td>9</td>\n",
       "      <td>565082</td>\n",
       "      <td>2046493</td>\n",
       "      <td>4919449</td>\n",
       "      <td>50125</td>\n",
       "      <td>150232</td>\n",
       "      <td>421513</td>\n",
       "      <td>1115769</td>\n",
       "      <td>0</td>\n",
       "      <td>N</td>\n",
       "      <td>0</td>\n",
       "      <td></td>\n",
       "    </tr>\n",
       "  </tbody>\n",
       "</table>\n",
       "</div>"
      ],
      "text/plain": [
       "       vid                                 name  \\\n",
       "0  4404947  WILDBERRIES - (ADIDAS  ,   55%) www   \n",
       "\n",
       "                                                                     ename  \\\n",
       "0  WILDBERRIES internet-shop (ADIDAS sports clothing, discount to 55%) www   \n",
       "\n",
       "                          notes  atid  stdur    alid     blid     mlid  slid2  \\\n",
       "0  ., www, , ., , 4 ., , ., www     1     10  565082  2046493  4919449  50125   \n",
       "\n",
       "    slid3   slid4      fiss    sblid  slaid  slvid  stid   alidm    blidm  \\\n",
       "0  150232  421513  20230102  1115769      1      1     9  565082  2046493   \n",
       "\n",
       "     mlidm  slid2m  slid3m  slid4m   sblidm  agrid qr  qr_dur qr_url  \n",
       "0  4919449   50125  150232  421513  1115769      0  N       0         "
      ]
     },
     "execution_count": 37,
     "metadata": {},
     "output_type": "execute_result"
    }
   ],
   "source": [
    "df"
   ]
  },
  {
   "cell_type": "code",
   "execution_count": 38,
   "id": "bc7a553e-a1d6-4d49-aa03-ffbcfbd2f450",
   "metadata": {},
   "outputs": [
    {
     "name": "stdout",
     "output_type": "stream",
     "text": [
      "Все ок. Подключились!\n",
      "Загрузка завершена успешно\n"
     ]
    }
   ],
   "source": [
    "query = f\"select * from BrandList where blid='2046493'\"\n",
    "df = get_mssql_table(config.investments_db_name, query=query, conn_lst=config.conn_lst)"
   ]
  },
  {
   "cell_type": "code",
   "execution_count": 39,
   "id": "c302e8ac-37d0-43db-a079-abdc9b01504d",
   "metadata": {},
   "outputs": [
    {
     "data": {
      "text/html": [
       "<div>\n",
       "<style scoped>\n",
       "    .dataframe tbody tr th:only-of-type {\n",
       "        vertical-align: middle;\n",
       "    }\n",
       "\n",
       "    .dataframe tbody tr th {\n",
       "        vertical-align: top;\n",
       "    }\n",
       "\n",
       "    .dataframe thead th {\n",
       "        text-align: right;\n",
       "    }\n",
       "</style>\n",
       "<table border=\"1\" class=\"dataframe\">\n",
       "  <thead>\n",
       "    <tr style=\"text-align: right;\">\n",
       "      <th></th>\n",
       "      <th>blid</th>\n",
       "      <th>name</th>\n",
       "      <th>ename</th>\n",
       "    </tr>\n",
       "  </thead>\n",
       "  <tbody>\n",
       "    <tr>\n",
       "      <th>0</th>\n",
       "      <td>2046493</td>\n",
       "      <td>ADIDAS; WILDBERRIES</td>\n",
       "      <td>ADIDAS; WILDBERRIES</td>\n",
       "    </tr>\n",
       "  </tbody>\n",
       "</table>\n",
       "</div>"
      ],
      "text/plain": [
       "      blid                 name                ename\n",
       "0  2046493  ADIDAS; WILDBERRIES  ADIDAS; WILDBERRIES"
      ]
     },
     "execution_count": 39,
     "metadata": {},
     "output_type": "execute_result"
    }
   ],
   "source": [
    "df"
   ]
  },
  {
   "cell_type": "code",
   "execution_count": 40,
   "id": "42875351-b70c-4099-a313-de29d0a75218",
   "metadata": {},
   "outputs": [
    {
     "name": "stdout",
     "output_type": "stream",
     "text": [
      "Все ок. Подключились!\n",
      "Загрузка завершена успешно\n"
     ]
    }
   ],
   "source": [
    "query = f\"select * from tv_Appendix where vid='4404947'\"\n",
    "df = get_mssql_table(config.investments_db_name, query=query, conn_lst=config.conn_lst)"
   ]
  },
  {
   "cell_type": "code",
   "execution_count": 41,
   "id": "c92277be-b5a8-426a-af9b-d534252bdd10",
   "metadata": {},
   "outputs": [
    {
     "data": {
      "text/html": [
       "<div>\n",
       "<style scoped>\n",
       "    .dataframe tbody tr th:only-of-type {\n",
       "        vertical-align: middle;\n",
       "    }\n",
       "\n",
       "    .dataframe tbody tr th {\n",
       "        vertical-align: top;\n",
       "    }\n",
       "\n",
       "    .dataframe thead th {\n",
       "        text-align: right;\n",
       "    }\n",
       "</style>\n",
       "<table border=\"1\" class=\"dataframe\">\n",
       "  <thead>\n",
       "    <tr style=\"text-align: right;\">\n",
       "      <th></th>\n",
       "      <th>vid</th>\n",
       "      <th>mid</th>\n",
       "      <th>aid</th>\n",
       "      <th>sid2</th>\n",
       "      <th>sid3</th>\n",
       "      <th>sid4</th>\n",
       "      <th>sbid</th>\n",
       "      <th>bid</th>\n",
       "      <th>main</th>\n",
       "    </tr>\n",
       "  </thead>\n",
       "  <tbody>\n",
       "    <tr>\n",
       "      <th>0</th>\n",
       "      <td>4404947</td>\n",
       "      <td>29674</td>\n",
       "      <td>428800</td>\n",
       "      <td>59</td>\n",
       "      <td>4369</td>\n",
       "      <td>684</td>\n",
       "      <td>3770</td>\n",
       "      <td>189</td>\n",
       "      <td>Y</td>\n",
       "    </tr>\n",
       "    <tr>\n",
       "      <th>1</th>\n",
       "      <td>4404947</td>\n",
       "      <td>2716138</td>\n",
       "      <td>428800</td>\n",
       "      <td>2587</td>\n",
       "      <td>4892</td>\n",
       "      <td>4977</td>\n",
       "      <td>556193</td>\n",
       "      <td>568656</td>\n",
       "      <td>Y</td>\n",
       "    </tr>\n",
       "  </tbody>\n",
       "</table>\n",
       "</div>"
      ],
      "text/plain": [
       "       vid      mid     aid  sid2  sid3  sid4    sbid     bid main\n",
       "0  4404947    29674  428800    59  4369   684    3770     189    Y\n",
       "1  4404947  2716138  428800  2587  4892  4977  556193  568656    Y"
      ]
     },
     "execution_count": 41,
     "metadata": {},
     "output_type": "execute_result"
    }
   ],
   "source": [
    "df"
   ]
  },
  {
   "cell_type": "code",
   "execution_count": 42,
   "id": "f5562f30-ed90-4858-b205-e614eaae45aa",
   "metadata": {},
   "outputs": [
    {
     "name": "stdout",
     "output_type": "stream",
     "text": [
      "Все ок. Подключились!\n",
      "Загрузка завершена успешно\n"
     ]
    }
   ],
   "source": [
    "query = f\"select * from Brand where bid='568656'\"\n",
    "df = get_mssql_table(config.investments_db_name, query=query, conn_lst=config.conn_lst)"
   ]
  },
  {
   "cell_type": "code",
   "execution_count": 43,
   "id": "9ee19112-f834-40a1-9da9-7b6779c3d92a",
   "metadata": {},
   "outputs": [
    {
     "data": {
      "text/html": [
       "<div>\n",
       "<style scoped>\n",
       "    .dataframe tbody tr th:only-of-type {\n",
       "        vertical-align: middle;\n",
       "    }\n",
       "\n",
       "    .dataframe tbody tr th {\n",
       "        vertical-align: top;\n",
       "    }\n",
       "\n",
       "    .dataframe thead th {\n",
       "        text-align: right;\n",
       "    }\n",
       "</style>\n",
       "<table border=\"1\" class=\"dataframe\">\n",
       "  <thead>\n",
       "    <tr style=\"text-align: right;\">\n",
       "      <th></th>\n",
       "      <th>bid</th>\n",
       "      <th>name</th>\n",
       "      <th>ename</th>\n",
       "      <th>notes</th>\n",
       "    </tr>\n",
       "  </thead>\n",
       "  <tbody>\n",
       "    <tr>\n",
       "      <th>0</th>\n",
       "      <td>568656</td>\n",
       "      <td>WILDBERRIES</td>\n",
       "      <td>WILDBERRIES</td>\n",
       "      <td>-</td>\n",
       "    </tr>\n",
       "  </tbody>\n",
       "</table>\n",
       "</div>"
      ],
      "text/plain": [
       "      bid         name        ename notes\n",
       "0  568656  WILDBERRIES  WILDBERRIES     -"
      ]
     },
     "execution_count": 43,
     "metadata": {},
     "output_type": "execute_result"
    }
   ],
   "source": [
    "df"
   ]
  },
  {
   "cell_type": "code",
   "execution_count": 67,
   "id": "fe32050c-e277-488c-bcbd-441dfbdddde5",
   "metadata": {},
   "outputs": [
    {
     "name": "stdout",
     "output_type": "stream",
     "text": [
      "Все ок. Подключились!\n",
      "Загрузка завершена успешно\n"
     ]
    }
   ],
   "source": [
    "query = f\"\"\"select \n",
    "* \n",
    "from tv_Ad_month t1 \n",
    "where t1.mon='396' and t1.vid='4404947'  \n",
    "\"\"\"\n",
    "df = get_mssql_table(config.investments_db_name, query=query, conn_lst=config.conn_lst)"
   ]
  },
  {
   "cell_type": "code",
   "execution_count": 68,
   "id": "2224eee9-fd56-447c-ac5d-08c79fd9a067",
   "metadata": {},
   "outputs": [
    {
     "data": {
      "text/plain": [
       "(448, 20)"
      ]
     },
     "execution_count": 68,
     "metadata": {},
     "output_type": "execute_result"
    }
   ],
   "source": [
    "df.shape"
   ]
  },
  {
   "cell_type": "code",
   "execution_count": null,
   "id": "a4d56ef7-29fd-46d1-92a5-05a718affc54",
   "metadata": {},
   "outputs": [],
   "source": [
    "left join tv_Appendix t2 \n",
    "on t1.vid=t2.vid\n",
    "(t2.sid2 in (2408, 4780, 4926, 5028) or t2.sbid in (137166, 489562, 494633, 556193, 872285, 966983, 1155675, 1245528))\n",
    "and t2.bid='568656'"
   ]
  },
  {
   "cell_type": "code",
   "execution_count": 79,
   "id": "09802bef-15dd-4d10-8422-c4d800089225",
   "metadata": {},
   "outputs": [
    {
     "name": "stdout",
     "output_type": "stream",
     "text": [
      "Все ок. Подключились!\n",
      "Загрузка завершена успешно\n"
     ]
    }
   ],
   "source": [
    "query = f\"\"\"select \n",
    "t1.vid, t2.bid, t3.blid\n",
    "from tv_Ad_month t1 left join tv_Appendix t2 \n",
    "on t1.vid=t2.vid\n",
    "left join tv_Ad t3\n",
    "on t1.vid=t3.vid\n",
    "where t1.mon='396' and t1.vid='4404947'  and \n",
    "(t2.sid2 in (2408, 4780, 4926, 5028) or t2.sbid in (137166, 489562, 494633, 556193, 872285, 966983, 1155675, 1245528))\n",
    "\"\"\"\n",
    "df = get_mssql_table(config.investments_db_name, query=query, conn_lst=config.conn_lst)"
   ]
  },
  {
   "cell_type": "code",
   "execution_count": 80,
   "id": "5ce4e053-4e9c-4883-b73b-19842a4407f7",
   "metadata": {},
   "outputs": [
    {
     "data": {
      "text/plain": [
       "(448, 3)"
      ]
     },
     "execution_count": 80,
     "metadata": {},
     "output_type": "execute_result"
    }
   ],
   "source": [
    "df.shape"
   ]
  },
  {
   "cell_type": "code",
   "execution_count": 81,
   "id": "a29e988c-901d-4f54-b9fa-69ad6d01bf3e",
   "metadata": {},
   "outputs": [
    {
     "data": {
      "text/html": [
       "<div>\n",
       "<style scoped>\n",
       "    .dataframe tbody tr th:only-of-type {\n",
       "        vertical-align: middle;\n",
       "    }\n",
       "\n",
       "    .dataframe tbody tr th {\n",
       "        vertical-align: top;\n",
       "    }\n",
       "\n",
       "    .dataframe thead th {\n",
       "        text-align: right;\n",
       "    }\n",
       "</style>\n",
       "<table border=\"1\" class=\"dataframe\">\n",
       "  <thead>\n",
       "    <tr style=\"text-align: right;\">\n",
       "      <th></th>\n",
       "      <th>vid</th>\n",
       "      <th>bid</th>\n",
       "      <th>blid</th>\n",
       "    </tr>\n",
       "  </thead>\n",
       "  <tbody>\n",
       "    <tr>\n",
       "      <th>0</th>\n",
       "      <td>4404947</td>\n",
       "      <td>568656</td>\n",
       "      <td>2046493</td>\n",
       "    </tr>\n",
       "    <tr>\n",
       "      <th>1</th>\n",
       "      <td>4404947</td>\n",
       "      <td>568656</td>\n",
       "      <td>2046493</td>\n",
       "    </tr>\n",
       "  </tbody>\n",
       "</table>\n",
       "</div>"
      ],
      "text/plain": [
       "       vid     bid     blid\n",
       "0  4404947  568656  2046493\n",
       "1  4404947  568656  2046493"
      ]
     },
     "execution_count": 81,
     "metadata": {},
     "output_type": "execute_result"
    }
   ],
   "source": [
    "df.head(2)"
   ]
  },
  {
   "cell_type": "code",
   "execution_count": 82,
   "id": "281fe84f-aac8-4ef0-b1b1-7cb9785292c5",
   "metadata": {},
   "outputs": [
    {
     "data": {
      "text/plain": [
       "0    568656\n",
       "Name: bid, dtype: int64"
      ]
     },
     "execution_count": 82,
     "metadata": {},
     "output_type": "execute_result"
    }
   ],
   "source": [
    "df['bid'].drop_duplicates()"
   ]
  },
  {
   "cell_type": "code",
   "execution_count": null,
   "id": "26c82354-e21e-45a0-8607-51611d5f4874",
   "metadata": {},
   "outputs": [],
   "source": []
  },
  {
   "cell_type": "code",
   "execution_count": null,
   "id": "bcb2b171-1193-44b3-8f52-2a8aaccfb30a",
   "metadata": {},
   "outputs": [],
   "source": []
  },
  {
   "cell_type": "code",
   "execution_count": 15,
   "id": "074d21f5-6982-4e32-85de-2c4b76cdaa36",
   "metadata": {},
   "outputs": [
    {
     "name": "stdout",
     "output_type": "stream",
     "text": [
      "start_date: 2023-01-01 / end_date: 2023-01-02\n"
     ]
    }
   ],
   "source": []
  },
  {
   "cell_type": "code",
   "execution_count": 13,
   "id": "bdef61cd-e5a9-462e-ac46-e278144db65a",
   "metadata": {},
   "outputs": [],
   "source": []
  },
  {
   "cell_type": "code",
   "execution_count": 57,
   "id": "00b0d315-1aa1-48bf-9338-abe5d6828340",
   "metadata": {},
   "outputs": [
    {
     "name": "stdout",
     "output_type": "stream",
     "text": [
      "360\n"
     ]
    }
   ],
   "source": []
  },
  {
   "cell_type": "code",
   "execution_count": null,
   "id": "328b1eb7-893d-4b03-8cfa-872671c16b84",
   "metadata": {},
   "outputs": [],
   "source": [
    "\n",
    "segments_main_link = 'https://docs.google.com/spreadsheets/d/e/2PACX-1vR2WJjY1kEsKluiXddRiFrqKFOVGO06eJY4CVt33OhJ7KdALHHr3sYsqXyeoVxmNI08VNUP6mAlnQKt/pub?gid=0&single=true&output=csv'\n",
    "\n",
    "media_type_detail_link = 'https://docs.google.com/spreadsheets/d/e/2PACX-1vTmkq1SXPqmHqCx9MfiMlbf3nV3PRKctT0r1RItnLxnKt7MYzBg56V99obmqbjWek3ux8gdjhvLQR8E/pub?gid=0&single=true&output=csv'\n",
    "\n",
    "tv_net_group_link = 'https://docs.google.com/spreadsheets/d/e/2PACX-1vTvelFTRLTMGnlLWLmXvLXRLVdBe7magXnTfncl72nXYN0l6s2NfPLLe-M2ipdpV94JesJ-ZuA6lejj/pub?gid=0&single=true&output=csv'"
   ]
  },
  {
   "cell_type": "code",
   "execution_count": null,
   "id": "32dde4b4-04f8-4944-8b9a-d4e6bb57e1c0",
   "metadata": {},
   "outputs": [],
   "source": [
    "df = get_mssql_table(db_name, table_name='', query='')"
   ]
  }
 ],
 "metadata": {
  "kernelspec": {
   "display_name": "Python 3 (ipykernel)",
   "language": "python",
   "name": "python3"
  },
  "language_info": {
   "codemirror_mode": {
    "name": "ipython",
    "version": 3
   },
   "file_extension": ".py",
   "mimetype": "text/x-python",
   "name": "python",
   "nbconvert_exporter": "python",
   "pygments_lexer": "ipython3",
   "version": "3.11.7"
  }
 },
 "nbformat": 4,
 "nbformat_minor": 5
}
